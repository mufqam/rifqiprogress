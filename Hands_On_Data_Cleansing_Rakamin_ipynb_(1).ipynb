{
  "nbformat": 4,
  "nbformat_minor": 0,
  "metadata": {
    "colab": {
      "provenance": [],
      "include_colab_link": true
    },
    "kernelspec": {
      "name": "python3",
      "display_name": "Python 3"
    },
    "language_info": {
      "name": "python"
    }
  },
  "cells": [
    {
      "cell_type": "markdown",
      "metadata": {
        "id": "view-in-github",
        "colab_type": "text"
      },
      "source": [
        "<a href=\"https://colab.research.google.com/github/mufqam/rifqiprogress/blob/mufqam/Hands_On_Data_Cleansing_Rakamin_ipynb_(1).ipynb\" target=\"_parent\"><img src=\"https://colab.research.google.com/assets/colab-badge.svg\" alt=\"Open In Colab\"/></a>"
      ]
    },
    {
      "cell_type": "markdown",
      "source": [
        "\n",
        "# Hands-On Data Cleansing\n",
        "Rakamin - 19 Dec 2021"
      ],
      "metadata": {
        "id": "2RhNhYNxzo6Q"
      }
    },
    {
      "cell_type": "markdown",
      "metadata": {
        "id": "PJz1N2hpddiG"
      },
      "source": [
        "# Import Libraries"
      ]
    },
    {
      "cell_type": "code",
      "source": [
        "from google.colab import drive\n",
        "drive.mount('/content/drive')"
      ],
      "metadata": {
        "colab": {
          "base_uri": "https://localhost:8080/"
        },
        "id": "I-Ygmj6Sd7dE",
        "outputId": "ef89f1c9-deaa-4bc8-ec56-137a8ab6f904"
      },
      "execution_count": null,
      "outputs": [
        {
          "output_type": "stream",
          "name": "stdout",
          "text": [
            "Mounted at /content/drive\n"
          ]
        }
      ]
    },
    {
      "cell_type": "code",
      "metadata": {
        "id": "R0d8-03-cuFE"
      },
      "source": [
        "import numpy as np\n",
        "import pandas as pd\n",
        "import matplotlib.pyplot as plt\n",
        "import seaborn as sns"
      ],
      "execution_count": null,
      "outputs": []
    },
    {
      "cell_type": "markdown",
      "metadata": {
        "id": "L-aiwRvGul7R"
      },
      "source": [
        "# Load Dataset"
      ]
    },
    {
      "cell_type": "code",
      "metadata": {
        "id": "mBoNRgpaumf4",
        "colab": {
          "base_uri": "https://localhost:8080/",
          "height": 159
        },
        "outputId": "c2e6adbc-4b1f-4752-e39d-19ae138ed6f6"
      },
      "source": [
        "# change the path according to your file location in your Google Drive\n",
        "df = pd.read_csv('/content/drive/MyDrive/Rakamin/data/botak.csv')"
      ],
      "execution_count": null,
      "outputs": [
        {
          "output_type": "error",
          "ename": "NameError",
          "evalue": "name 'pd' is not defined",
          "traceback": [
            "\u001b[0;31m---------------------------------------------------------------------------\u001b[0m",
            "\u001b[0;31mNameError\u001b[0m                                 Traceback (most recent call last)",
            "\u001b[0;32m<ipython-input-2-613e2018ef6e>\u001b[0m in \u001b[0;36m<cell line: 2>\u001b[0;34m()\u001b[0m\n\u001b[1;32m      1\u001b[0m \u001b[0;31m# change the path according to your file location in your Google Drive\u001b[0m\u001b[0;34m\u001b[0m\u001b[0;34m\u001b[0m\u001b[0m\n\u001b[0;32m----> 2\u001b[0;31m \u001b[0mdf\u001b[0m \u001b[0;34m=\u001b[0m \u001b[0mpd\u001b[0m\u001b[0;34m.\u001b[0m\u001b[0mread_csv\u001b[0m\u001b[0;34m(\u001b[0m\u001b[0;34m'/content/drive/MyDrive/Rakamin/data/botak.csv'\u001b[0m\u001b[0;34m)\u001b[0m\u001b[0;34m\u001b[0m\u001b[0;34m\u001b[0m\u001b[0m\n\u001b[0m",
            "\u001b[0;31mNameError\u001b[0m: name 'pd' is not defined"
          ]
        }
      ]
    },
    {
      "cell_type": "code",
      "metadata": {
        "id": "WpHm2z-0q1l8",
        "colab": {
          "base_uri": "https://localhost:8080/"
        },
        "outputId": "3cc04b27-55ea-4990-d283-00ce803f31ec"
      },
      "source": [
        "# informasi general tentang dataframe\n",
        "df.info()"
      ],
      "execution_count": null,
      "outputs": [
        {
          "output_type": "stream",
          "name": "stdout",
          "text": [
            "<class 'pandas.core.frame.DataFrame'>\n",
            "RangeIndex: 7991 entries, 0 to 7990\n",
            "Data columns (total 13 columns):\n",
            " #   Column         Non-Null Count  Dtype  \n",
            "---  ------         --------------  -----  \n",
            " 0   umur           7991 non-null   float64\n",
            " 1   jenis_kelamin  7982 non-null   object \n",
            " 2   pekerjaan      7924 non-null   object \n",
            " 3   provinsi       7991 non-null   object \n",
            " 4   gaji           7968 non-null   float64\n",
            " 5   is_menikah     7991 non-null   int64  \n",
            " 6   is_keturunan   7976 non-null   float64\n",
            " 7   berat          7952 non-null   float64\n",
            " 8   tinggi         7991 non-null   float64\n",
            " 9   sampo          7934 non-null   object \n",
            " 10  is_merokok     7991 non-null   int64  \n",
            " 11  pendidikan     7991 non-null   object \n",
            " 12  botak_prob     7991 non-null   float64\n",
            "dtypes: float64(6), int64(2), object(5)\n",
            "memory usage: 811.7+ KB\n"
          ]
        }
      ]
    },
    {
      "cell_type": "markdown",
      "metadata": {
        "id": "AKy3JX7au0Zp"
      },
      "source": [
        "Pengamatan\\:\n",
        "1. Data terdiri dari 7991 baris\n",
        "2. Tampak beberapa kolom masih memiliki null/missing values (Non-Null Count < jumlah baris)\n",
        "3. Sepertinya tidak ada issue yang mencolok pada tipe data untuk setiap kolom (sudah sesuai)"
      ]
    },
    {
      "cell_type": "markdown",
      "metadata": {
        "id": "pn4NevFcvaaR"
      },
      "source": [
        "## Cuplikan Data"
      ]
    },
    {
      "cell_type": "code",
      "metadata": {
        "id": "tv2j2hY4vfBD",
        "colab": {
          "base_uri": "https://localhost:8080/",
          "height": 261
        },
        "outputId": "a9495933-6047-4e2c-d29e-38e4bcb6cadd"
      },
      "source": [
        "# 5 baris teratas dari data\n",
        "df.head()"
      ],
      "execution_count": null,
      "outputs": [
        {
          "output_type": "execute_result",
          "data": {
            "text/html": [
              "<div>\n",
              "<style scoped>\n",
              "    .dataframe tbody tr th:only-of-type {\n",
              "        vertical-align: middle;\n",
              "    }\n",
              "\n",
              "    .dataframe tbody tr th {\n",
              "        vertical-align: top;\n",
              "    }\n",
              "\n",
              "    .dataframe thead th {\n",
              "        text-align: right;\n",
              "    }\n",
              "</style>\n",
              "<table border=\"1\" class=\"dataframe\">\n",
              "  <thead>\n",
              "    <tr style=\"text-align: right;\">\n",
              "      <th></th>\n",
              "      <th>umur</th>\n",
              "      <th>jenis_kelamin</th>\n",
              "      <th>pekerjaan</th>\n",
              "      <th>provinsi</th>\n",
              "      <th>gaji</th>\n",
              "      <th>is_menikah</th>\n",
              "      <th>is_keturunan</th>\n",
              "      <th>berat</th>\n",
              "      <th>tinggi</th>\n",
              "      <th>sampo</th>\n",
              "      <th>is_merokok</th>\n",
              "      <th>pendidikan</th>\n",
              "      <th>botak_prob</th>\n",
              "    </tr>\n",
              "  </thead>\n",
              "  <tbody>\n",
              "    <tr>\n",
              "      <th>0</th>\n",
              "      <td>42.0</td>\n",
              "      <td>Laki-laki</td>\n",
              "      <td>PNS</td>\n",
              "      <td>Padang</td>\n",
              "      <td>7.864005e+06</td>\n",
              "      <td>0</td>\n",
              "      <td>0.0</td>\n",
              "      <td>61.928685</td>\n",
              "      <td>152.174164</td>\n",
              "      <td>Deadbuoy</td>\n",
              "      <td>1</td>\n",
              "      <td>S1</td>\n",
              "      <td>0.487655</td>\n",
              "    </tr>\n",
              "    <tr>\n",
              "      <th>1</th>\n",
              "      <td>33.0</td>\n",
              "      <td>Laki-laki</td>\n",
              "      <td>Pegawai swasta</td>\n",
              "      <td>Palangkaraya</td>\n",
              "      <td>6.492662e+06</td>\n",
              "      <td>0</td>\n",
              "      <td>0.0</td>\n",
              "      <td>49.374507</td>\n",
              "      <td>152.822969</td>\n",
              "      <td>Moonsilk</td>\n",
              "      <td>1</td>\n",
              "      <td>SMA</td>\n",
              "      <td>0.297270</td>\n",
              "    </tr>\n",
              "    <tr>\n",
              "      <th>2</th>\n",
              "      <td>59.0</td>\n",
              "      <td>Laki-laki</td>\n",
              "      <td>Freelance</td>\n",
              "      <td>Serang</td>\n",
              "      <td>8.086303e+06</td>\n",
              "      <td>1</td>\n",
              "      <td>0.0</td>\n",
              "      <td>59.072807</td>\n",
              "      <td>159.911047</td>\n",
              "      <td>Merpati</td>\n",
              "      <td>1</td>\n",
              "      <td>S1</td>\n",
              "      <td>0.467848</td>\n",
              "    </tr>\n",
              "    <tr>\n",
              "      <th>3</th>\n",
              "      <td>38.0</td>\n",
              "      <td>Laki-laki</td>\n",
              "      <td>Pegawai swasta</td>\n",
              "      <td>Gorontalo</td>\n",
              "      <td>1.147321e+07</td>\n",
              "      <td>0</td>\n",
              "      <td>1.0</td>\n",
              "      <td>68.338014</td>\n",
              "      <td>162.558997</td>\n",
              "      <td>Moonsilk</td>\n",
              "      <td>0</td>\n",
              "      <td>S1</td>\n",
              "      <td>0.616418</td>\n",
              "    </tr>\n",
              "    <tr>\n",
              "      <th>4</th>\n",
              "      <td>33.0</td>\n",
              "      <td>Perempuan</td>\n",
              "      <td>Freelance</td>\n",
              "      <td>Tanjungselor</td>\n",
              "      <td>1.475942e+07</td>\n",
              "      <td>0</td>\n",
              "      <td>0.0</td>\n",
              "      <td>53.769996</td>\n",
              "      <td>154.579510</td>\n",
              "      <td>Pantone</td>\n",
              "      <td>1</td>\n",
              "      <td>S2</td>\n",
              "      <td>0.115439</td>\n",
              "    </tr>\n",
              "  </tbody>\n",
              "</table>\n",
              "</div>"
            ],
            "text/plain": [
              "   umur jenis_kelamin       pekerjaan  ... is_merokok  pendidikan  botak_prob\n",
              "0  42.0     Laki-laki             PNS  ...          1          S1    0.487655\n",
              "1  33.0     Laki-laki  Pegawai swasta  ...          1         SMA    0.297270\n",
              "2  59.0     Laki-laki       Freelance  ...          1          S1    0.467848\n",
              "3  38.0     Laki-laki  Pegawai swasta  ...          0          S1    0.616418\n",
              "4  33.0     Perempuan       Freelance  ...          1          S2    0.115439\n",
              "\n",
              "[5 rows x 13 columns]"
            ]
          },
          "metadata": {},
          "execution_count": 5
        }
      ]
    },
    {
      "cell_type": "code",
      "source": [
        "# pengelompokan kolom berdasarkan jenisnya\n",
        "nums = ['umur', 'gaji', 'is_menikah', 'is_keturunan', 'berat', 'tinggi', 'is_merokok', 'botak_prob']\n",
        "cats = ['jenis_kelamin', 'pekerjaan', 'provinsi', 'sampo', 'pendidikan']"
      ],
      "metadata": {
        "id": "ej4rFhangauP"
      },
      "execution_count": null,
      "outputs": []
    },
    {
      "cell_type": "markdown",
      "metadata": {
        "id": "6_er5f0MuCR2"
      },
      "source": [
        "# Missing Data"
      ]
    },
    {
      "cell_type": "code",
      "metadata": {
        "id": "-nFiCGgquD1e",
        "colab": {
          "base_uri": "https://localhost:8080/"
        },
        "outputId": "1b418f04-8677-4417-e762-6d485c93f3ab"
      },
      "source": [
        "# jumlah entry NULL di setiap kolom\n",
        "df.isna().sum()"
      ],
      "execution_count": null,
      "outputs": [
        {
          "output_type": "execute_result",
          "data": {
            "text/plain": [
              "umur              0\n",
              "jenis_kelamin     9\n",
              "pekerjaan        67\n",
              "provinsi          0\n",
              "gaji             23\n",
              "is_menikah        0\n",
              "is_keturunan     15\n",
              "berat            39\n",
              "tinggi            0\n",
              "sampo            57\n",
              "is_merokok        0\n",
              "pendidikan        0\n",
              "botak_prob        0\n",
              "dtype: int64"
            ]
          },
          "metadata": {},
          "execution_count": 7
        }
      ]
    },
    {
      "cell_type": "code",
      "metadata": {
        "id": "JRcPcEP9vykj"
      },
      "source": [
        "# drop baris dengan missing values\n",
        "df = df.dropna()\n"
      ],
      "execution_count": null,
      "outputs": []
    },
    {
      "cell_type": "code",
      "source": [
        "# cek apakah sudah berhasil\n",
        "df.isna().sum()"
      ],
      "metadata": {
        "id": "93uPuyBefHfo",
        "colab": {
          "base_uri": "https://localhost:8080/"
        },
        "outputId": "0d14782e-ca39-4b25-d390-4c244d830ec2"
      },
      "execution_count": null,
      "outputs": [
        {
          "output_type": "execute_result",
          "data": {
            "text/plain": [
              "umur             0\n",
              "jenis_kelamin    0\n",
              "pekerjaan        0\n",
              "provinsi         0\n",
              "gaji             0\n",
              "is_menikah       0\n",
              "is_keturunan     0\n",
              "berat            0\n",
              "tinggi           0\n",
              "sampo            0\n",
              "is_merokok       0\n",
              "pendidikan       0\n",
              "botak_prob       0\n",
              "dtype: int64"
            ]
          },
          "metadata": {},
          "execution_count": 9
        }
      ]
    },
    {
      "cell_type": "markdown",
      "metadata": {
        "id": "a4Y2qV2QzRtl"
      },
      "source": [
        "# Duplicated Data"
      ]
    },
    {
      "cell_type": "code",
      "metadata": {
        "id": "xPYIlLV0y_w6",
        "colab": {
          "base_uri": "https://localhost:8080/"
        },
        "outputId": "e9634d0f-01d9-4994-9a5a-f55107804f6c"
      },
      "source": [
        "# cek jumlah duplicated rows\n",
        "# dari semua kolom\n",
        "df.duplicated().sum()"
      ],
      "execution_count": null,
      "outputs": [
        {
          "output_type": "execute_result",
          "data": {
            "text/plain": [
              "99"
            ]
          },
          "metadata": {},
          "execution_count": 10
        }
      ]
    },
    {
      "cell_type": "code",
      "metadata": {
        "id": "QbB8la0xzVwU",
        "colab": {
          "base_uri": "https://localhost:8080/"
        },
        "outputId": "f2a2e084-f3d2-4915-812b-1a8ef8ce5493"
      },
      "source": [
        "# drop duplicated rows\n",
        "print(df.duplicated().sum())\n",
        "df.drop_duplicates(inplace=True)\n",
        "print(df.duplicated().sum())"
      ],
      "execution_count": null,
      "outputs": [
        {
          "output_type": "stream",
          "name": "stdout",
          "text": [
            "99\n",
            "0\n"
          ]
        }
      ]
    },
    {
      "cell_type": "markdown",
      "metadata": {
        "id": "HbJBD6yxzcJP"
      },
      "source": [
        "# Outliers Handling\n",
        "Menggunakan konsep IQR"
      ]
    },
    {
      "cell_type": "code",
      "metadata": {
        "id": "4DR1BnKdzi-0",
        "colab": {
          "base_uri": "https://localhost:8080/"
        },
        "outputId": "1a700130-798e-4318-c54f-ff9410a8ee73"
      },
      "source": [
        "print(f'Jumlah baris sebelum memfilter outlier: {len(df)}')\n",
        "\n",
        "for col in ['umur','gaji', 'berat', 'tinggi']:\n",
        "  Q1 = df[col].quantile(0.25)\n",
        "  Q3 = df[col].quantile(0.75)\n",
        "  IQR = Q3-Q1\n",
        "  low_limit = Q1 - 1.5*IQR\n",
        "  high_limit = Q3 + 1.5*IQR\n",
        "  df = df[(df[col] >= low_limit) & (df[col] <= high_limit)]\n",
        "\n",
        "print(f'Jumlah baris setelah memfilter outlier: {len(df)}')"
      ],
      "execution_count": null,
      "outputs": [
        {
          "output_type": "stream",
          "name": "stdout",
          "text": [
            "Jumlah baris sebelum memfilter outlier: 7682\n",
            "Jumlah baris setelah memfilter outlier: 6989\n"
          ]
        }
      ]
    },
    {
      "cell_type": "markdown",
      "metadata": {
        "id": "vBB_vjMX06IC"
      },
      "source": [
        "# Feature Encoding"
      ]
    },
    {
      "cell_type": "code",
      "metadata": {
        "id": "IGIBn38P0HJm",
        "colab": {
          "base_uri": "https://localhost:8080/"
        },
        "outputId": "fcd944e1-db5f-4402-e95a-0cc8b7fdcf70"
      },
      "source": [
        "cats_updated = ['jenis_kelamin', 'pekerjaan', 'sampo', 'pendidikan']\n",
        "\n",
        "for col in cats_updated:\n",
        "  print(f'value counts of column {col}')\n",
        "  print(df[col].value_counts())\n",
        "  print('---'*10, '\\n')"
      ],
      "execution_count": null,
      "outputs": [
        {
          "output_type": "stream",
          "name": "stdout",
          "text": [
            "value counts of column jenis_kelamin\n",
            "Laki-laki    4651\n",
            "Perempuan    2338\n",
            "Name: jenis_kelamin, dtype: int64\n",
            "------------------------------ \n",
            "\n",
            "value counts of column pekerjaan\n",
            "PNS               2818\n",
            "Pegawai swasta    2797\n",
            "Freelance         1096\n",
            "Pengangguran       278\n",
            "Name: pekerjaan, dtype: int64\n",
            "------------------------------ \n",
            "\n",
            "value counts of column sampo\n",
            "Merpati            1448\n",
            "Pantone            1409\n",
            "Moonsilk           1384\n",
            "Deadbuoy           1381\n",
            "Shoulder & Head    1367\n",
            "Name: sampo, dtype: int64\n",
            "------------------------------ \n",
            "\n",
            "value counts of column pendidikan\n",
            "S1     3845\n",
            "SMA    1773\n",
            "S2      576\n",
            "SMP     475\n",
            "SD      191\n",
            "S3      129\n",
            "Name: pendidikan, dtype: int64\n",
            "------------------------------ \n",
            "\n"
          ]
        }
      ]
    },
    {
      "cell_type": "markdown",
      "metadata": {
        "id": "MplaGm-51szD"
      },
      "source": [
        "Strategi encoding\n",
        "* `jenis_kelamin` & `pendidikan` \\: label encoding\n",
        "* `pekerjaan` & 'sampo` \\: One Hot Encoding"
      ]
    },
    {
      "cell_type": "code",
      "metadata": {
        "id": "yK99BcTw0909"
      },
      "source": [
        "mapping_jenis_kelamin = {\n",
        "    'Perempuan' : 0,\n",
        "    'Laki-laki' : 1\n",
        "}\n",
        "\n",
        "mapping_pendidikan = {\n",
        "    'SD' : 0,\n",
        "    'SMP' : 1,\n",
        "    'SMA' : 2,\n",
        "    'S1' : 3,\n",
        "    'S2' : 4,\n",
        "    'S3' : 5\n",
        "}\n",
        "\n",
        "df['jenis_kelamin'] = df['jenis_kelamin'].map(mapping_jenis_kelamin)\n",
        "df['pendidikan'] = df['pendidikan'].map(mapping_pendidikan)"
      ],
      "execution_count": null,
      "outputs": []
    },
    {
      "cell_type": "code",
      "metadata": {
        "id": "XhUiF70g1F4U"
      },
      "source": [
        "# One hot encoder pekerjaan dan sampo\n",
        "# WARNING: run code ini sekali saja\n",
        "for cat in ['pekerjaan', 'sampo']:\n",
        "    onehots = pd.get_dummies(df[cat], prefix=cat)\n",
        "    df = df.join(onehots)"
      ],
      "execution_count": null,
      "outputs": []
    },
    {
      "cell_type": "markdown",
      "metadata": {
        "id": "w7PflWab4Vfl"
      },
      "source": [
        "# Drop kolom-kolom yang outdated"
      ]
    },
    {
      "cell_type": "code",
      "metadata": {
        "id": "FUDEXhtj3YIo"
      },
      "source": [
        "# drop kolom pekerjaan dan sampo yang asli (karena sudah di-encoding)\n",
        "df = df.drop(columns=['pekerjaan', 'sampo'])"
      ],
      "execution_count": null,
      "outputs": []
    },
    {
      "cell_type": "code",
      "metadata": {
        "id": "gJq4lcj83lJZ",
        "colab": {
          "base_uri": "https://localhost:8080/",
          "height": 243
        },
        "outputId": "23327b0e-8204-4d74-939f-e633178afa7a"
      },
      "source": [
        "df.head()"
      ],
      "execution_count": null,
      "outputs": [
        {
          "output_type": "execute_result",
          "data": {
            "text/html": [
              "<div>\n",
              "<style scoped>\n",
              "    .dataframe tbody tr th:only-of-type {\n",
              "        vertical-align: middle;\n",
              "    }\n",
              "\n",
              "    .dataframe tbody tr th {\n",
              "        vertical-align: top;\n",
              "    }\n",
              "\n",
              "    .dataframe thead th {\n",
              "        text-align: right;\n",
              "    }\n",
              "</style>\n",
              "<table border=\"1\" class=\"dataframe\">\n",
              "  <thead>\n",
              "    <tr style=\"text-align: right;\">\n",
              "      <th></th>\n",
              "      <th>umur</th>\n",
              "      <th>jenis_kelamin</th>\n",
              "      <th>provinsi</th>\n",
              "      <th>gaji</th>\n",
              "      <th>is_menikah</th>\n",
              "      <th>is_keturunan</th>\n",
              "      <th>berat</th>\n",
              "      <th>tinggi</th>\n",
              "      <th>is_merokok</th>\n",
              "      <th>pendidikan</th>\n",
              "      <th>botak_prob</th>\n",
              "      <th>pekerjaan_Freelance</th>\n",
              "      <th>pekerjaan_PNS</th>\n",
              "      <th>pekerjaan_Pegawai swasta</th>\n",
              "      <th>pekerjaan_Pengangguran</th>\n",
              "      <th>sampo_Deadbuoy</th>\n",
              "      <th>sampo_Merpati</th>\n",
              "      <th>sampo_Moonsilk</th>\n",
              "      <th>sampo_Pantone</th>\n",
              "      <th>sampo_Shoulder &amp; Head</th>\n",
              "    </tr>\n",
              "  </thead>\n",
              "  <tbody>\n",
              "    <tr>\n",
              "      <th>0</th>\n",
              "      <td>42.0</td>\n",
              "      <td>1</td>\n",
              "      <td>Padang</td>\n",
              "      <td>7.864005e+06</td>\n",
              "      <td>0</td>\n",
              "      <td>0.0</td>\n",
              "      <td>61.928685</td>\n",
              "      <td>152.174164</td>\n",
              "      <td>1</td>\n",
              "      <td>3</td>\n",
              "      <td>0.487655</td>\n",
              "      <td>0</td>\n",
              "      <td>1</td>\n",
              "      <td>0</td>\n",
              "      <td>0</td>\n",
              "      <td>1</td>\n",
              "      <td>0</td>\n",
              "      <td>0</td>\n",
              "      <td>0</td>\n",
              "      <td>0</td>\n",
              "    </tr>\n",
              "    <tr>\n",
              "      <th>1</th>\n",
              "      <td>33.0</td>\n",
              "      <td>1</td>\n",
              "      <td>Palangkaraya</td>\n",
              "      <td>6.492662e+06</td>\n",
              "      <td>0</td>\n",
              "      <td>0.0</td>\n",
              "      <td>49.374507</td>\n",
              "      <td>152.822969</td>\n",
              "      <td>1</td>\n",
              "      <td>2</td>\n",
              "      <td>0.297270</td>\n",
              "      <td>0</td>\n",
              "      <td>0</td>\n",
              "      <td>1</td>\n",
              "      <td>0</td>\n",
              "      <td>0</td>\n",
              "      <td>0</td>\n",
              "      <td>1</td>\n",
              "      <td>0</td>\n",
              "      <td>0</td>\n",
              "    </tr>\n",
              "    <tr>\n",
              "      <th>2</th>\n",
              "      <td>59.0</td>\n",
              "      <td>1</td>\n",
              "      <td>Serang</td>\n",
              "      <td>8.086303e+06</td>\n",
              "      <td>1</td>\n",
              "      <td>0.0</td>\n",
              "      <td>59.072807</td>\n",
              "      <td>159.911047</td>\n",
              "      <td>1</td>\n",
              "      <td>3</td>\n",
              "      <td>0.467848</td>\n",
              "      <td>1</td>\n",
              "      <td>0</td>\n",
              "      <td>0</td>\n",
              "      <td>0</td>\n",
              "      <td>0</td>\n",
              "      <td>1</td>\n",
              "      <td>0</td>\n",
              "      <td>0</td>\n",
              "      <td>0</td>\n",
              "    </tr>\n",
              "    <tr>\n",
              "      <th>3</th>\n",
              "      <td>38.0</td>\n",
              "      <td>1</td>\n",
              "      <td>Gorontalo</td>\n",
              "      <td>1.147321e+07</td>\n",
              "      <td>0</td>\n",
              "      <td>1.0</td>\n",
              "      <td>68.338014</td>\n",
              "      <td>162.558997</td>\n",
              "      <td>0</td>\n",
              "      <td>3</td>\n",
              "      <td>0.616418</td>\n",
              "      <td>0</td>\n",
              "      <td>0</td>\n",
              "      <td>1</td>\n",
              "      <td>0</td>\n",
              "      <td>0</td>\n",
              "      <td>0</td>\n",
              "      <td>1</td>\n",
              "      <td>0</td>\n",
              "      <td>0</td>\n",
              "    </tr>\n",
              "    <tr>\n",
              "      <th>4</th>\n",
              "      <td>33.0</td>\n",
              "      <td>0</td>\n",
              "      <td>Tanjungselor</td>\n",
              "      <td>1.475942e+07</td>\n",
              "      <td>0</td>\n",
              "      <td>0.0</td>\n",
              "      <td>53.769996</td>\n",
              "      <td>154.579510</td>\n",
              "      <td>1</td>\n",
              "      <td>4</td>\n",
              "      <td>0.115439</td>\n",
              "      <td>1</td>\n",
              "      <td>0</td>\n",
              "      <td>0</td>\n",
              "      <td>0</td>\n",
              "      <td>0</td>\n",
              "      <td>0</td>\n",
              "      <td>0</td>\n",
              "      <td>1</td>\n",
              "      <td>0</td>\n",
              "    </tr>\n",
              "  </tbody>\n",
              "</table>\n",
              "</div>"
            ],
            "text/plain": [
              "   umur  jenis_kelamin  ... sampo_Pantone  sampo_Shoulder & Head\n",
              "0  42.0              1  ...             0                      0\n",
              "1  33.0              1  ...             0                      0\n",
              "2  59.0              1  ...             0                      0\n",
              "3  38.0              1  ...             0                      0\n",
              "4  33.0              0  ...             1                      0\n",
              "\n",
              "[5 rows x 20 columns]"
            ]
          },
          "metadata": {},
          "execution_count": 17
        }
      ]
    },
    {
      "cell_type": "code",
      "metadata": {
        "id": "oCUKohFi4Il1",
        "colab": {
          "base_uri": "https://localhost:8080/"
        },
        "outputId": "ede3fe56-d960-4344-a4f6-28587d400978"
      },
      "source": [
        "df.info()"
      ],
      "execution_count": null,
      "outputs": [
        {
          "output_type": "stream",
          "name": "stdout",
          "text": [
            "<class 'pandas.core.frame.DataFrame'>\n",
            "Int64Index: 6989 entries, 0 to 7911\n",
            "Data columns (total 20 columns):\n",
            " #   Column                    Non-Null Count  Dtype  \n",
            "---  ------                    --------------  -----  \n",
            " 0   umur                      6989 non-null   float64\n",
            " 1   jenis_kelamin             6989 non-null   int64  \n",
            " 2   provinsi                  6989 non-null   object \n",
            " 3   gaji                      6989 non-null   float64\n",
            " 4   is_menikah                6989 non-null   int64  \n",
            " 5   is_keturunan              6989 non-null   float64\n",
            " 6   berat                     6989 non-null   float64\n",
            " 7   tinggi                    6989 non-null   float64\n",
            " 8   is_merokok                6989 non-null   int64  \n",
            " 9   pendidikan                6989 non-null   int64  \n",
            " 10  botak_prob                6989 non-null   float64\n",
            " 11  pekerjaan_Freelance       6989 non-null   uint8  \n",
            " 12  pekerjaan_PNS             6989 non-null   uint8  \n",
            " 13  pekerjaan_Pegawai swasta  6989 non-null   uint8  \n",
            " 14  pekerjaan_Pengangguran    6989 non-null   uint8  \n",
            " 15  sampo_Deadbuoy            6989 non-null   uint8  \n",
            " 16  sampo_Merpati             6989 non-null   uint8  \n",
            " 17  sampo_Moonsilk            6989 non-null   uint8  \n",
            " 18  sampo_Pantone             6989 non-null   uint8  \n",
            " 19  sampo_Shoulder & Head     6989 non-null   uint8  \n",
            "dtypes: float64(6), int64(4), object(1), uint8(9)\n",
            "memory usage: 1.0+ MB\n"
          ]
        }
      ]
    },
    {
      "cell_type": "code",
      "source": [],
      "metadata": {
        "id": "a6GZ0cSO0C-n"
      },
      "execution_count": null,
      "outputs": []
    }
  ]
}