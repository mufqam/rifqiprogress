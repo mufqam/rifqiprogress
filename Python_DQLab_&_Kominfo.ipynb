{
  "cells": [
    {
      "cell_type": "markdown",
      "id": "481155bd-69cf-4bef-9b7e-a8f8815c4b26",
      "metadata": {
        "id": "481155bd-69cf-4bef-9b7e-a8f8815c4b26"
      },
      "source": [
        "# Python for Data Profesional (Beginner Level)\n",
        "\n",
        "14 March 2022\n",
        "\n",
        "\n"
      ]
    },
    {
      "cell_type": "markdown",
      "id": "6902e693-e450-431a-aeb2-cab8f781cc03",
      "metadata": {
        "tags": [],
        "id": "6902e693-e450-431a-aeb2-cab8f781cc03"
      },
      "source": [
        "## Basic Python"
      ]
    },
    {
      "cell_type": "markdown",
      "id": "0dfd311d-3a39-49d8-abe2-108d855456bc",
      "metadata": {
        "tags": [],
        "id": "0dfd311d-3a39-49d8-abe2-108d855456bc"
      },
      "source": [
        "### Variables"
      ]
    },
    {
      "cell_type": "code",
      "source": [],
      "metadata": {
        "id": "XQpp6BLy-acV"
      },
      "id": "XQpp6BLy-acV",
      "execution_count": null,
      "outputs": []
    },
    {
      "cell_type": "markdown",
      "id": "87a88e85-a90c-4a17-bdbf-bd3f476e9f3b",
      "metadata": {
        "id": "87a88e85-a90c-4a17-bdbf-bd3f476e9f3b"
      },
      "source": [
        "- Variable adalah container data\n",
        "- Aturan penulisan variabel:\n",
        "    - Nama variabel harus dimulai dengan huruf atau karakter garis bawah.\n",
        "        - Fun fact, nama variabel python dapat dimulai dengan karakter yang tercantum dalam daftar ini, tetapi dianggap tidak prakti (https://www.asmeurer.com/python-unicode-variable-names/start-characters.html)\n",
        "    - Nama variabel tidak boleh dimulai dengan angka.\n",
        "    - Nama variabel hanya boleh berisi karakter alfanumerik dan garis bawah (A-z, 0-9, dan _ )\n",
        "\n",
        "        - Fun fact, nama variabel python dapat dilanjutkan (setelah karakter awal) tercantum dalam daftar ini, (https://www.asmeurer.com/python-unicode-variable-names/continue-characters.html), tetapi dianggap tidak praktis.\n",
        "    - Nama variabel peka terhadap huruf besar/kecil (nama, Nama dan NAMA adalah tiga variabel yang berbeda).\n",
        "    - Kata-kata yang dicadangkan (keywords tidak dapat digunakan untuk menamai variabel.\n",
        "- Di bawah ini adalah aturan yang diterima secara umum (konvensi tetapi diizinkan untuk dilanggar dalam python default PEP8) untuk menulis nama variabel:\n",
        "    -Garis bawah hanya nama variabel yang digunakan sebagai tempat penampung, tidak boleh diakses. (misalnya di for loop jika variabel yang di-lingkarkan tidak diakses di dalam loop, maka variabel tersebut harus diberi nama \"_\")\n",
        "    - Nama variabel dengan awalan garis bawah biasanya ditandai sebagai a protected variable\n",
        "    - Nama variabel dengan awalan garis bawah ganda biasanya ditandai sebagai private variable\n",
        "    - Nama variabel dengan awalan dan akhiran garis bawah ganda biasanya ditandai sebagai  python build in variable\n",
        "    - Variabel konstan biasanya ditulis dengan huruf kapital semua\n",
        "    - Ada empat gaya huruf besar-kecil yang digunakan untuk mengganti spasi (karena spasi tidak diperbolehkan dalam karakter variabel):\n",
        "        - snake_case (ganti spasi dengan garis bawah): biasa digunakan sebagai nama variabel atau fungsi\n",
        "        - camelCase (huruf besar karakter pertama dari kata berikutnya (tidak termasuk karakter pertama): biasa digunakan sebagai variabel atau nama fungsi tetapi jarang digunakan\n",
        "        - PascalCase (huruf besar karakter pertama setiap kata): biasa digunakan sebagai nama kelas\n",
        "        - kebab-case (tidak dapat digunakan dalam python karena tanda hubung (-) tidak diperbolehkan dalam karakter variabel)\n",
        "> Note: BCatatan: Baik snake_case dan camelCase digunakan untuk nama variabel dan nama fungsi, tetapi pastikan Anda konsisten menggunakan salah satunya dalam basis kode, jangan gabungkan"
      ]
    },
    {
      "cell_type": "code",
      "execution_count": null,
      "id": "db1b1bf7-a6c0-409e-ae66-784019c9b487",
      "metadata": {
        "id": "db1b1bf7-a6c0-409e-ae66-784019c9b487",
        "colab": {
          "base_uri": "https://localhost:8080/"
        },
        "outputId": "e5c6406a-e787-449c-f25b-8926a1555484"
      },
      "outputs": [
        {
          "output_type": "stream",
          "name": "stdout",
          "text": [
            "10\n"
          ]
        }
      ],
      "source": [
        "# single character\n",
        "x = 5\n",
        "y = 10\n",
        "z = 15\n",
        "print(y)\n"
      ]
    },
    {
      "cell_type": "markdown",
      "source": [
        "Multiple character"
      ],
      "metadata": {
        "id": "6lUfOaQ-xPdZ"
      },
      "id": "6lUfOaQ-xPdZ"
    },
    {
      "cell_type": "code",
      "source": [
        "buahan = (\"anggur\", \"apel\", \"nanas\")\n",
        "print(buahan)"
      ],
      "metadata": {
        "colab": {
          "base_uri": "https://localhost:8080/"
        },
        "id": "QMYxRrB_wjOG",
        "outputId": "21120573-595b-4a71-8418-cd0bf3d26324"
      },
      "id": "QMYxRrB_wjOG",
      "execution_count": null,
      "outputs": [
        {
          "output_type": "stream",
          "name": "stdout",
          "text": [
            "('anggur', 'apel', 'nanas')\n"
          ]
        }
      ]
    },
    {
      "cell_type": "code",
      "execution_count": null,
      "id": "0892d4a6-5ecb-4f25-a002-527484b23645",
      "metadata": {
        "colab": {
          "base_uri": "https://localhost:8080/"
        },
        "id": "0892d4a6-5ecb-4f25-a002-527484b23645",
        "outputId": "5ab87ca4-632a-4b0a-9767-07c9760642a2"
      },
      "outputs": [
        {
          "output_type": "stream",
          "name": "stdout",
          "text": [
            "\n",
            "Here is a list of the Python keywords.  Enter any keyword to get more help.\n",
            "\n",
            "False               class               from                or\n",
            "None                continue            global              pass\n",
            "True                def                 if                  raise\n",
            "and                 del                 import              return\n",
            "as                  elif                in                  try\n",
            "assert              else                is                  while\n",
            "async               except              lambda              with\n",
            "await               finally             nonlocal            yield\n",
            "break               for                 not                 \n",
            "\n"
          ]
        }
      ],
      "source": [
        "# Reserved Keywords\n",
        "help(\"keywords\")\n",
        "# keywords sudah di pesan\n",
        "#keywords yg gabisa dijadiin variable\n"
      ]
    },
    {
      "cell_type": "code",
      "execution_count": null,
      "id": "e7139bfd-bcbd-43e7-b074-1a257a976492",
      "metadata": {
        "colab": {
          "base_uri": "https://localhost:8080/",
          "height": 106
        },
        "id": "e7139bfd-bcbd-43e7-b074-1a257a976492",
        "outputId": "139ccc4b-435b-46c4-fe4a-107653adbe2b"
      },
      "outputs": [
        {
          "output_type": "error",
          "ename": "SyntaxError",
          "evalue": "invalid syntax (<ipython-input-4-66f29a938dc8>, line 1)",
          "traceback": [
            "\u001b[0;36m  File \u001b[0;32m\"<ipython-input-4-66f29a938dc8>\"\u001b[0;36m, line \u001b[0;32m1\u001b[0m\n\u001b[0;31m    lambda = 10\u001b[0m\n\u001b[0m           ^\u001b[0m\n\u001b[0;31mSyntaxError\u001b[0m\u001b[0;31m:\u001b[0m invalid syntax\n"
          ]
        }
      ],
      "source": [
        "lambda = 10"
      ]
    },
    {
      "cell_type": "code",
      "execution_count": null,
      "id": "631ee6b2-bbf5-4900-a0fd-bd078b3330f5",
      "metadata": {
        "id": "631ee6b2-bbf5-4900-a0fd-bd078b3330f5"
      },
      "outputs": [],
      "source": [
        "help(\"lambda\")\n",
        "help(\"pass\")"
      ]
    },
    {
      "cell_type": "markdown",
      "id": "4efc9fd1-02cc-4209-bf9f-6886b3ee38ed",
      "metadata": {
        "tags": [],
        "id": "4efc9fd1-02cc-4209-bf9f-6886b3ee38ed"
      },
      "source": [
        "### Data Types"
      ]
    },
    {
      "cell_type": "markdown",
      "id": "fb4d021a-c0e9-4d8a-8ab6-382ee6c1b0b2",
      "metadata": {
        "tags": [],
        "id": "fb4d021a-c0e9-4d8a-8ab6-382ee6c1b0b2"
      },
      "source": [
        "#### Built-in Data Types"
      ]
    },
    {
      "cell_type": "markdown",
      "id": "2b3b3ecf-ad56-45c2-a7d6-e18a65d5c13e",
      "metadata": {
        "id": "2b3b3ecf-ad56-45c2-a7d6-e18a65d5c13e"
      },
      "source": [
        "| Category | Data Type  | Mutability | Usage | Description                                                                                                             |\n",
        "|----------|------------|------------|-------|-------------------------------------------------------------------------------------------------------------------------|\n",
        "| Numeric  | int        | immutable  | High  | Numerical object representing a whole number (without decimal)                                                          |\n",
        "| Numeric  | float      | immutable  | High  | Numerical object representing a number with one or more decimal value                                                   |\n",
        "| Numeric  | complex    | immutable  | Low   | Numerical object containing real value and imaginary value                                                              |\n",
        "| Sequence | str        | immutable  | High  | Ordered collection of characters                                                                                        |\n",
        "| Sequence | list       | mutable    | High  | Ordered collection of objects                                                                                           |\n",
        "| Sequence | tuple      | immutable  | Mid   | Ordered collection of objects                                                                                           |\n",
        "| Sequence | range      | mutable    | High  | Ordered collection of object represented in start, stop and step pattern                                                |\n",
        "| Mapping  | dict       | mutable    | High  | Ordered (in Python 3.7 and later) or Unordered (in Python 3.6 or earlier) collection of key-value pairs with unique key |\n",
        "| Set      | set        | mutable    | Mid   | Collection of unordered unique objects                                                                                  |\n",
        "| Set      | frozenset  | immutable  | Low   | Collection of unordered unique objects                                                                                  |\n",
        "| Boolean  | bool       | immutable  | High  | Logical value with either True or False                                                                                 |\n",
        "| Binary   | bytes      | immutable  | Mid   | Ordered collection of integers between 0 and 256                                                                        |\n",
        "| Binary   | bytearray  | mutable    | Low   | Ordered collection of integers between 0 and 256                                                                        |\n",
        "| Binary   | memoryview | immutable  | Low   | Objects that allowed to access the internal data of an object that supports the buffer protocol without copying         |"
      ]
    },
    {
      "cell_type": "markdown",
      "source": [
        "![image.png](data:image/png;base64,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)"
      ],
      "metadata": {
        "id": "c01ycIuPE7BT"
      },
      "id": "c01ycIuPE7BT"
    },
    {
      "cell_type": "markdown",
      "id": "1103c171-d07f-4a98-9606-63770698d1cc",
      "metadata": {
        "id": "1103c171-d07f-4a98-9606-63770698d1cc"
      },
      "source": [
        "##### Numeric"
      ]
    },
    {
      "cell_type": "code",
      "execution_count": null,
      "id": "6613fa63-da9d-46f8-ac79-bbea6a2ba191",
      "metadata": {
        "id": "6613fa63-da9d-46f8-ac79-bbea6a2ba191"
      },
      "outputs": [],
      "source": [
        "numeric_int = 918291 #ini adalah tipe integer\n",
        "negative_int = -218912\n",
        "numeric_float = 1031.312 #float\n",
        "negative_float = -21910.1221\n",
        "numeric_complex = 10 + 4.1j\n",
        "negative_imaginary = 41.2 - 2j\n",
        "negative_all = -210 - 221j"
      ]
    },
    {
      "cell_type": "code",
      "execution_count": null,
      "id": "6503e97f-60ef-4ee7-9348-47dc53df9c97",
      "metadata": {
        "id": "6503e97f-60ef-4ee7-9348-47dc53df9c97",
        "colab": {
          "base_uri": "https://localhost:8080/"
        },
        "outputId": "924bbffd-38d8-40f8-e8ad-8a18070983fb"
      },
      "outputs": [
        {
          "output_type": "stream",
          "name": "stdout",
          "text": [
            "True\n",
            "True\n",
            "True\n"
          ]
        }
      ],
      "source": [
        "zero_int = 0\n",
        "zero_float = 0.0\n",
        "zero_complex = 0 + 0j\n",
        "print(zero_int == zero_float)\n",
        "print(zero_int == zero_complex)\n",
        "print(zero_float == zero_complex)"
      ]
    },
    {
      "cell_type": "code",
      "execution_count": null,
      "id": "3a9d7498-ec0a-46c2-a45c-9b41220aa2d9",
      "metadata": {
        "colab": {
          "base_uri": "https://localhost:8080/"
        },
        "id": "3a9d7498-ec0a-46c2-a45c-9b41220aa2d9",
        "outputId": "41b09854-5aea-443d-8474-47a702f22488"
      },
      "outputs": [
        {
          "output_type": "stream",
          "name": "stdout",
          "text": [
            "<class 'int'>\n",
            "<class 'float'>\n",
            "<class 'complex'>\n"
          ]
        }
      ],
      "source": [
        "print(type(zero_int))\n",
        "print(type(zero_float))\n",
        "print(type(zero_complex))"
      ]
    },
    {
      "cell_type": "markdown",
      "id": "2f01599e-dc06-41ac-b3a8-7c83e08fb142",
      "metadata": {
        "tags": [],
        "id": "2f01599e-dc06-41ac-b3a8-7c83e08fb142"
      },
      "source": [
        "##### String"
      ]
    },
    {
      "cell_type": "code",
      "execution_count": null,
      "id": "b29048ae-1951-4a52-a569-96805761bb53",
      "metadata": {
        "id": "b29048ae-1951-4a52-a569-96805761bb53"
      },
      "outputs": [],
      "source": [
        "sequence_str = 'Anything'\n",
        "empty_str = '' #empty\n",
        "double_quote_str = \"Don't\\ do This, unless you are consistent\" #koma\n",
        "single_quote_str = 'Doesn\\'t print the backslash' #how to not print backslash\n",
        "newline_str = 'We can make newline \\n and continue to the next line' #new line in line\n",
        "escaped_str = 'This is how you print backslash \\\\' #if 2 backslash and one backslash\n",
        "formatted_str = 'In order {} next {}. By placeholder keyword {name} let switch {age}'.format(sequence_str, 'other', age='21', name='Agus') #make keywords in list\n",
        "another_formatted_str = f'You can put variable {sequence_str} inside the curly bracket. Your call {single_quote_str}' #input another list in list\n",
        "raw_str = r'Anything you put in here \\n it will treated as a raw string, {including me}' #if not a list\n",
        "\n",
        "multiline_str = r'''This is a multiline string in python we can use this\n",
        "to store a lot of text in a python string. While one\n",
        "line python string can use \\n to make a new line,\n",
        "sometimes the text is so long thus writing it in a\n",
        "single line make it not wrapped in the code, so we\n",
        "ca use this.\n",
        "'''"
      ]
    },
    {
      "cell_type": "code",
      "execution_count": null,
      "id": "2fb679be-b307-44c3-af23-c4b1a2804dec",
      "metadata": {
        "colab": {
          "base_uri": "https://localhost:8080/",
          "height": 367
        },
        "id": "2fb679be-b307-44c3-af23-c4b1a2804dec",
        "outputId": "b7e746f7-e989-4f47-ceaa-ff2f2014b5d7"
      },
      "outputs": [
        {
          "output_type": "stream",
          "name": "stdout",
          "text": [
            "(o) Anything\n",
            "(o) \n",
            "(o) Don't\\ do This, unless you are consistent\n",
            "(o) Doesn't print the backslash\n",
            "(o) We can make newline \n",
            " and continue to the next line\n",
            "(o) This is how you print backslash \\\n",
            "(o) In order Anything next other. By placeholder keyword Agus let switch 21\n",
            "(o) You can put variable Anything inside the curly bracket. Your call Doesn't print the backslash\n",
            "(o) Anything you put in here \\n it will treated as a raw string, {including me}\n"
          ]
        },
        {
          "output_type": "error",
          "ename": "NameError",
          "evalue": "name 'unicode_str' is not defined",
          "traceback": [
            "\u001b[0;31m---------------------------------------------------------------------------\u001b[0m",
            "\u001b[0;31mNameError\u001b[0m                                 Traceback (most recent call last)",
            "\u001b[0;32m<ipython-input-8-e607899302f1>\u001b[0m in \u001b[0;36m<cell line: 10>\u001b[0;34m()\u001b[0m\n\u001b[1;32m      8\u001b[0m \u001b[0mprint\u001b[0m\u001b[0;34m(\u001b[0m\u001b[0;34m'(o)'\u001b[0m\u001b[0;34m,\u001b[0m \u001b[0manother_formatted_str\u001b[0m\u001b[0;34m)\u001b[0m\u001b[0;34m\u001b[0m\u001b[0;34m\u001b[0m\u001b[0m\n\u001b[1;32m      9\u001b[0m \u001b[0mprint\u001b[0m\u001b[0;34m(\u001b[0m\u001b[0;34m'(o)'\u001b[0m\u001b[0;34m,\u001b[0m \u001b[0mraw_str\u001b[0m\u001b[0;34m)\u001b[0m\u001b[0;34m\u001b[0m\u001b[0;34m\u001b[0m\u001b[0m\n\u001b[0;32m---> 10\u001b[0;31m \u001b[0mprint\u001b[0m\u001b[0;34m(\u001b[0m\u001b[0;34m'(o)'\u001b[0m\u001b[0;34m,\u001b[0m \u001b[0municode_str\u001b[0m\u001b[0;34m)\u001b[0m\u001b[0;34m\u001b[0m\u001b[0;34m\u001b[0m\u001b[0m\n\u001b[0m\u001b[1;32m     11\u001b[0m \u001b[0mprint\u001b[0m\u001b[0;34m(\u001b[0m\u001b[0;34m'(o)'\u001b[0m\u001b[0;34m,\u001b[0m \u001b[0mmultiline_str\u001b[0m\u001b[0;34m)\u001b[0m\u001b[0;34m\u001b[0m\u001b[0;34m\u001b[0m\u001b[0m\n",
            "\u001b[0;31mNameError\u001b[0m: name 'unicode_str' is not defined"
          ]
        }
      ],
      "source": [
        "print('(o)', sequence_str)\n",
        "print('(o)', empty_str)\n",
        "print('(o)', double_quote_str)\n",
        "print('(o)', single_quote_str)\n",
        "print('(o)', newline_str)\n",
        "print('(o)', escaped_str)\n",
        "print('(o)', formatted_str)\n",
        "print('(o)', another_formatted_str)\n",
        "print('(o)', raw_str)\n",
        "print('(o)', unicode_str)\n",
        "print('(o)', multiline_str)"
      ]
    },
    {
      "cell_type": "markdown",
      "id": "77f1c448-b1de-44c7-b6cf-b0a6874c374d",
      "metadata": {
        "id": "77f1c448-b1de-44c7-b6cf-b0a6874c374d"
      },
      "source": [
        "- `\\'`: Single Quote\n",
        "- `\\\"`: Doubel Quote\n",
        "- `\\\\`: Backslash\n",
        "- `\\n`: New Line\n",
        "- `\\r`: Carriage Return\n",
        "- `\\t`: Tab\n",
        "- `\\b`: Backspace\n"
      ]
    },
    {
      "cell_type": "code",
      "execution_count": null,
      "id": "c907fda2-6d59-4c9b-9572-ef8f354206b3",
      "metadata": {
        "id": "c907fda2-6d59-4c9b-9572-ef8f354206b3"
      },
      "outputs": [],
      "source": [
        "# Sequence Indexing\n",
        "print(sequence_str)\n",
        "print(sequence_str[2])\n",
        "print(sequence_str[-4])\n",
        "print(sequence_str[2] + sequence_str[3] + sequence_str[4])\n"
      ]
    },
    {
      "cell_type": "code",
      "execution_count": null,
      "id": "afe55ab7-9e09-4b44-b2ec-c81632d0f534",
      "metadata": {
        "id": "afe55ab7-9e09-4b44-b2ec-c81632d0f534"
      },
      "outputs": [],
      "source": [
        "# Sequence Slicing\n",
        "# [:end] --> slicing sequence from the begining to the `end` index with the `end` index excluded\n",
        "# [start:] --> slicing sequence from the `start` index the latest\n",
        "# [start:end] --> slicing sequence from the `start` index to the `end` index with the `end` index excluded\n",
        "#jika ngak pkai start maka dia akan makai end doang\n",
        "\n",
        "print(sequence_str)\n",
        "print(sequence_str[1:]) #Start masuk\n",
        "print(sequence_str[:5]) #end gak masuk\n",
        "print(sequence_str[:-1])\n",
        "print(sequence_str[2:5])\n",
        "print(sequence_str[2:-2])"
      ]
    },
    {
      "cell_type": "code",
      "execution_count": null,
      "id": "c8ea6428-4959-475a-aa4f-8c3f13f430c9",
      "metadata": {
        "id": "c8ea6428-4959-475a-aa4f-8c3f13f430c9"
      },
      "outputs": [],
      "source": [
        "# String Modification\n",
        "print(sequence_str.upper())\n",
        "print(sequence_str.lower())\n",
        "print(sequence_str.replace('A', 'U'))"
      ]
    },
    {
      "cell_type": "markdown",
      "id": "5e57ff8b-afab-4e6d-a1bf-c9340a55c159",
      "metadata": {
        "id": "5e57ff8b-afab-4e6d-a1bf-c9340a55c159"
      },
      "source": [
        "##### List, Tuple,and Set"
      ]
    },
    {
      "cell_type": "code",
      "execution_count": null,
      "id": "a62ddd03-b743-40f1-8f5f-1c13c9bda337",
      "metadata": {
        "id": "a62ddd03-b743-40f1-8f5f-1c13c9bda337"
      },
      "outputs": [],
      "source": [
        "list_of_int = [1,2,4,6,3,5,1,1,2,3,4] #apapun yang ada di python bisa di simpan di list\n",
        "list_of_str = ['mole', 'cole', 'mole', 'sole']\n",
        "list_of_list = [[1,2,3], [3,2,1]]\n",
        "list_of_any = [1, 3, 'boom', 2.1, 2.2, 5+2j] #string #integer #float\n",
        "empty_list = []\n",
        "another_empty_list = list() #cara lain empthy list\n",
        "multiline_list = [\n",
        "    1,\n",
        "    2,\n",
        "    3,\n",
        "    4.1,\n",
        "    5.2,\n",
        "    'How?',\n",
        "    [1,2,3,'Next']\n",
        "]\n",
        "matrix = [            #fun fact\n",
        "    [1,2,3],\n",
        "    [3,2,1],\n",
        "    [4,4,1]\n",
        "]"
      ]
    },
    {
      "cell_type": "code",
      "execution_count": null,
      "id": "430e9cb5-d465-4ef0-8583-896ef5c4e494",
      "metadata": {
        "id": "430e9cb5-d465-4ef0-8583-896ef5c4e494"
      },
      "outputs": [],
      "source": [
        "# sort\n",
        "sorted(list_of_int, reverse=False)\n"
      ]
    },
    {
      "cell_type": "code",
      "source": [
        "sorted(list_of_int, reverse=True)\n"
      ],
      "metadata": {
        "id": "EGDrkW99R5hv"
      },
      "id": "EGDrkW99R5hv",
      "execution_count": null,
      "outputs": []
    },
    {
      "cell_type": "code",
      "source": [
        "sorted(list_of_int)"
      ],
      "metadata": {
        "id": "_Y4giYgeR8As"
      },
      "id": "_Y4giYgeR8As",
      "execution_count": null,
      "outputs": []
    },
    {
      "cell_type": "code",
      "execution_count": null,
      "id": "b26d1025-4aec-4966-bf93-be24fbaf8c32",
      "metadata": {
        "id": "b26d1025-4aec-4966-bf93-be24fbaf8c32"
      },
      "outputs": [],
      "source": [
        "# Perbedaan Tuple dan list pada kurung kotak\n",
        "# List dapat diubah-ubah sedangkan tuple tidak\n",
        "# belum kelihatan sekarang\n",
        "tuple_of_int = (1,2,4,6,3,5,1,1,2,3,4)\n",
        "tuple_of_str = ('mole', 'cole', 'mole', 'sole')\n",
        "tuple_of_tuple = ((1,2,3), (3,2,1))\n",
        "tuple_of_any = (1, 3, 'boom', 2.1, 2.2, 5+2j)\n",
        "empty_tuple = ()\n",
        "another_empty_tuple = tuple()\n",
        "multiline_tuple = (\n",
        "    1,\n",
        "    2,\n",
        "    3,\n",
        "    4.1,\n",
        "    5.2,\n",
        "    'How?',\n",
        "    (1,2,3,'Next')\n",
        ")\n",
        "matrix_tuple = (\n",
        "    (1,2,3),\n",
        "    (3,2,1),\n",
        "    (4,4,1)\n",
        ")"
      ]
    },
    {
      "cell_type": "code",
      "execution_count": null,
      "id": "fb84d284-b3da-4a5b-8260-e2aeb8d82162",
      "metadata": {
        "id": "fb84d284-b3da-4a5b-8260-e2aeb8d82162"
      },
      "outputs": [],
      "source": [
        "matrix_tuple"
      ]
    },
    {
      "cell_type": "code",
      "source": [
        "matrix"
      ],
      "metadata": {
        "id": "YRHV7iA7SYe4"
      },
      "id": "YRHV7iA7SYe4",
      "execution_count": null,
      "outputs": []
    },
    {
      "cell_type": "markdown",
      "id": "3f0df01e-0cfd-48bb-b04a-93ca55d08ffb",
      "metadata": {
        "id": "3f0df01e-0cfd-48bb-b04a-93ca55d08ffb"
      },
      "source": [
        "##### set"
      ]
    },
    {
      "cell_type": "code",
      "execution_count": null,
      "id": "21ed93a4-e6e1-4770-9dda-04ac3e982008",
      "metadata": {
        "id": "21ed93a4-e6e1-4770-9dda-04ac3e982008"
      },
      "outputs": [],
      "source": [
        "#set menyimpan value secara unik\n",
        "#objek immutable\n",
        "#swt tidak menimpan secara urut dan biasanya bersifat uniq\n",
        "#useful ketika melakukan remove duplicate\n",
        "my_set = {1,2,3,4,4,5}\n",
        "your_set = {1,2,3, (1,2)}\n",
        "my_set\n"
      ]
    },
    {
      "cell_type": "code",
      "source": [
        "your_set"
      ],
      "metadata": {
        "id": "hK81VD8eSivW"
      },
      "id": "hK81VD8eSivW",
      "execution_count": null,
      "outputs": []
    },
    {
      "cell_type": "code",
      "execution_count": null,
      "id": "0ff6d623-d4b6-443e-b265-3be783443980",
      "metadata": {
        "id": "0ff6d623-d4b6-443e-b265-3be783443980"
      },
      "outputs": [],
      "source": [
        "duplicate_set = {1,1,2,2,3,3}"
      ]
    },
    {
      "cell_type": "code",
      "execution_count": null,
      "id": "57afd1b3-f065-4e9c-9e4b-9920afa05f64",
      "metadata": {
        "id": "57afd1b3-f065-4e9c-9e4b-9920afa05f64"
      },
      "outputs": [],
      "source": [
        "duplicate_set"
      ]
    },
    {
      "cell_type": "code",
      "source": [
        "list_of_int"
      ],
      "metadata": {
        "id": "1-p7Qx77TbU2"
      },
      "id": "1-p7Qx77TbU2",
      "execution_count": null,
      "outputs": []
    },
    {
      "cell_type": "code",
      "execution_count": null,
      "id": "4576158c-a048-4346-a0a6-b3f10a760ee6",
      "metadata": {
        "id": "4576158c-a048-4346-a0a6-b3f10a760ee6"
      },
      "outputs": [],
      "source": [
        "list(set(list_of_int))"
      ]
    },
    {
      "cell_type": "markdown",
      "source": [
        "Perbedaan Cara Mengakses Nilai"
      ],
      "metadata": {
        "id": "EBEwguAkG7zM"
      },
      "id": "EBEwguAkG7zM"
    },
    {
      "cell_type": "code",
      "source": [
        "list_a = [1, 2, 3]\n",
        "\n",
        "print(list_a[0])\n",
        "print(list_a[1])\n",
        "print(list_a[2])\n",
        "\n"
      ],
      "metadata": {
        "id": "6vo_uDhgG_Lf"
      },
      "id": "6vo_uDhgG_Lf",
      "execution_count": null,
      "outputs": []
    },
    {
      "cell_type": "code",
      "source": [
        "tuple_a = 10, 20, 30\n",
        "\n",
        "print(tuple_a[0])\n",
        "print(tuple_a[1])\n",
        "print(tuple_a[2])\n",
        "\n"
      ],
      "metadata": {
        "id": "tjIEaURqHMY4"
      },
      "id": "tjIEaURqHMY4",
      "execution_count": null,
      "outputs": []
    },
    {
      "cell_type": "code",
      "source": [
        "set_b = { 15, 16, 17 }\n",
        "\n",
        "print(set_b[0])\n",
        "print(set_b[1])\n",
        "print(set_b[2])"
      ],
      "metadata": {
        "id": "1A5aQMLQHOBy"
      },
      "id": "1A5aQMLQHOBy",
      "execution_count": null,
      "outputs": []
    },
    {
      "cell_type": "markdown",
      "source": [
        "Perbedaan Slicing Data"
      ],
      "metadata": {
        "id": "MFZQniIoHV8r"
      },
      "id": "MFZQniIoHV8r"
    },
    {
      "cell_type": "code",
      "source": [
        " list_a = [1, 2, 3, 4]\n",
        " tuple_a = tuple(list_a)\n",
        "\n",
        " list_a[2:4]\n"
      ],
      "metadata": {
        "id": "QaYOU5HKHesz"
      },
      "id": "QaYOU5HKHesz",
      "execution_count": null,
      "outputs": []
    },
    {
      "cell_type": "code",
      "source": [
        "tuple_a[2:]\n",
        "(3, 4)\n",
        "#Untuk list dan tuple, tidak ada perbedaan dalam hal slicing data –karena keduanya bersifat ordered.\n",
        "\n",
        "#Ada pun set, ia tidak mendukung fitur slicing data."
      ],
      "metadata": {
        "id": "y7_WJRQdHoxM"
      },
      "id": "y7_WJRQdHoxM",
      "execution_count": null,
      "outputs": []
    },
    {
      "cell_type": "code",
      "source": [
        "set_b[:1]"
      ],
      "metadata": {
        "id": "Hkvh2dbHH_kL"
      },
      "id": "Hkvh2dbHH_kL",
      "execution_count": null,
      "outputs": []
    },
    {
      "cell_type": "code",
      "source": [
        "list_a = [1, 2, 3]\n",
        "\n",
        "print(f'Sebelum: {#list_a}') #masukkan nama kolumn list a\n",
        "\n",
        "# edit data yang paling tengah\n",
        "list_a[1] = 99\n",
        "\n",
        "print(f'Sesudah: {#list_a}')"
      ],
      "metadata": {
        "id": "6ukuaRStIEeX"
      },
      "id": "6ukuaRStIEeX",
      "execution_count": null,
      "outputs": []
    },
    {
      "cell_type": "markdown",
      "source": [
        "Dalam dua tipe di atas, hanya tipe data **list** saja yang bisa melakukan semuanya.\n",
        "\n",
        "\n",
        "\n",
        "Ada pun tuple dan set, maka ia tidak bisa melakukan edit data sama sekali, baik tipe yang pertama mau pun tipe yang kedua."
      ],
      "metadata": {
        "id": "xy99-H-2IajI"
      },
      "id": "xy99-H-2IajI"
    },
    {
      "cell_type": "markdown",
      "source": [
        "#perbedaan tambah data\n",
        "Untuk mengedit data yang dalam artian “menambah data”, maka hanya ada dua tipe data yang bisa melakukannya; yaitu list dan set. Ada pun tuple tidak bisa melakukannya."
      ],
      "metadata": {
        "id": "zbVVYXstJzPZ"
      },
      "id": "zbVVYXstJzPZ"
    },
    {
      "cell_type": "markdown",
      "source": [
        "Kita bisa menambahkan nilai baru kepada suatu list dengan memanggil fungsi list.append(), dan kita bisa melakukan hal yang sama dengan set menggunakan fungsi set.add()."
      ],
      "metadata": {
        "id": "vSHebi5jJ9YP"
      },
      "id": "vSHebi5jJ9YP"
    },
    {
      "cell_type": "code",
      "source": [
        "list_a = [1]\n",
        "set_a = {1, 39}\n",
        "\n",
        "#print('[Sebelum]')\n",
        "#print(f'  list\\t: {list_a}')\n",
        "#print(f'  set\\t: {set_a}')\n",
        "\n",
        "#list_a.append(10)\n",
        "#list_a.append(50)\n",
        "\n",
        "#set_a.add(50)\n",
        "#set_a.add(100)\n",
        "\n",
        "#print('[Sesudah]')\n",
        "#print(f'  list\\t: {list_a}')\n",
        "#print(f'  set\\t: {set_a}')\n"
      ],
      "metadata": {
        "colab": {
          "base_uri": "https://localhost:8080/"
        },
        "id": "y1Hs4YnqHSpf",
        "outputId": "441b1e76-762d-4cd4-b47c-1e7fd1cfb177"
      },
      "id": "y1Hs4YnqHSpf",
      "execution_count": null,
      "outputs": [
        {
          "output_type": "stream",
          "name": "stdout",
          "text": [
            "[Sebelum]\n",
            "  list\t: [1]\n",
            "  set\t: {1, 39}\n",
            "[Sesudah]\n",
            "  list\t: [1, 10, 50]\n",
            "  set\t: {1, 50, 100, 39}\n"
          ]
        }
      ]
    },
    {
      "cell_type": "markdown",
      "source": [
        "##Perbedaan Hapus Data\n",
        "Sama seperti sebelumnya, hanya tipe data list dan set saja yang bisa melakukan hapus data.\n",
        "\n",
        "Keduanya sama-sama menggunakan fungsi .remove().\n"
      ],
      "metadata": {
        "id": "mBJ6oV9rKOOc"
      },
      "id": "mBJ6oV9rKOOc"
    },
    {
      "cell_type": "code",
      "source": [
        "list_a = [1, 2, 3, 4]\n",
        "set_a = {1, 2, 3, 4}\n",
        "\n",
        "#print('[Sebelum]')\n",
        "#print(f'  list\\t: {list_a}')\n",
        "#print(f'  set\\t: {set_a}')\n",
        "\n",
        "#list_a.remove(2)\n",
        "#list_a.remove(4)\n",
        "\n",
        "#set_a.remove(2)\n",
        "#set_a.remove(4)\n",
        "\n",
        "#print('[Sesudah]')\n",
        "#print(f'  list\\t: {list_a}')\n",
        "#print(f'  set\\t: {set_a}')"
      ],
      "metadata": {
        "id": "eLRrPD-YKZDg"
      },
      "id": "eLRrPD-YKZDg",
      "execution_count": null,
      "outputs": []
    },
    {
      "cell_type": "markdown",
      "source": [
        "##Perbedaan Operator Keanggotaan\n",
        "Berikutnya adalah penggunaan operator keanggotaan in atau pun not in.\n",
        "\n",
        "Dua operator ini bisa kita gunakan baik pada list, tuple, dan set.\n",
        "\n",
        "Perhatikan contoh berikut:"
      ],
      "metadata": {
        "id": "FSXQBQz_Lah3"
      },
      "id": "FSXQBQz_Lah3"
    },
    {
      "cell_type": "code",
      "source": [
        "list_a = [1, 2, 3]\n",
        "tuple_a = 1, 2, 3\n",
        "set_a = {1, 2, 3}\n",
        "\n",
        " 1 in list_a\n",
        "\n",
        "2 not in tuple_a\n",
        "\n",
        "3 in set_a\n",
        "\n",
        "##why eror\n"
      ],
      "metadata": {
        "colab": {
          "base_uri": "https://localhost:8080/",
          "height": 131
        },
        "id": "bLp5TbvTLcnf",
        "outputId": "818af467-c7ae-4dab-ee24-e0d217af5d5f"
      },
      "id": "bLp5TbvTLcnf",
      "execution_count": null,
      "outputs": [
        {
          "output_type": "error",
          "ename": "IndentationError",
          "evalue": "ignored",
          "traceback": [
            "\u001b[0;36m  File \u001b[0;32m\"<ipython-input-27-3a36c4571ed2>\"\u001b[0;36m, line \u001b[0;32m5\u001b[0m\n\u001b[0;31m    1 in list_a\u001b[0m\n\u001b[0m    ^\u001b[0m\n\u001b[0;31mIndentationError\u001b[0m\u001b[0;31m:\u001b[0m unexpected indent\n"
          ]
        }
      ]
    },
    {
      "cell_type": "markdown",
      "source": [
        "##Perbedaan Ketika Dilakukan Perulangan\n",
        "Yang terakhir tapi bukan yang paling akhir, kita bisa melakukan perulangan for untuk ketiga tipe data tersebut.\n",
        "\n",
        "Akan tetapi perlu diperhatikan bahwa tipe data set bertipe unordered, artinya bahwa data yang kita definisikan bisa jadi urutannya berbeda dengan data yang disimpan oleh sistem.\n",
        "\n",
        "Perhatikan contoh berikut:"
      ],
      "metadata": {
        "id": "tK2T5YENLw-J"
      },
      "id": "tK2T5YENLw-J"
    },
    {
      "cell_type": "code",
      "source": [
        "list_a = [3, 10, 1]\n",
        "tuple_a = 3, 10, 1\n",
        "set_a = {3, 10, 1}\n",
        "\n",
        "print('[LIST]')\n",
        "for item in list_a:\n",
        "  print(item)\n",
        "\n",
        "print('\\n[TUPLE]')\n",
        "for item in tuple_a:\n",
        "  print(item)\n",
        "\n",
        "print('\\n[SET]')\n",
        "for item in set_a:\n",
        "  print(item)"
      ],
      "metadata": {
        "colab": {
          "base_uri": "https://localhost:8080/"
        },
        "id": "5KMtdGK4LyY9",
        "outputId": "d2c05304-239b-4a2e-f5f6-fe14ea539f5d"
      },
      "id": "5KMtdGK4LyY9",
      "execution_count": null,
      "outputs": [
        {
          "output_type": "stream",
          "name": "stdout",
          "text": [
            "[LIST]\n",
            "3\n",
            "10\n",
            "1\n",
            "\n",
            "[TUPLE]\n",
            "3\n",
            "10\n",
            "1\n",
            "\n",
            "[SET]\n",
            "1\n",
            "10\n",
            "3\n"
          ]
        }
      ]
    },
    {
      "cell_type": "markdown",
      "source": [
        "##kesimpulan list, tuple, ser\n",
        "Tiga (dari 4) tipe data kolektif pada python –yaitu list, set dan tuple– memiliki berbagai macam kesamaan dan juga berbagai macam perbedaan.\n",
        "\n",
        "Masing-masing sifat pada tiap tipe data tersebut memberikan kita keleluasaan untuk memilih mana tipe data yang pas untuk suatu kasus, dan mana tipe data yang cocok untuk suatu kasus yang lain.\n",
        "\n"
      ],
      "metadata": {
        "id": "Qm6OOERPMCzk"
      },
      "id": "Qm6OOERPMCzk"
    },
    {
      "cell_type": "markdown",
      "id": "d572a270-04e3-4158-9afa-f615e55d401e",
      "metadata": {
        "id": "d572a270-04e3-4158-9afa-f615e55d401e"
      },
      "source": [
        "##### dict"
      ]
    },
    {
      "cell_type": "code",
      "execution_count": null,
      "id": "5bc6a8a1-042f-4909-977e-37b17b259e1d",
      "metadata": {
        "id": "5bc6a8a1-042f-4909-977e-37b17b259e1d"
      },
      "outputs": [],
      "source": [
        "my_dict = {\n",
        "    'key': 'value',\n",
        "    'key2': 'value2'\n",
        "}\n",
        "\n",
        "capitals = {\n",
        "    'Indonesia': 'Jakarta',\n",
        "    'Thailand': 'Bangkok',\n",
        "    'Malaysia': 'Kuala Lumpur',\n",
        "    7: ['Random', 'Things']\n",
        "}"
      ]
    },
    {
      "cell_type": "code",
      "execution_count": null,
      "id": "4526dc58-b1ea-4ab8-93bd-077dec5057a0",
      "metadata": {
        "colab": {
          "base_uri": "https://localhost:8080/",
          "height": 35
        },
        "id": "4526dc58-b1ea-4ab8-93bd-077dec5057a0",
        "outputId": "21611d97-171a-4a6a-f1c2-25f08f1ea825"
      },
      "outputs": [
        {
          "output_type": "execute_result",
          "data": {
            "application/vnd.google.colaboratory.intrinsic+json": {
              "type": "string"
            },
            "text/plain": [
              "'Bangkok'"
            ]
          },
          "metadata": {},
          "execution_count": 30
        }
      ],
      "source": [
        "capitals['Thailand']"
      ]
    },
    {
      "cell_type": "code",
      "execution_count": null,
      "id": "c62cdb7a-7abf-47c8-b7b2-f1e7cd5049f4",
      "metadata": {
        "colab": {
          "base_uri": "https://localhost:8080/"
        },
        "id": "c62cdb7a-7abf-47c8-b7b2-f1e7cd5049f4",
        "outputId": "af8d9bad-f03e-42f9-e503-b26517d44af6"
      },
      "outputs": [
        {
          "output_type": "execute_result",
          "data": {
            "text/plain": [
              "dict_keys(['Indonesia', 'Thailand', 'Malaysia', 7])"
            ]
          },
          "metadata": {},
          "execution_count": 31
        }
      ],
      "source": [
        "capitals.keys()"
      ]
    },
    {
      "cell_type": "code",
      "execution_count": null,
      "id": "0568dd7f-9cce-400f-a456-a9cd6bd094bd",
      "metadata": {
        "id": "0568dd7f-9cce-400f-a456-a9cd6bd094bd"
      },
      "outputs": [],
      "source": [
        "capitals['Arab Saudi'] = 'Jeddah'"
      ]
    },
    {
      "cell_type": "code",
      "execution_count": null,
      "id": "a73fce39-1e68-4cc5-9344-3e4de05197a2",
      "metadata": {
        "colab": {
          "base_uri": "https://localhost:8080/"
        },
        "id": "a73fce39-1e68-4cc5-9344-3e4de05197a2",
        "outputId": "6aeb0965-ea31-4923-b1ef-a11beb1d52b9"
      },
      "outputs": [
        {
          "output_type": "execute_result",
          "data": {
            "text/plain": [
              "dict_keys(['Indonesia', 'Thailand', 'Malaysia', 7, 'Arab Saudi'])"
            ]
          },
          "metadata": {},
          "execution_count": 33
        }
      ],
      "source": [
        "capitals.keys()"
      ]
    },
    {
      "cell_type": "code",
      "execution_count": null,
      "id": "83a2b5dd-4c8b-4e96-a29d-4a4455aec228",
      "metadata": {
        "colab": {
          "base_uri": "https://localhost:8080/"
        },
        "id": "83a2b5dd-4c8b-4e96-a29d-4a4455aec228",
        "outputId": "fcb7da8c-1c92-46f8-f3c6-0e86ad712d85"
      },
      "outputs": [
        {
          "output_type": "execute_result",
          "data": {
            "text/plain": [
              "dict_values(['Jakarta', 'Bangkok', 'Kuala Lumpur', ['Random', 'Things'], 'Jeddah'])"
            ]
          },
          "metadata": {},
          "execution_count": 34
        }
      ],
      "source": [
        "capitals.values()"
      ]
    },
    {
      "cell_type": "code",
      "execution_count": null,
      "id": "dba109d1-4bd8-4691-baed-c91c49c5639c",
      "metadata": {
        "colab": {
          "base_uri": "https://localhost:8080/"
        },
        "id": "dba109d1-4bd8-4691-baed-c91c49c5639c",
        "outputId": "004d53ff-0395-4ec7-e3fe-5e3e5d122fff"
      },
      "outputs": [
        {
          "output_type": "execute_result",
          "data": {
            "text/plain": [
              "{7: ['Random', 'Things'],\n",
              " 'Arab Saudi': 'Jeddah',\n",
              " 'Indonesia': 'Jakarta',\n",
              " 'Malaysia': 'Kuala Lumpur',\n",
              " 'Thailand': 'Bangkok'}"
            ]
          },
          "metadata": {},
          "execution_count": 35
        }
      ],
      "source": [
        "capitals"
      ]
    },
    {
      "cell_type": "code",
      "execution_count": null,
      "id": "ad570e85-10e6-4d1a-9fa3-7840bcd63828",
      "metadata": {
        "colab": {
          "base_uri": "https://localhost:8080/"
        },
        "id": "ad570e85-10e6-4d1a-9fa3-7840bcd63828",
        "outputId": "2791f979-0b15-457d-ad04-1577241c452b"
      },
      "outputs": [
        {
          "output_type": "execute_result",
          "data": {
            "text/plain": [
              "dict_items([('Indonesia', 'Jakarta'), ('Thailand', 'Bangkok'), ('Malaysia', 'Kuala Lumpur'), (7, ['Random', 'Things']), ('Arab Saudi', 'Jeddah')])"
            ]
          },
          "metadata": {},
          "execution_count": 36
        }
      ],
      "source": [
        "capitals.items()"
      ]
    },
    {
      "cell_type": "markdown",
      "id": "b98c9cc5-509d-4f55-9687-14f2d9c8d9dc",
      "metadata": {
        "id": "b98c9cc5-509d-4f55-9687-14f2d9c8d9dc"
      },
      "source": [
        "##### Boolean"
      ]
    },
    {
      "cell_type": "code",
      "execution_count": null,
      "id": "0b3238d7-adbf-4f83-a370-b8570ff6e8fa",
      "metadata": {
        "id": "0b3238d7-adbf-4f83-a370-b8570ff6e8fa"
      },
      "outputs": [],
      "source": [
        "benar = True\n",
        "salah = False"
      ]
    },
    {
      "cell_type": "markdown",
      "id": "99e192e9-3ee8-4f88-8a17-7654a848000c",
      "metadata": {
        "tags": [],
        "id": "99e192e9-3ee8-4f88-8a17-7654a848000c"
      },
      "source": [
        "#### Standard Libraries Data Types"
      ]
    },
    {
      "cell_type": "markdown",
      "id": "4163b89d-5dd6-4e1e-98cd-6927dd19a0e2",
      "metadata": {
        "id": "4163b89d-5dd6-4e1e-98cd-6927dd19a0e2"
      },
      "source": [
        "- [Python Standard Libraries Data Types Documentation](https://docs.python.org/3/library/datatypes.html)\n",
        "- Commonly used:\n",
        "    - datetime\n",
        "        - date\n",
        "        - time\n",
        "        - datetime\n",
        "        - timedelta\n",
        "        - timezone"
      ]
    },
    {
      "cell_type": "code",
      "execution_count": null,
      "id": "607bf2ae-e56c-4fc6-87a1-934966561f6b",
      "metadata": {
        "id": "607bf2ae-e56c-4fc6-87a1-934966561f6b"
      },
      "outputs": [],
      "source": [
        "from datetime import date, time, datetime, timedelta, timezone\n",
        "\n",
        "datetime_now = datetime.now() # current datetime\n",
        "date_today = date.today() # today's date\n",
        "time_now = datetime_now.time() # current time\n",
        "datetime_now_utc = datetime.now(timezone.utc) # current datetime in utc\n",
        "timedelta_now = datetime_now - datetime_now_utc.replace(tzinfo=None) # differece between current datetime and current utc time"
      ]
    },
    {
      "cell_type": "markdown",
      "id": "87a06897-0fe4-41cc-8880-b555d78ac7ca",
      "metadata": {
        "tags": [],
        "id": "87a06897-0fe4-41cc-8880-b555d78ac7ca"
      },
      "source": [
        "### Basic Operators"
      ]
    },
    {
      "cell_type": "markdown",
      "id": "c1ba0902-e970-46ef-8283-9e90a7a690be",
      "metadata": {
        "id": "c1ba0902-e970-46ef-8283-9e90a7a690be"
      },
      "source": [
        "- (`+`) Addition\n",
        "- (`-`) Subtraction\n",
        "- (`*`) Multiplication\n",
        "- (`/`) Division\n",
        "- (`//`) Floor Division\n",
        "- (`**`) Exponentiation\n",
        "- (`%`) Modulo\n",
        "- (`==`) Equal\n",
        "- (`!=`) Not Equal\n",
        "- (`>`) Greater Than\n",
        "- (`<`) Less Than\n",
        "- (`>=`) Greater Than or Equal\n",
        "- (`<=`) Less Than or Equal\n",
        "- (`and`) True if both statements are true\n",
        "- (`or`) True if one of the statements is true\n",
        "- (`not`) Convert True to False and vice versa\n",
        "- (`is`) True if both variables are the same object\n",
        "- (`is not`) True if both variables are not the same object\n",
        "- (`in`) True if a sequence with the specified value is present in the object\n",
        "- (`not in`) True if a sequence with the specified value is not present in the object\n",
        "- (`&`) Sets each bit to 1 if both bits are 1\n",
        "- (`|`) Sets each bit to 1 if one of two bits is 1\n",
        "- (`^`) Sets each bit to 1 if only one of two bits is 1\n",
        "- (`~`) Inverts all the bits\n",
        "- (`>>`) Shift left by pushing zeros in from the right and let the leftmost bits fall off\n",
        "- (`<<`) Shift right by pushing copies of the leftmost bit in from the left, and let the rightmost bits fall off"
      ]
    },
    {
      "cell_type": "code",
      "execution_count": null,
      "id": "b0dad71d-e9ee-428b-9ac2-7385edde5da3",
      "metadata": {
        "id": "b0dad71d-e9ee-428b-9ac2-7385edde5da3"
      },
      "outputs": [],
      "source": [
        "1+1"
      ]
    },
    {
      "cell_type": "code",
      "execution_count": null,
      "id": "1281f374-7464-457b-a420-ee438fc46057",
      "metadata": {
        "id": "1281f374-7464-457b-a420-ee438fc46057"
      },
      "outputs": [],
      "source": [
        "'makan ' + 'enak'"
      ]
    },
    {
      "cell_type": "code",
      "execution_count": null,
      "id": "45fca961-f2a3-4b38-8a3b-73cfbacbb25d",
      "metadata": {
        "id": "45fca961-f2a3-4b38-8a3b-73cfbacbb25d"
      },
      "outputs": [],
      "source": [
        "'makan' - 'an'"
      ]
    },
    {
      "cell_type": "code",
      "execution_count": null,
      "id": "7ea6728a-6c59-49f7-98ab-2cde9d83a4f4",
      "metadata": {
        "id": "7ea6728a-6c59-49f7-98ab-2cde9d83a4f4"
      },
      "outputs": [],
      "source": [
        "[1,2,3] + [4,5,6]"
      ]
    },
    {
      "cell_type": "code",
      "execution_count": null,
      "id": "0add081b-5a2f-46c0-91c8-bcd37b059586",
      "metadata": {
        "id": "0add081b-5a2f-46c0-91c8-bcd37b059586"
      },
      "outputs": [],
      "source": [
        "'makan \\n '*3"
      ]
    },
    {
      "cell_type": "code",
      "execution_count": null,
      "id": "d40118a3-e5d3-4b01-846f-9944fb95e549",
      "metadata": {
        "id": "d40118a3-e5d3-4b01-846f-9944fb95e549"
      },
      "outputs": [],
      "source": [
        "[1,2,3] * 5"
      ]
    },
    {
      "cell_type": "code",
      "execution_count": null,
      "id": "87d5c8fa-08f0-491b-9db2-fce05180692d",
      "metadata": {
        "id": "87d5c8fa-08f0-491b-9db2-fce05180692d"
      },
      "outputs": [],
      "source": []
    },
    {
      "cell_type": "markdown",
      "id": "db50d01e-0b1a-4f92-9ce2-a23e8c189131",
      "metadata": {
        "tags": [],
        "id": "db50d01e-0b1a-4f92-9ce2-a23e8c189131"
      },
      "source": [
        "### Conditionals"
      ]
    },
    {
      "cell_type": "markdown",
      "id": "89f1cba7-3121-4263-831f-ac439a6ea214",
      "metadata": {
        "id": "89f1cba7-3121-4263-831f-ac439a6ea214"
      },
      "source": [
        "```python\n",
        "if bool:\n",
        "    pass\n",
        "    # this line of code will be executed if the bool above is True,\n",
        "    # otherwise it will execute bellow\n",
        "elif bool:\n",
        "    pass\n",
        "    # this line of code will be executed if the bool above is True,\n",
        "    # otherwise it will execute bellow\n",
        "elif bool:\n",
        "    pass\n",
        "    # this line of code will be executed if the bool above is True,\n",
        "    # otherwise it will execute bellow\n",
        "else:\n",
        "    pass\n",
        "    # this line of code will be executed if the bool above is True,\n",
        "    # otherwise it will execute bellow\n",
        "\n",
        "pass if bool else pass # ternary operator\n",
        "```"
      ]
    },
    {
      "cell_type": "code",
      "execution_count": null,
      "id": "6082111d-50e8-45ef-b92b-afa58ceaa0d6",
      "metadata": {
        "id": "6082111d-50e8-45ef-b92b-afa58ceaa0d6"
      },
      "outputs": [],
      "source": [
        "x = 10\n",
        "if x < 5:\n",
        "    print('HArusnya nggak keprint')\n",
        "elif x > 15:\n",
        "    print('HArusnya juga nggak keprint')\n",
        "    x = x + 5\n",
        "else:\n",
        "    print('Ini yang keprint')"
      ]
    },
    {
      "cell_type": "code",
      "execution_count": null,
      "id": "ed9eda0a-e39c-42b5-9672-d9a603252998",
      "metadata": {
        "id": "ed9eda0a-e39c-42b5-9672-d9a603252998"
      },
      "outputs": [],
      "source": [
        "x = 10\n",
        "if x < 5 or x > 7:\n",
        "    print('HArusnya keprint')\n",
        "elif x > 15:\n",
        "    print('HArusnya juga nggak keprint')\n",
        "    x = x + 5\n",
        "else:\n",
        "    print('Ini yang keprint')"
      ]
    },
    {
      "cell_type": "code",
      "execution_count": null,
      "id": "a7046ed6-40bb-4aed-a430-35735846dbc2",
      "metadata": {
        "id": "a7046ed6-40bb-4aed-a430-35735846dbc2"
      },
      "outputs": [],
      "source": [
        "x = 10\n",
        "if x < 5 and x > 7:\n",
        "    print('HArusnya nggak keprint')\n",
        "elif x > 15:\n",
        "    print('HArusnya juga nggak keprint')\n",
        "    x = x + 5\n",
        "else:\n",
        "    print('Ini yang keprint')"
      ]
    },
    {
      "cell_type": "code",
      "execution_count": null,
      "id": "3d472aeb-4ff2-4847-a3ef-5b215d6cd363",
      "metadata": {
        "id": "3d472aeb-4ff2-4847-a3ef-5b215d6cd363"
      },
      "outputs": [],
      "source": []
    },
    {
      "cell_type": "markdown",
      "id": "ecb116f0-8226-4677-9405-7c4f11e141d0",
      "metadata": {
        "tags": [],
        "id": "ecb116f0-8226-4677-9405-7c4f11e141d0"
      },
      "source": [
        "### Exception Handling"
      ]
    },
    {
      "cell_type": "markdown",
      "id": "221650c8-e614-4569-bbe4-0a498188caac",
      "metadata": {
        "id": "221650c8-e614-4569-bbe4-0a498188caac"
      },
      "source": [
        "```python\n",
        "try:\n",
        "    pass\n",
        "    # This code will be executed,\n",
        "    # but if it's raise an exception\n",
        "    # then code block on except will\n",
        "    # be executed\n",
        "except AnyException as error:\n",
        "    pass\n",
        "    # This code will be executed if\n",
        "    # the AnyException is raised\n",
        "else:\n",
        "    pass\n",
        "    # This code will be executed if\n",
        "    # the AnyException is not raised\n",
        "finally:\n",
        "    pass\n",
        "    # This code will be executed whether\n",
        "    # the exception is raised or not\n",
        "```"
      ]
    },
    {
      "cell_type": "code",
      "execution_count": null,
      "id": "e7f5853b-61fa-44eb-86ee-776d6e6b4def",
      "metadata": {
        "id": "e7f5853b-61fa-44eb-86ee-776d6e6b4def"
      },
      "outputs": [],
      "source": [
        "x = 10\n",
        "y = 'wow'\n",
        "z = x + y"
      ]
    },
    {
      "cell_type": "code",
      "execution_count": null,
      "id": "f461d37d-3667-4cdb-863d-29e27476dc21",
      "metadata": {
        "id": "f461d37d-3667-4cdb-863d-29e27476dc21"
      },
      "outputs": [],
      "source": [
        "try:\n",
        "    x = 10\n",
        "    y = 'wow'\n",
        "    z = x + y\n",
        "except TypeError as error:\n",
        "    print('Sebenernya sih error, tapi ditangkep')\n",
        "    print('Nih Errornya')\n",
        "    print(error)\n",
        "else:\n",
        "    print('Nggak Error tuh')\n",
        "    print('z:', z)\n",
        "finally:\n",
        "    print('Error kagak gw keprint')"
      ]
    },
    {
      "cell_type": "code",
      "execution_count": null,
      "id": "45f10a93-b54b-48c9-ba6c-5cdd05404b21",
      "metadata": {
        "id": "45f10a93-b54b-48c9-ba6c-5cdd05404b21"
      },
      "outputs": [],
      "source": [
        "try:\n",
        "    x = 10\n",
        "    y = 7\n",
        "    z = x + y\n",
        "except TypeError as error:\n",
        "    print('Sebenernya sih error, tapi ditangkep')\n",
        "    print('Nih Errornya')\n",
        "    print(error)\n",
        "else:\n",
        "    print('Nggak Error tuh')\n",
        "    print('z:', z)\n",
        "finally:\n",
        "    print('Error kagak gw keprint')"
      ]
    },
    {
      "cell_type": "code",
      "execution_count": null,
      "id": "80631b15-102b-468f-a508-2f906080e2d3",
      "metadata": {
        "id": "80631b15-102b-468f-a508-2f906080e2d3"
      },
      "outputs": [],
      "source": [
        "try:\n",
        "    # connect to database\n",
        "except DatabaseError as error:\n",
        "    # retry or shut down\n",
        "else:\n",
        "    # pull the data\n",
        "finally:\n",
        "    # close the connection"
      ]
    },
    {
      "cell_type": "markdown",
      "id": "cccd4020-87cd-4f9d-946d-2444e5ed4081",
      "metadata": {
        "tags": [],
        "id": "cccd4020-87cd-4f9d-946d-2444e5ed4081"
      },
      "source": [
        "### Loop"
      ]
    },
    {
      "cell_type": "markdown",
      "id": "3cac3daf-3a5f-4dac-92a5-a065749d753e",
      "metadata": {
        "id": "3cac3daf-3a5f-4dac-92a5-a065749d753e"
      },
      "source": [
        "#### While Loop"
      ]
    },
    {
      "cell_type": "code",
      "execution_count": null,
      "id": "402c126b-704f-4e5e-9676-265eb223d4da",
      "metadata": {
        "id": "402c126b-704f-4e5e-9676-265eb223d4da",
        "colab": {
          "base_uri": "https://localhost:8080/"
        },
        "outputId": "2547e14b-1e92-46a9-d944-0091cd2e6466"
      },
      "outputs": [
        {
          "output_type": "stream",
          "name": "stdout",
          "text": [
            "1\n",
            "2\n",
            "3\n",
            "4\n",
            "5\n",
            "6\n",
            "7\n",
            "8\n",
            "9\n"
          ]
        }
      ],
      "source": [
        "i = 1\n",
        "while i < 10:\n",
        "    print(i)\n",
        "    i = i + 1"
      ]
    },
    {
      "cell_type": "code",
      "execution_count": null,
      "id": "8a3f12c9-e68a-4f1f-bf34-03db1ec418b6",
      "metadata": {
        "id": "8a3f12c9-e68a-4f1f-bf34-03db1ec418b6"
      },
      "outputs": [],
      "source": [
        "while True:\n",
        "    choice = int(input('masukan angka (pilih 0 untuk berhenti)'))\n",
        "    if choice != 0:\n",
        "        print('pilihanmu adalah', choice)\n",
        "    else:\n",
        "        break"
      ]
    },
    {
      "cell_type": "code",
      "execution_count": null,
      "id": "b63e6942-01a8-493b-878f-2c99f7f43176",
      "metadata": {
        "id": "b63e6942-01a8-493b-878f-2c99f7f43176"
      },
      "outputs": [],
      "source": [
        "while True:\n",
        "    try:\n",
        "        a = int(input('masukan angka (pilih 0 untuk berhenti)'))\n",
        "        b = int(input('masukan angka'))\n",
        "    except ValueError:\n",
        "        print('Input tidak sesuai')\n",
        "        continue\n",
        "    if a != 0:\n",
        "        print('pilihanmu kalau dijumlah', a+b)\n",
        "    else:\n",
        "        break"
      ]
    },
    {
      "cell_type": "code",
      "execution_count": null,
      "id": "607b6c63-56f4-44f6-8709-31abcb7e4161",
      "metadata": {
        "id": "607b6c63-56f4-44f6-8709-31abcb7e4161"
      },
      "outputs": [],
      "source": []
    },
    {
      "cell_type": "code",
      "execution_count": null,
      "id": "a92b0ee0-26f1-4d6f-8b08-fbdab6b5b258",
      "metadata": {
        "id": "a92b0ee0-26f1-4d6f-8b08-fbdab6b5b258"
      },
      "outputs": [],
      "source": []
    },
    {
      "cell_type": "code",
      "execution_count": null,
      "id": "a4d5a971-1112-41a9-af2f-5d5148887a03",
      "metadata": {
        "id": "a4d5a971-1112-41a9-af2f-5d5148887a03"
      },
      "outputs": [],
      "source": []
    },
    {
      "cell_type": "code",
      "execution_count": null,
      "id": "0dff3003-1f13-4407-8a54-43acc2a003ff",
      "metadata": {
        "id": "0dff3003-1f13-4407-8a54-43acc2a003ff"
      },
      "outputs": [],
      "source": []
    },
    {
      "cell_type": "markdown",
      "id": "1343828b-65c9-444d-bc8a-847537c9ea94",
      "metadata": {
        "id": "1343828b-65c9-444d-bc8a-847537c9ea94"
      },
      "source": [
        "#### For Loop"
      ]
    },
    {
      "cell_type": "code",
      "execution_count": null,
      "id": "cce17966-5a7d-4152-a20d-4ef43c9fa391",
      "metadata": {
        "id": "cce17966-5a7d-4152-a20d-4ef43c9fa391"
      },
      "outputs": [],
      "source": [
        "s = 'halo kawan'\n",
        "for char in s:\n",
        "    print(char)"
      ]
    },
    {
      "cell_type": "code",
      "execution_count": null,
      "id": "337c71bb-fe86-4238-8598-801e75e63450",
      "metadata": {
        "id": "337c71bb-fe86-4238-8598-801e75e63450"
      },
      "outputs": [],
      "source": [
        "l = [1,2,3,7,8,9]\n",
        "for i in l:\n",
        "    print(i+10)"
      ]
    },
    {
      "cell_type": "code",
      "execution_count": null,
      "id": "609e7d4e-7b55-41fd-910e-6b0d2a376f93",
      "metadata": {
        "id": "609e7d4e-7b55-41fd-910e-6b0d2a376f93"
      },
      "outputs": [],
      "source": [
        "l*3"
      ]
    },
    {
      "cell_type": "code",
      "execution_count": null,
      "id": "6dd7ccd1-31a5-4dfc-85fe-673f24f6dc14",
      "metadata": {
        "id": "6dd7ccd1-31a5-4dfc-85fe-673f24f6dc14"
      },
      "outputs": [],
      "source": [
        "for i in l:\n",
        "    print(i*3)"
      ]
    },
    {
      "cell_type": "code",
      "execution_count": null,
      "id": "0f058c95-f4d5-4dc6-a3e2-4d5f621a312b",
      "metadata": {
        "id": "0f058c95-f4d5-4dc6-a3e2-4d5f621a312b"
      },
      "outputs": [],
      "source": [
        "[i*3 for i in l]"
      ]
    },
    {
      "cell_type": "code",
      "execution_count": null,
      "id": "81edb418-4014-4e1b-9f24-2b6c431b731e",
      "metadata": {
        "id": "81edb418-4014-4e1b-9f24-2b6c431b731e"
      },
      "outputs": [],
      "source": [
        "range(5, 12, 2) # arithmetic sequence"
      ]
    },
    {
      "cell_type": "code",
      "execution_count": null,
      "id": "919bae77-fb0b-4021-bac1-46d518ba11a5",
      "metadata": {
        "id": "919bae77-fb0b-4021-bac1-46d518ba11a5"
      },
      "outputs": [],
      "source": [
        "list(range(5, 12, 1)) # arithmetic sequence"
      ]
    },
    {
      "cell_type": "code",
      "execution_count": null,
      "id": "c1dd0db3-ccee-4762-87ae-888f76479e3a",
      "metadata": {
        "id": "c1dd0db3-ccee-4762-87ae-888f76479e3a"
      },
      "outputs": [],
      "source": [
        "for i in range(10):\n",
        "    print(i+1)"
      ]
    },
    {
      "cell_type": "code",
      "execution_count": null,
      "id": "85c7d49c-a284-4a4f-8856-87044a28a480",
      "metadata": {
        "id": "85c7d49c-a284-4a4f-8856-87044a28a480"
      },
      "outputs": [],
      "source": [
        "for _ in range(10):\n",
        "    print('Aku tidak akan main smack down lagi')"
      ]
    },
    {
      "cell_type": "code",
      "execution_count": null,
      "id": "494d3241-b017-484c-9872-b9d1cad80368",
      "metadata": {
        "id": "494d3241-b017-484c-9872-b9d1cad80368"
      },
      "outputs": [],
      "source": [
        "ll = [[1,2], [3,4], [5,6]]\n",
        "for i in ll:\n",
        "    print(i[0]+i[1])"
      ]
    },
    {
      "cell_type": "code",
      "execution_count": null,
      "id": "8d1fb227-5acb-4e2c-867d-7f2c3c042aed",
      "metadata": {
        "id": "8d1fb227-5acb-4e2c-867d-7f2c3c042aed"
      },
      "outputs": [],
      "source": []
    },
    {
      "cell_type": "code",
      "execution_count": null,
      "id": "4520185a-0b85-4622-a079-3ab629dd8b30",
      "metadata": {
        "id": "4520185a-0b85-4622-a079-3ab629dd8b30"
      },
      "outputs": [],
      "source": [
        "for i, j in ll:\n",
        "    print(i+j)"
      ]
    },
    {
      "cell_type": "code",
      "execution_count": null,
      "id": "921aacaf-983c-405d-9160-81e0ef9c40a9",
      "metadata": {
        "id": "921aacaf-983c-405d-9160-81e0ef9c40a9"
      },
      "outputs": [],
      "source": [
        "x = [1,2,3]\n",
        "y = [8,7,6]\n",
        "list(zip(x, y))"
      ]
    },
    {
      "cell_type": "code",
      "execution_count": null,
      "id": "c2a3b867-69f5-4d2d-9a97-5698977a39f9",
      "metadata": {
        "id": "c2a3b867-69f5-4d2d-9a97-5698977a39f9"
      },
      "outputs": [],
      "source": [
        "for i, j in zip(x, y):\n",
        "    print(i-j)"
      ]
    },
    {
      "cell_type": "markdown",
      "id": "b93cbd3a-a4f7-41ca-8bcf-e4dd6c583e3c",
      "metadata": {
        "tags": [],
        "id": "b93cbd3a-a4f7-41ca-8bcf-e4dd6c583e3c"
      },
      "source": [
        "### Functions"
      ]
    },
    {
      "cell_type": "markdown",
      "id": "d77e7400-8551-40fb-b34d-476d1fe55a7e",
      "metadata": {
        "tags": [],
        "id": "d77e7400-8551-40fb-b34d-476d1fe55a7e"
      },
      "source": [
        "#### Standard Form"
      ]
    },
    {
      "cell_type": "code",
      "execution_count": null,
      "id": "b38dedfd-7084-4b78-9b29-d150b736d6b1",
      "metadata": {
        "id": "b38dedfd-7084-4b78-9b29-d150b736d6b1"
      },
      "outputs": [],
      "source": [
        "def add_then_multiply(a, b, c):\n",
        "    z = a+b\n",
        "    return z*c"
      ]
    },
    {
      "cell_type": "code",
      "execution_count": null,
      "id": "2a91d913-3f5f-436e-8849-cbc83e22454b",
      "metadata": {
        "id": "2a91d913-3f5f-436e-8849-cbc83e22454b"
      },
      "outputs": [],
      "source": [
        "add_then_multiply(2, 1, 5)"
      ]
    },
    {
      "cell_type": "code",
      "execution_count": null,
      "id": "d2e4e3e0-4e93-4d4f-a569-df121235b784",
      "metadata": {
        "id": "d2e4e3e0-4e93-4d4f-a569-df121235b784"
      },
      "outputs": [],
      "source": [
        "x = add_then_multiply(2, 1, 5)"
      ]
    },
    {
      "cell_type": "code",
      "execution_count": null,
      "id": "1394adc9-f7d9-4bc9-9a7d-3b43c9dd2464",
      "metadata": {
        "id": "1394adc9-f7d9-4bc9-9a7d-3b43c9dd2464"
      },
      "outputs": [],
      "source": [
        "print(x)"
      ]
    },
    {
      "cell_type": "code",
      "execution_count": null,
      "id": "98dc80a5-ee72-4800-9059-6e4eec464bcd",
      "metadata": {
        "id": "98dc80a5-ee72-4800-9059-6e4eec464bcd"
      },
      "outputs": [],
      "source": [
        "def multiply_all(*args):\n",
        "    p = 1\n",
        "    for i in args:\n",
        "        p *= i # p = p * i\n",
        "    return p"
      ]
    },
    {
      "cell_type": "code",
      "execution_count": null,
      "id": "44778f10-1beb-4f48-abac-5fd2da6b8525",
      "metadata": {
        "id": "44778f10-1beb-4f48-abac-5fd2da6b8525"
      },
      "outputs": [],
      "source": [
        "multiply_all(2,3,1)"
      ]
    },
    {
      "cell_type": "code",
      "execution_count": null,
      "id": "bda809d2-4ae9-4fc4-8355-d672fba7dbcb",
      "metadata": {
        "id": "bda809d2-4ae9-4fc4-8355-d672fba7dbcb"
      },
      "outputs": [],
      "source": [
        "multiply_all(2,3,1, 27, 12, 3)"
      ]
    },
    {
      "cell_type": "code",
      "execution_count": null,
      "id": "6b04d510-611e-43b0-bc49-54c456d6d0b9",
      "metadata": {
        "id": "6b04d510-611e-43b0-bc49-54c456d6d0b9"
      },
      "outputs": [],
      "source": [
        "add_then_multiply(b=3, c=9, a=2)"
      ]
    },
    {
      "cell_type": "code",
      "execution_count": null,
      "id": "8738fbe9-353f-4d3e-9dfe-c889163a6a47",
      "metadata": {
        "id": "8738fbe9-353f-4d3e-9dfe-c889163a6a47"
      },
      "outputs": [],
      "source": [
        "def concat_address(street, village, district, city, province):\n",
        "    address = f'{street}, {village}, {district}, {city}, {province}'\n",
        "    return address"
      ]
    },
    {
      "cell_type": "code",
      "execution_count": null,
      "id": "0b076508-4330-4a55-9774-e14169860864",
      "metadata": {
        "id": "0b076508-4330-4a55-9774-e14169860864"
      },
      "outputs": [],
      "source": [
        "def concat(**kwargs):\n",
        "    return kwargs"
      ]
    },
    {
      "cell_type": "code",
      "execution_count": null,
      "id": "b5b137d1-4df9-435e-b0f4-85a908022837",
      "metadata": {
        "id": "b5b137d1-4df9-435e-b0f4-85a908022837"
      },
      "outputs": [],
      "source": [
        "concat(name='Agus', age=12, status='Mid School Student')"
      ]
    },
    {
      "cell_type": "code",
      "execution_count": null,
      "id": "c1c56141-852e-48e6-bdb7-2ebe3008d226",
      "metadata": {
        "id": "c1c56141-852e-48e6-bdb7-2ebe3008d226"
      },
      "outputs": [],
      "source": [
        "multiply_all(1,2,3,age=24)"
      ]
    },
    {
      "cell_type": "markdown",
      "id": "700bd427-ae30-4d06-b5a4-7b61a72b3897",
      "metadata": {
        "id": "700bd427-ae30-4d06-b5a4-7b61a72b3897"
      },
      "source": [
        "#### Lambda Form"
      ]
    },
    {
      "cell_type": "code",
      "execution_count": null,
      "id": "4f9b5d06-fc35-43f6-9bb6-e2ec3cc35aa4",
      "metadata": {
        "id": "4f9b5d06-fc35-43f6-9bb6-e2ec3cc35aa4"
      },
      "outputs": [],
      "source": [
        "add_then_multiply = lambda a, b, c: (a+b)*c"
      ]
    },
    {
      "cell_type": "code",
      "execution_count": null,
      "id": "78895ef9-f187-4300-8435-f43d468c715f",
      "metadata": {
        "id": "78895ef9-f187-4300-8435-f43d468c715f"
      },
      "outputs": [],
      "source": [
        "add_then_multiply(2,3,4)"
      ]
    },
    {
      "cell_type": "code",
      "execution_count": null,
      "id": "d178a1fe-4ae5-44b3-b000-ea300de2458b",
      "metadata": {
        "id": "d178a1fe-4ae5-44b3-b000-ea300de2458b"
      },
      "outputs": [],
      "source": [
        "ll = [[1,2],[5,2],[2,3]]\n",
        "# def sort_by_second(x):\n",
        "#     return x[1]\n",
        "sorted(ll, key=lambda x: x[1], reverse=True)"
      ]
    },
    {
      "cell_type": "code",
      "execution_count": null,
      "id": "cc59a2b9-7c36-4c0a-a98d-8cb2e059c654",
      "metadata": {
        "id": "cc59a2b9-7c36-4c0a-a98d-8cb2e059c654"
      },
      "outputs": [],
      "source": [
        "try:\n",
        "    # code here\n",
        "except (ValueError, KeyError):\n",
        "    # code\n",
        "except AssertionError:\n",
        "    # another code"
      ]
    }
  ],
  "metadata": {
    "kernelspec": {
      "display_name": "Python 3 (ipykernel)",
      "language": "python",
      "name": "python3"
    },
    "language_info": {
      "codemirror_mode": {
        "name": "ipython",
        "version": 3
      },
      "file_extension": ".py",
      "mimetype": "text/x-python",
      "name": "python",
      "nbconvert_exporter": "python",
      "pygments_lexer": "ipython3",
      "version": "3.9.7"
    },
    "colab": {
      "provenance": [],
      "collapsed_sections": [
        "99e192e9-3ee8-4f88-8a17-7654a848000c",
        "87a06897-0fe4-41cc-8880-b555d78ac7ca",
        "db50d01e-0b1a-4f92-9ce2-a23e8c189131",
        "ecb116f0-8226-4677-9405-7c4f11e141d0",
        "cccd4020-87cd-4f9d-946d-2444e5ed4081",
        "3cac3daf-3a5f-4dac-92a5-a065749d753e",
        "1343828b-65c9-444d-bc8a-847537c9ea94",
        "b93cbd3a-a4f7-41ca-8bcf-e4dd6c583e3c",
        "d77e7400-8551-40fb-b34d-476d1fe55a7e",
        "700bd427-ae30-4d06-b5a4-7b61a72b3897"
      ]
    }
  },
  "nbformat": 4,
  "nbformat_minor": 5
}