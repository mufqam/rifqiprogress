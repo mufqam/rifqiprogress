{
  "nbformat": 4,
  "nbformat_minor": 0,
  "metadata": {
    "colab": {
      "provenance": [],
      "include_colab_link": true
    },
    "kernelspec": {
      "name": "python3",
      "display_name": "Python 3"
    },
    "language_info": {
      "name": "python"
    }
  },
  "cells": [
    {
      "cell_type": "markdown",
      "metadata": {
        "id": "view-in-github",
        "colab_type": "text"
      },
      "source": [
        "<a href=\"https://colab.research.google.com/github/mufqam/rifqiprogress/blob/mufqam/Basic_Python_MyEduSolve.ipynb\" target=\"_parent\"><img src=\"https://colab.research.google.com/assets/colab-badge.svg\" alt=\"Open In Colab\"/></a>"
      ]
    },
    {
      "cell_type": "markdown",
      "source": [
        "# Webinar Basic Python by MyEduSolve\n",
        "14 Dec 2023"
      ],
      "metadata": {
        "id": "eoQrNvXfVlFw"
      }
    },
    {
      "cell_type": "markdown",
      "source": [
        "# Variable and Assignment\n",
        "\n",
        "## Varilable\n",
        "Variable dalam konteks pemrograman merujuk pada lokasi dalam momory dimana suatu nilai dengan tipe data tertentu disimpan.\n",
        "\n",
        "## Assignment\n",
        "Umumnya setiap variabel yang kita buat akan digunakan dan kita berikan sebuah nilai, tahapan ini  ini bisa kita sebut dengan proses assignment.\n",
        "\n",
        "```\n",
        "<ruas kiri> = <ruas kanan>\n",
        "```\n",
        "\n",
        "- ruas kiri untuk variable, biasanya detulis dengan nama variable nya\n",
        "- Ruas kanan untuk nilai"
      ],
      "metadata": {
        "id": "oB1ZCZfTaV-Z"
      }
    },
    {
      "cell_type": "code",
      "execution_count": null,
      "metadata": {
        "colab": {
          "base_uri": "https://localhost:8080/"
        },
        "id": "BnP5A2kpVgBg",
        "outputId": "e10a0c6e-fb3e-45a3-c38c-ae511453f614"
      },
      "outputs": [
        {
          "output_type": "stream",
          "name": "stdout",
          "text": [
            "1\n",
            "abcd\n",
            "0\n"
          ]
        }
      ],
      "source": [
        "# Sample variable assignment\n",
        "angka = 1\n",
        "huruf = \"abcd\"\n",
        "pengurangan = angka - angka\n",
        "\n",
        "print(angka) # ouput 1\n",
        "print(huruf) # output abcd\n",
        "print(pengurangan) # output 0"
      ]
    },
    {
      "cell_type": "markdown",
      "source": [
        "# Input/Output and comment\n",
        "\n",
        "## Input\n",
        "Digunakan untuk memberikan masukan yang nantinya bisa kita simpan sebagai suatu variable. kamu bisa menggunakan perintah input() kemudian diikuti dengan text atau pertanyaan mengenai input yang diharapkan.\n",
        "\n",
        "```\n",
        "fname = input('masukan nama depan: ')\n",
        "```\n",
        "\n",
        "## Output\n",
        "Output merupakan hasil dari nilai yang ingin kita tampilkan dengan cara menuliskan nama variable sebelumnya atau suatu operasi tertentu.\n",
        "\n",
        "\n",
        "```\n",
        "print(fname)\n",
        "\n",
        "# Output\n",
        "=====================\n",
        "masukan nama depan: Ashari\n",
        "Ashari\n",
        "=====================\n",
        "```\n",
        "\n",
        "## Comment\n",
        "Creator dari python berfokus pada bahasa pemrograman yang mudah dibaca, tapi bukan berarti apapun yang kita tulis akan secara otomatis menjadi seperti itu.\n",
        "\n",
        "Sebagai programmer yang baik, kita dituntut untuk mampu mengikuti kaidah maupun style penulisan yang tertulis dalam panduan PEP8 (python enhancement proposals).\n",
        "\n",
        "Comment atau komentar merupakan barisan text yang akan diabaikan oleh python interpreter ketika barisan code tersebut dijalankan. Untuk menuliskan comment anda bisa memulai nya dengan:\n",
        "\n",
        "- **#** simbol pagar untuk single line comment, atau\n",
        "- **\"\"\"** petik dua sebanyak 3 kali pada awal dan akhir text untuk multiline comment, sering disebut juga block comment.\n",
        "\n",
        "\n"
      ],
      "metadata": {
        "id": "LW081GS8dc0H"
      }
    },
    {
      "cell_type": "code",
      "source": [
        "# Sample input/output\n",
        "fname = input('masukan nama depan: ')\n",
        "lname = input('masukan nama belakang: ')\n",
        "\n",
        "\"\"\"\n",
        "Berikut adalah cara menampilkan nilai dari suatu variable\n",
        "gunakan print() diikuti nama variable nya.\n",
        "\"\"\"\n",
        "print(f'nama lengkap kamu adalah {fname} {lname}')"
      ],
      "metadata": {
        "colab": {
          "base_uri": "https://localhost:8080/",
          "height": 390
        },
        "id": "Ko15pVlqdl_0",
        "outputId": "067d1458-d0c0-4742-dc0d-c0858ebc735f"
      },
      "execution_count": null,
      "outputs": [
        {
          "output_type": "error",
          "ename": "KeyboardInterrupt",
          "evalue": "ignored",
          "traceback": [
            "\u001b[0;31m---------------------------------------------------------------------------\u001b[0m",
            "\u001b[0;31mKeyboardInterrupt\u001b[0m                         Traceback (most recent call last)",
            "\u001b[0;32m<ipython-input-2-7ca39558fe86>\u001b[0m in \u001b[0;36m<cell line: 2>\u001b[0;34m()\u001b[0m\n\u001b[1;32m      1\u001b[0m \u001b[0;31m# Sample input/output\u001b[0m\u001b[0;34m\u001b[0m\u001b[0;34m\u001b[0m\u001b[0m\n\u001b[0;32m----> 2\u001b[0;31m \u001b[0mfname\u001b[0m \u001b[0;34m=\u001b[0m \u001b[0minput\u001b[0m\u001b[0;34m(\u001b[0m\u001b[0;34m'masukan nama depan: '\u001b[0m\u001b[0;34m)\u001b[0m\u001b[0;34m\u001b[0m\u001b[0;34m\u001b[0m\u001b[0m\n\u001b[0m\u001b[1;32m      3\u001b[0m \u001b[0mlname\u001b[0m \u001b[0;34m=\u001b[0m \u001b[0minput\u001b[0m\u001b[0;34m(\u001b[0m\u001b[0;34m'masukan nama belakang: '\u001b[0m\u001b[0;34m)\u001b[0m\u001b[0;34m\u001b[0m\u001b[0;34m\u001b[0m\u001b[0m\n\u001b[1;32m      4\u001b[0m \u001b[0;34m\u001b[0m\u001b[0m\n\u001b[1;32m      5\u001b[0m \"\"\"\n",
            "\u001b[0;32m/usr/local/lib/python3.10/dist-packages/ipykernel/kernelbase.py\u001b[0m in \u001b[0;36mraw_input\u001b[0;34m(self, prompt)\u001b[0m\n\u001b[1;32m    849\u001b[0m                 \u001b[0;34m\"raw_input was called, but this frontend does not support input requests.\"\u001b[0m\u001b[0;34m\u001b[0m\u001b[0;34m\u001b[0m\u001b[0m\n\u001b[1;32m    850\u001b[0m             )\n\u001b[0;32m--> 851\u001b[0;31m         return self._input_request(str(prompt),\n\u001b[0m\u001b[1;32m    852\u001b[0m             \u001b[0mself\u001b[0m\u001b[0;34m.\u001b[0m\u001b[0m_parent_ident\u001b[0m\u001b[0;34m,\u001b[0m\u001b[0;34m\u001b[0m\u001b[0;34m\u001b[0m\u001b[0m\n\u001b[1;32m    853\u001b[0m             \u001b[0mself\u001b[0m\u001b[0;34m.\u001b[0m\u001b[0m_parent_header\u001b[0m\u001b[0;34m,\u001b[0m\u001b[0;34m\u001b[0m\u001b[0;34m\u001b[0m\u001b[0m\n",
            "\u001b[0;32m/usr/local/lib/python3.10/dist-packages/ipykernel/kernelbase.py\u001b[0m in \u001b[0;36m_input_request\u001b[0;34m(self, prompt, ident, parent, password)\u001b[0m\n\u001b[1;32m    893\u001b[0m             \u001b[0;32mexcept\u001b[0m \u001b[0mKeyboardInterrupt\u001b[0m\u001b[0;34m:\u001b[0m\u001b[0;34m\u001b[0m\u001b[0;34m\u001b[0m\u001b[0m\n\u001b[1;32m    894\u001b[0m                 \u001b[0;31m# re-raise KeyboardInterrupt, to truncate traceback\u001b[0m\u001b[0;34m\u001b[0m\u001b[0;34m\u001b[0m\u001b[0m\n\u001b[0;32m--> 895\u001b[0;31m                 \u001b[0;32mraise\u001b[0m \u001b[0mKeyboardInterrupt\u001b[0m\u001b[0;34m(\u001b[0m\u001b[0;34m\"Interrupted by user\"\u001b[0m\u001b[0;34m)\u001b[0m \u001b[0;32mfrom\u001b[0m \u001b[0;32mNone\u001b[0m\u001b[0;34m\u001b[0m\u001b[0;34m\u001b[0m\u001b[0m\n\u001b[0m\u001b[1;32m    896\u001b[0m             \u001b[0;32mexcept\u001b[0m \u001b[0mException\u001b[0m \u001b[0;32mas\u001b[0m \u001b[0me\u001b[0m\u001b[0;34m:\u001b[0m\u001b[0;34m\u001b[0m\u001b[0;34m\u001b[0m\u001b[0m\n\u001b[1;32m    897\u001b[0m                 \u001b[0mself\u001b[0m\u001b[0;34m.\u001b[0m\u001b[0mlog\u001b[0m\u001b[0;34m.\u001b[0m\u001b[0mwarning\u001b[0m\u001b[0;34m(\u001b[0m\u001b[0;34m\"Invalid Message:\"\u001b[0m\u001b[0;34m,\u001b[0m \u001b[0mexc_info\u001b[0m\u001b[0;34m=\u001b[0m\u001b[0;32mTrue\u001b[0m\u001b[0;34m)\u001b[0m\u001b[0;34m\u001b[0m\u001b[0;34m\u001b[0m\u001b[0m\n",
            "\u001b[0;31mKeyboardInterrupt\u001b[0m: Interrupted by user"
          ]
        }
      ]
    },
    {
      "cell_type": "markdown",
      "source": [
        "# Data Type\n",
        "\n",
        "## 1. Primitive data type\n",
        "Tipe data paling mendasar pada python\n",
        "- Number\n",
        "  - Integer (int), Bilangan bulat seperti 1,50, atau -2\n",
        "  - Float (float), Bilangan desimal seeperti 3.14, 9.0, atau -0.5\n",
        "- Boolean(bool), Memiliki 2 nilai yaitu true atau false\n",
        "- String (str), Menyimpan teks atau karakter, seperti “Hello” atau ‘python’\n"
      ],
      "metadata": {
        "id": "5yfz67uMDSux"
      }
    },
    {
      "cell_type": "code",
      "source": [
        "# Integer\n",
        "angka = 42\n",
        "\n",
        "# Float\n",
        "desimal = 3.14\n",
        "\n",
        "# String\n",
        "teks = \"Selamat Datang\"\n",
        "\n",
        "# Boolean\n",
        "ya = True\n",
        "tidak = False"
      ],
      "metadata": {
        "id": "7iisdqtacYbW"
      },
      "execution_count": null,
      "outputs": []
    },
    {
      "cell_type": "markdown",
      "source": [
        "## 2. Colection data type\n",
        "Tipe data yang digunakan untuk menyimpan dan mengelola sekumpulan nilai.\n",
        "\n",
        "- **List**, deretan nilai nya dapat dirubah(mutable) dan dibuat dengan kurung [ ]\n",
        "- **Tuple**, deretan nilai yang tidak dapat diubah (immutable) dan dibuat dengan kurung ( )\n",
        "- **Set**, kumpulan nilai tanpa urutan, dibuat dengan {}\n",
        "- **Dictionary**, kumuplan nilai yang memiliki pasangan kunci(key) dan nilai(value)\n"
      ],
      "metadata": {
        "id": "dicQpdTPcWwZ"
      }
    },
    {
      "cell_type": "code",
      "source": [
        "# list yang berisi nilai integer dan string\n",
        "ini_list = [1, 2, 3, 'r', 't', 'x']\n",
        "\n",
        "# tuple memiliki nilai tetap\n",
        "ini_tuple = (1, 2, 3, 'r', 't', 'x')\n",
        "\n",
        "# set tidak memiliki urutan\n",
        "ini_set = {1, 2, 3, 'r', 't', 'x'}\n"
      ],
      "metadata": {
        "id": "seObtBLsnbM5"
      },
      "execution_count": null,
      "outputs": []
    },
    {
      "cell_type": "markdown",
      "source": [
        "## Manipulating List\n",
        "\n",
        "Manipulasi data pada list di Python melibatkan sejumlah operasi, seperti menambah atau menghapus elemen, menggabungkan list, mengurutkan, dan lainnya. Berikut adalah beberapa operasi umum yang dapat Anda lakukan pada list beserta contoh-contohnya:\n",
        "\n",
        "### 1. Menambah elemen\n",
        "\n",
        "  Menambahkan nilai pada sebuah list\n",
        "  - Menggunakan metode **append** untuk menambahkan elemen ke akhir list.\n",
        "  - Menggunakan metode **insert** untuk menambahkan elemen pada indeks tertentu.\n",
        "---\n",
        "\n",
        "### 2. Menghapus elemen\n",
        "\n",
        "  - Menggunakan metode **remove** untuk menghapus elemen berdasarkan nilai.\n",
        "  - Menggunakan kata kunci **del** untuk menghapus elemen berdasarkan indeks.\n",
        "---\n",
        "\n",
        "### 3. Menggabungkan list\n",
        "\n",
        "  - Menggunakan operator **+** atau metode **extend** untuk menggabungkan dua list.\n",
        "---\n",
        "\n",
        "### 4. Mengurutkan list\n",
        "\n",
        "  - Menggunakan metode **sort** untuk mengurutkan list.\n",
        "  - Menggunakan fungsi **sorted** untuk membuat list baru yang berurutan.\n"
      ],
      "metadata": {
        "id": "K9WEnepWrCrf"
      }
    },
    {
      "cell_type": "code",
      "source": [
        "# Operasi pada list"
      ],
      "metadata": {
        "id": "ee-xvmy4vKvn"
      },
      "execution_count": null,
      "outputs": []
    },
    {
      "cell_type": "code",
      "source": [
        "# Contoh perulangan menggunakan for\n",
        "\n",
        "barisan_angka = [1,2,3,4,5]\n",
        "for angka in barisan_angka:\n",
        "    print(f\"sekarang angka {angka}\")\n"
      ],
      "metadata": {
        "colab": {
          "base_uri": "https://localhost:8080/"
        },
        "id": "k3c4ScDd-xff",
        "outputId": "0c670e06-0da8-4f58-b141-9937f82f5ef9"
      },
      "execution_count": null,
      "outputs": [
        {
          "output_type": "stream",
          "name": "stdout",
          "text": [
            "sekarang angke 1\n",
            "sekarang angke 2\n",
            "sekarang angke 3\n",
            "sekarang angke 4\n",
            "sekarang angke 5\n"
          ]
        }
      ]
    },
    {
      "cell_type": "code",
      "source": [
        "# contoh perulangan dengan while\n",
        "jumlah = 0\n",
        "angka = 1\n",
        "\n",
        "while angka <= 5:\n",
        "    jumlah += angka\n",
        "    angka += 1\n",
        "\n",
        "print(\"Jumlah:\", jumlah)\n"
      ],
      "metadata": {
        "colab": {
          "base_uri": "https://localhost:8080/"
        },
        "id": "fExPjJ93_xCm",
        "outputId": "7cc947a3-db68-43c2-b0b7-91f29fe33169"
      },
      "execution_count": null,
      "outputs": [
        {
          "output_type": "stream",
          "name": "stdout",
          "text": [
            "Jumlah: 15\n"
          ]
        }
      ]
    }
  ]
}