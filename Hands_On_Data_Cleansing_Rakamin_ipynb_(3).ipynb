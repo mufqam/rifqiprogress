{
  "nbformat": 4,
  "nbformat_minor": 0,
  "metadata": {
    "kernelspec": {
      "display_name": "Python 3",
      "language": "python",
      "name": "python3"
    },
    "language_info": {
      "codemirror_mode": {
        "name": "ipython",
        "version": 3
      },
      "file_extension": ".py",
      "mimetype": "text/x-python",
      "name": "python",
      "nbconvert_exporter": "python",
      "pygments_lexer": "ipython3",
      "version": "3.7.0"
    },
    "toc": {
      "base_numbering": 1,
      "nav_menu": {},
      "number_sections": false,
      "sideBar": true,
      "skip_h1_title": false,
      "title_cell": "Table of Contents",
      "title_sidebar": "Contents",
      "toc_cell": false,
      "toc_position": {},
      "toc_section_display": true,
      "toc_window_display": true
    },
    "colab": {
      "provenance": []
    }
  },
  "cells": [
    {
      "cell_type": "markdown",
      "source": [
        "# Hands-On Data Cleansing\n",
        "Rakamin - 19 Dec 2021"
      ],
      "metadata": {
        "id": "qcT7o0_pOP28"
      }
    },
    {
      "cell_type": "markdown",
      "source": [
        "Author: Mohamad Rifki Ilham"
      ],
      "metadata": {
        "id": "vsgJIP2rOXe_"
      }
    },
    {
      "cell_type": "markdown",
      "metadata": {
        "id": "Neow6Hoj06rz"
      },
      "source": [
        "# Mengenal Konsep Variabel & Assignment"
      ]
    },
    {
      "cell_type": "markdown",
      "metadata": {
        "id": "y-khZMhZ1mTA"
      },
      "source": [
        "## Data Numeric"
      ]
    },
    {
      "cell_type": "code",
      "metadata": {
        "id": "OIO8jd9m09jA"
      },
      "source": [
        "tinggi_badan = 173"
      ],
      "execution_count": null,
      "outputs": []
    },
    {
      "cell_type": "markdown",
      "metadata": {
        "id": "eGygEcdm1EJB"
      },
      "source": [
        "berapa isi dari variabel tinggi_badan sekarang?"
      ]
    },
    {
      "cell_type": "code",
      "metadata": {
        "id": "YAMhwiKb1Hur",
        "colab": {
          "base_uri": "https://localhost:8080/"
        },
        "outputId": "320a4b83-6a00-42ec-b184-f50b20b20d20"
      },
      "source": [
        "tinggi_badan"
      ],
      "execution_count": null,
      "outputs": [
        {
          "output_type": "execute_result",
          "data": {
            "text/plain": [
              "170"
            ]
          },
          "metadata": {},
          "execution_count": 6
        }
      ]
    },
    {
      "cell_type": "markdown",
      "metadata": {
        "id": "206CnXXA1I9K"
      },
      "source": [
        "ganti nilai tinggi_badan dengan 170"
      ]
    },
    {
      "cell_type": "code",
      "metadata": {
        "id": "lQn5BtsT1Ltx"
      },
      "source": [
        "tinggi_badan = 170"
      ],
      "execution_count": null,
      "outputs": []
    },
    {
      "cell_type": "markdown",
      "metadata": {
        "id": "JT5PVXaD1N1h"
      },
      "source": [
        "berapa isi dari variabel tinggi_badan sekarang?"
      ]
    },
    {
      "cell_type": "code",
      "metadata": {
        "id": "i2qyhwB41Dg4",
        "colab": {
          "base_uri": "https://localhost:8080/"
        },
        "outputId": "e8537c4e-f388-47aa-a5b4-2bcb95f2e872"
      },
      "source": [
        "tinggi_badan"
      ],
      "execution_count": null,
      "outputs": [
        {
          "output_type": "execute_result",
          "data": {
            "text/plain": [
              "173"
            ]
          },
          "metadata": {},
          "execution_count": 4
        }
      ]
    },
    {
      "cell_type": "code",
      "metadata": {
        "id": "t4UYTgzs1cnK",
        "colab": {
          "base_uri": "https://localhost:8080/"
        },
        "outputId": "b5860cdc-6e80-4382-9564-190af60e7e9e"
      },
      "source": [
        "tinggi_badan/100"
      ],
      "execution_count": null,
      "outputs": [
        {
          "output_type": "execute_result",
          "data": {
            "text/plain": [
              "1.7"
            ]
          },
          "metadata": {},
          "execution_count": 7
        }
      ]
    },
    {
      "cell_type": "code",
      "metadata": {
        "id": "Ynvi6NjyoYCg",
        "colab": {
          "base_uri": "https://localhost:8080/"
        },
        "outputId": "3430bbb8-422e-4c45-9880-0088bcd3025b"
      },
      "source": [
        "tinggi_badan_in_m = tinggi_badan/100\n",
        "tinggi_badan_in_m"
      ],
      "execution_count": null,
      "outputs": [
        {
          "output_type": "execute_result",
          "data": {
            "text/plain": [
              "1.7"
            ]
          },
          "metadata": {},
          "execution_count": 8
        }
      ]
    },
    {
      "cell_type": "markdown",
      "metadata": {
        "id": "0Og9DcWX1qA3"
      },
      "source": [
        "## Data String"
      ]
    },
    {
      "cell_type": "code",
      "metadata": {
        "id": "5hiGvYgq1rYA"
      },
      "source": [
        "nama_depan = \"Raffi\"\n",
        "nama_belakang = \"Ahmad\""
      ],
      "execution_count": null,
      "outputs": []
    },
    {
      "cell_type": "code",
      "metadata": {
        "id": "gJR7zXfJ1zpf",
        "colab": {
          "base_uri": "https://localhost:8080/",
          "height": 35
        },
        "outputId": "5a5dbb73-58d1-4916-bfff-56df232a4793"
      },
      "source": [
        "nama_depan + nama_belakang"
      ],
      "execution_count": null,
      "outputs": [
        {
          "output_type": "execute_result",
          "data": {
            "application/vnd.google.colaboratory.intrinsic+json": {
              "type": "string"
            },
            "text/plain": [
              "'RaffiAhmad'"
            ]
          },
          "metadata": {},
          "execution_count": 13
        }
      ]
    },
    {
      "cell_type": "code",
      "metadata": {
        "id": "lnqKJ1N512CY",
        "colab": {
          "base_uri": "https://localhost:8080/",
          "height": 35
        },
        "outputId": "0b6536cf-5cfc-4eea-d698-a6d94d51fcb4"
      },
      "source": [
        "nama_depan+\" \"+nama_belakang"
      ],
      "execution_count": null,
      "outputs": [
        {
          "output_type": "execute_result",
          "data": {
            "application/vnd.google.colaboratory.intrinsic+json": {
              "type": "string"
            },
            "text/plain": [
              "'Raffi Ahmad'"
            ]
          },
          "metadata": {},
          "execution_count": 14
        }
      ]
    },
    {
      "cell_type": "markdown",
      "metadata": {
        "id": "22v6yFtVuIZY"
      },
      "source": [
        "## [CHALLENGE] Membuat variabel baru"
      ]
    },
    {
      "cell_type": "code",
      "metadata": {
        "id": "odyomXNfuLhF"
      },
      "source": [
        "nama = \"Rifqi\"\n",
        "umur = 24\n",
        "#buat variabel nama dan umur di sini\n"
      ],
      "execution_count": null,
      "outputs": []
    },
    {
      "cell_type": "code",
      "metadata": {
        "id": "AJyOFzCLukQt",
        "colab": {
          "base_uri": "https://localhost:8080/",
          "height": 35
        },
        "outputId": "51d7d6c8-355b-469c-e2be-a570241efc76"
      },
      "source": [
        "\"Halo, nama saya \"+nama+\". Umur saya adalah \"+str(umur)+\" tahun\""
      ],
      "execution_count": null,
      "outputs": [
        {
          "output_type": "execute_result",
          "data": {
            "application/vnd.google.colaboratory.intrinsic+json": {
              "type": "string"
            },
            "text/plain": [
              "'Halo, nama saya Rifqi. Umur saya adalah 24 tahun'"
            ]
          },
          "metadata": {},
          "execution_count": 17
        }
      ]
    },
    {
      "cell_type": "markdown",
      "metadata": {
        "id": "DEDhyYtt9011"
      },
      "source": [
        "# Import Pandas Library"
      ]
    },
    {
      "cell_type": "code",
      "metadata": {
        "id": "BZ1Avf3x9upB"
      },
      "source": [
        "import pandas as pd"
      ],
      "execution_count": null,
      "outputs": []
    },
    {
      "cell_type": "markdown",
      "metadata": {
        "id": "pB1JeTo09uo7"
      },
      "source": [
        "# Membaca Dataset"
      ]
    },
    {
      "cell_type": "code",
      "metadata": {
        "id": "RJtJfW1n9upG"
      },
      "source": [
        "df_dataset = pd.read_csv('rakamin_class.csv')"
      ],
      "execution_count": null,
      "outputs": []
    },
    {
      "cell_type": "code",
      "metadata": {
        "id": "YTR_8qrIPeNa",
        "colab": {
          "base_uri": "https://localhost:8080/",
          "height": 424
        },
        "outputId": "aa93dc95-704d-4ec1-925b-02e985d30089"
      },
      "source": [
        "df_dataset"
      ],
      "execution_count": null,
      "outputs": [
        {
          "output_type": "execute_result",
          "data": {
            "text/html": [
              "\n",
              "  <div id=\"df-ccf35fd6-5a29-44bc-a2df-8ce247f63ba8\">\n",
              "    <div class=\"colab-df-container\">\n",
              "      <div>\n",
              "<style scoped>\n",
              "    .dataframe tbody tr th:only-of-type {\n",
              "        vertical-align: middle;\n",
              "    }\n",
              "\n",
              "    .dataframe tbody tr th {\n",
              "        vertical-align: top;\n",
              "    }\n",
              "\n",
              "    .dataframe thead th {\n",
              "        text-align: right;\n",
              "    }\n",
              "</style>\n",
              "<table border=\"1\" class=\"dataframe\">\n",
              "  <thead>\n",
              "    <tr style=\"text-align: right;\">\n",
              "      <th></th>\n",
              "      <th>registration_id</th>\n",
              "      <th>name</th>\n",
              "      <th>email</th>\n",
              "      <th>phone</th>\n",
              "      <th>age</th>\n",
              "      <th>city</th>\n",
              "      <th>province</th>\n",
              "      <th>active</th>\n",
              "      <th>class</th>\n",
              "      <th>score</th>\n",
              "    </tr>\n",
              "  </thead>\n",
              "  <tbody>\n",
              "    <tr>\n",
              "      <th>0</th>\n",
              "      <td>RK20202344</td>\n",
              "      <td>Nina</td>\n",
              "      <td>nina@gmail.com</td>\n",
              "      <td>628198157</td>\n",
              "      <td>57</td>\n",
              "      <td>Tanjungpinang</td>\n",
              "      <td>Kepulauan Riau</td>\n",
              "      <td>1</td>\n",
              "      <td>6</td>\n",
              "      <td>80</td>\n",
              "    </tr>\n",
              "    <tr>\n",
              "      <th>1</th>\n",
              "      <td>RK20202345</td>\n",
              "      <td>Dyah</td>\n",
              "      <td>dyah@gmail.com</td>\n",
              "      <td>628306496</td>\n",
              "      <td>24</td>\n",
              "      <td>Bogor</td>\n",
              "      <td>Jawa Barat</td>\n",
              "      <td>0</td>\n",
              "      <td>2</td>\n",
              "      <td>66</td>\n",
              "    </tr>\n",
              "    <tr>\n",
              "      <th>2</th>\n",
              "      <td>RK20202346</td>\n",
              "      <td>Prima</td>\n",
              "      <td>prima@ymail.com</td>\n",
              "      <td>628755450</td>\n",
              "      <td>16</td>\n",
              "      <td>Kota Administrasi Jakarta Pusat</td>\n",
              "      <td>Jakarta</td>\n",
              "      <td>1</td>\n",
              "      <td>1</td>\n",
              "      <td>55</td>\n",
              "    </tr>\n",
              "    <tr>\n",
              "      <th>3</th>\n",
              "      <td>RK20202347</td>\n",
              "      <td>Firman</td>\n",
              "      <td>firman@google.com</td>\n",
              "      <td>628638112</td>\n",
              "      <td>59</td>\n",
              "      <td>Metro</td>\n",
              "      <td>Lampung</td>\n",
              "      <td>1</td>\n",
              "      <td>6</td>\n",
              "      <td>93</td>\n",
              "    </tr>\n",
              "    <tr>\n",
              "      <th>4</th>\n",
              "      <td>RK20202348</td>\n",
              "      <td>Eva</td>\n",
              "      <td>eva@rakamin.com</td>\n",
              "      <td>628702735</td>\n",
              "      <td>42</td>\n",
              "      <td>Malang</td>\n",
              "      <td>Jawa Timur</td>\n",
              "      <td>0</td>\n",
              "      <td>5</td>\n",
              "      <td>80</td>\n",
              "    </tr>\n",
              "    <tr>\n",
              "      <th>...</th>\n",
              "      <td>...</td>\n",
              "      <td>...</td>\n",
              "      <td>...</td>\n",
              "      <td>...</td>\n",
              "      <td>...</td>\n",
              "      <td>...</td>\n",
              "      <td>...</td>\n",
              "      <td>...</td>\n",
              "      <td>...</td>\n",
              "      <td>...</td>\n",
              "    </tr>\n",
              "    <tr>\n",
              "      <th>95</th>\n",
              "      <td>RK20202439</td>\n",
              "      <td>Abdul</td>\n",
              "      <td>abdul@gmail.com</td>\n",
              "      <td>628989064</td>\n",
              "      <td>54</td>\n",
              "      <td>Samarinda</td>\n",
              "      <td>Kalimantan Timur</td>\n",
              "      <td>0</td>\n",
              "      <td>6</td>\n",
              "      <td>59</td>\n",
              "    </tr>\n",
              "    <tr>\n",
              "      <th>96</th>\n",
              "      <td>RK20202440</td>\n",
              "      <td>Ria</td>\n",
              "      <td>ria@gmail.com</td>\n",
              "      <td>628535849</td>\n",
              "      <td>56</td>\n",
              "      <td>Batam</td>\n",
              "      <td>Kepulauan Riau</td>\n",
              "      <td>0</td>\n",
              "      <td>6</td>\n",
              "      <td>58</td>\n",
              "    </tr>\n",
              "    <tr>\n",
              "      <th>97</th>\n",
              "      <td>RK20202441</td>\n",
              "      <td>Putra</td>\n",
              "      <td>putra@gmail.com</td>\n",
              "      <td>628205046</td>\n",
              "      <td>51</td>\n",
              "      <td>Palangkaraya</td>\n",
              "      <td>Kalimantan Tengah</td>\n",
              "      <td>1</td>\n",
              "      <td>6</td>\n",
              "      <td>71</td>\n",
              "    </tr>\n",
              "    <tr>\n",
              "      <th>98</th>\n",
              "      <td>RK20202442</td>\n",
              "      <td>Kokom</td>\n",
              "      <td>kokom@facebook.com</td>\n",
              "      <td>628718477</td>\n",
              "      <td>23</td>\n",
              "      <td>Bekasi</td>\n",
              "      <td>Jawa Barat</td>\n",
              "      <td>0</td>\n",
              "      <td>2</td>\n",
              "      <td>73</td>\n",
              "    </tr>\n",
              "    <tr>\n",
              "      <th>99</th>\n",
              "      <td>RK20202443</td>\n",
              "      <td>Ilham</td>\n",
              "      <td>ilham@gmail.com</td>\n",
              "      <td>628680755</td>\n",
              "      <td>29</td>\n",
              "      <td>Tasikmalaya</td>\n",
              "      <td>Jawa Barat</td>\n",
              "      <td>1</td>\n",
              "      <td>2</td>\n",
              "      <td>52</td>\n",
              "    </tr>\n",
              "  </tbody>\n",
              "</table>\n",
              "<p>100 rows × 10 columns</p>\n",
              "</div>\n",
              "      <button class=\"colab-df-convert\" onclick=\"convertToInteractive('df-ccf35fd6-5a29-44bc-a2df-8ce247f63ba8')\"\n",
              "              title=\"Convert this dataframe to an interactive table.\"\n",
              "              style=\"display:none;\">\n",
              "        \n",
              "  <svg xmlns=\"http://www.w3.org/2000/svg\" height=\"24px\"viewBox=\"0 0 24 24\"\n",
              "       width=\"24px\">\n",
              "    <path d=\"M0 0h24v24H0V0z\" fill=\"none\"/>\n",
              "    <path d=\"M18.56 5.44l.94 2.06.94-2.06 2.06-.94-2.06-.94-.94-2.06-.94 2.06-2.06.94zm-11 1L8.5 8.5l.94-2.06 2.06-.94-2.06-.94L8.5 2.5l-.94 2.06-2.06.94zm10 10l.94 2.06.94-2.06 2.06-.94-2.06-.94-.94-2.06-.94 2.06-2.06.94z\"/><path d=\"M17.41 7.96l-1.37-1.37c-.4-.4-.92-.59-1.43-.59-.52 0-1.04.2-1.43.59L10.3 9.45l-7.72 7.72c-.78.78-.78 2.05 0 2.83L4 21.41c.39.39.9.59 1.41.59.51 0 1.02-.2 1.41-.59l7.78-7.78 2.81-2.81c.8-.78.8-2.07 0-2.86zM5.41 20L4 18.59l7.72-7.72 1.47 1.35L5.41 20z\"/>\n",
              "  </svg>\n",
              "      </button>\n",
              "      \n",
              "  <style>\n",
              "    .colab-df-container {\n",
              "      display:flex;\n",
              "      flex-wrap:wrap;\n",
              "      gap: 12px;\n",
              "    }\n",
              "\n",
              "    .colab-df-convert {\n",
              "      background-color: #E8F0FE;\n",
              "      border: none;\n",
              "      border-radius: 50%;\n",
              "      cursor: pointer;\n",
              "      display: none;\n",
              "      fill: #1967D2;\n",
              "      height: 32px;\n",
              "      padding: 0 0 0 0;\n",
              "      width: 32px;\n",
              "    }\n",
              "\n",
              "    .colab-df-convert:hover {\n",
              "      background-color: #E2EBFA;\n",
              "      box-shadow: 0px 1px 2px rgba(60, 64, 67, 0.3), 0px 1px 3px 1px rgba(60, 64, 67, 0.15);\n",
              "      fill: #174EA6;\n",
              "    }\n",
              "\n",
              "    [theme=dark] .colab-df-convert {\n",
              "      background-color: #3B4455;\n",
              "      fill: #D2E3FC;\n",
              "    }\n",
              "\n",
              "    [theme=dark] .colab-df-convert:hover {\n",
              "      background-color: #434B5C;\n",
              "      box-shadow: 0px 1px 3px 1px rgba(0, 0, 0, 0.15);\n",
              "      filter: drop-shadow(0px 1px 2px rgba(0, 0, 0, 0.3));\n",
              "      fill: #FFFFFF;\n",
              "    }\n",
              "  </style>\n",
              "\n",
              "      <script>\n",
              "        const buttonEl =\n",
              "          document.querySelector('#df-ccf35fd6-5a29-44bc-a2df-8ce247f63ba8 button.colab-df-convert');\n",
              "        buttonEl.style.display =\n",
              "          google.colab.kernel.accessAllowed ? 'block' : 'none';\n",
              "\n",
              "        async function convertToInteractive(key) {\n",
              "          const element = document.querySelector('#df-ccf35fd6-5a29-44bc-a2df-8ce247f63ba8');\n",
              "          const dataTable =\n",
              "            await google.colab.kernel.invokeFunction('convertToInteractive',\n",
              "                                                     [key], {});\n",
              "          if (!dataTable) return;\n",
              "\n",
              "          const docLinkHtml = 'Like what you see? Visit the ' +\n",
              "            '<a target=\"_blank\" href=https://colab.research.google.com/notebooks/data_table.ipynb>data table notebook</a>'\n",
              "            + ' to learn more about interactive tables.';\n",
              "          element.innerHTML = '';\n",
              "          dataTable['output_type'] = 'display_data';\n",
              "          await google.colab.output.renderOutput(dataTable, element);\n",
              "          const docLink = document.createElement('div');\n",
              "          docLink.innerHTML = docLinkHtml;\n",
              "          element.appendChild(docLink);\n",
              "        }\n",
              "      </script>\n",
              "    </div>\n",
              "  </div>\n",
              "  "
            ],
            "text/plain": [
              "   registration_id    name               email  ...  active  class score\n",
              "0       RK20202344    Nina      nina@gmail.com  ...       1      6    80\n",
              "1       RK20202345    Dyah      dyah@gmail.com  ...       0      2    66\n",
              "2       RK20202346   Prima     prima@ymail.com  ...       1      1    55\n",
              "3       RK20202347  Firman   firman@google.com  ...       1      6    93\n",
              "4       RK20202348     Eva     eva@rakamin.com  ...       0      5    80\n",
              "..             ...     ...                 ...  ...     ...    ...   ...\n",
              "95      RK20202439   Abdul     abdul@gmail.com  ...       0      6    59\n",
              "96      RK20202440     Ria       ria@gmail.com  ...       0      6    58\n",
              "97      RK20202441   Putra     putra@gmail.com  ...       1      6    71\n",
              "98      RK20202442   Kokom  kokom@facebook.com  ...       0      2    73\n",
              "99      RK20202443   Ilham     ilham@gmail.com  ...       1      2    52\n",
              "\n",
              "[100 rows x 10 columns]"
            ]
          },
          "metadata": {},
          "execution_count": 21
        }
      ]
    },
    {
      "cell_type": "markdown",
      "metadata": {
        "id": "MYZPCSCG9upH"
      },
      "source": [
        "# Operasi Sederhana Data Frame"
      ]
    },
    {
      "cell_type": "markdown",
      "metadata": {
        "id": "KmXRzEyt9upI"
      },
      "source": [
        "## a. shape"
      ]
    },
    {
      "cell_type": "markdown",
      "metadata": {
        "id": "8HYYw06RXizD"
      },
      "source": [
        "Melihat ukuran Data Frame (baris & kolom)"
      ]
    },
    {
      "cell_type": "code",
      "metadata": {
        "id": "EUYwWkUK9upI",
        "colab": {
          "base_uri": "https://localhost:8080/"
        },
        "outputId": "21124e3b-931b-4818-c59c-2868c03504ec"
      },
      "source": [
        "df_dataset.shape"
      ],
      "execution_count": null,
      "outputs": [
        {
          "output_type": "execute_result",
          "data": {
            "text/plain": [
              "(100, 10)"
            ]
          },
          "metadata": {},
          "execution_count": 22
        }
      ]
    },
    {
      "cell_type": "code",
      "metadata": {
        "id": "BRwK3kyK9upJ",
        "colab": {
          "base_uri": "https://localhost:8080/"
        },
        "outputId": "bb631d10-ee20-4c43-db2c-3a088e1609b1"
      },
      "source": [
        "df_dataset.shape[0]"
      ],
      "execution_count": null,
      "outputs": [
        {
          "output_type": "execute_result",
          "data": {
            "text/plain": [
              "100"
            ]
          },
          "metadata": {},
          "execution_count": 23
        }
      ]
    },
    {
      "cell_type": "code",
      "metadata": {
        "id": "X22p98Pg9upJ",
        "colab": {
          "base_uri": "https://localhost:8080/"
        },
        "outputId": "345fc0c0-48ec-419a-ddf8-0bc6f78069da"
      },
      "source": [
        "df_dataset.shape[1]"
      ],
      "execution_count": null,
      "outputs": [
        {
          "output_type": "execute_result",
          "data": {
            "text/plain": [
              "10"
            ]
          },
          "metadata": {},
          "execution_count": 24
        }
      ]
    },
    {
      "cell_type": "markdown",
      "metadata": {
        "id": "9OPhmxkb9upI"
      },
      "source": [
        "## b. columns"
      ]
    },
    {
      "cell_type": "markdown",
      "metadata": {
        "id": "huu91OBzXe0x"
      },
      "source": [
        "Melihat semua nama kolom"
      ]
    },
    {
      "cell_type": "code",
      "metadata": {
        "id": "7x1TCOSY9upI",
        "colab": {
          "base_uri": "https://localhost:8080/"
        },
        "outputId": "c6ac378a-bcec-4faa-ef18-b4646eb25a20"
      },
      "source": [
        "df_dataset.columns"
      ],
      "execution_count": null,
      "outputs": [
        {
          "output_type": "execute_result",
          "data": {
            "text/plain": [
              "Index(['registration_id', 'name', 'email', 'phone', 'age', 'city', 'province',\n",
              "       'active', 'class', 'score'],\n",
              "      dtype='object')"
            ]
          },
          "metadata": {},
          "execution_count": 25
        }
      ]
    },
    {
      "cell_type": "markdown",
      "metadata": {
        "id": "aeU7gsv29upK"
      },
      "source": [
        "## c. head()"
      ]
    },
    {
      "cell_type": "markdown",
      "metadata": {
        "id": "a7Lq_QINYKXe"
      },
      "source": [
        "Melihat N baris pertama  (default N=5)"
      ]
    },
    {
      "cell_type": "code",
      "metadata": {
        "id": "eQRutHFu9upK",
        "colab": {
          "base_uri": "https://localhost:8080/",
          "height": 206
        },
        "outputId": "2bc6cce5-e738-4fdd-8b83-f3c76bd5dcca"
      },
      "source": [
        "df_dataset.head()\n",
        "#dari atas ke bawah#"
      ],
      "execution_count": null,
      "outputs": [
        {
          "output_type": "execute_result",
          "data": {
            "text/html": [
              "\n",
              "  <div id=\"df-3ccd4c2d-db53-446d-8b47-f0fac0884bc8\">\n",
              "    <div class=\"colab-df-container\">\n",
              "      <div>\n",
              "<style scoped>\n",
              "    .dataframe tbody tr th:only-of-type {\n",
              "        vertical-align: middle;\n",
              "    }\n",
              "\n",
              "    .dataframe tbody tr th {\n",
              "        vertical-align: top;\n",
              "    }\n",
              "\n",
              "    .dataframe thead th {\n",
              "        text-align: right;\n",
              "    }\n",
              "</style>\n",
              "<table border=\"1\" class=\"dataframe\">\n",
              "  <thead>\n",
              "    <tr style=\"text-align: right;\">\n",
              "      <th></th>\n",
              "      <th>registration_id</th>\n",
              "      <th>name</th>\n",
              "      <th>email</th>\n",
              "      <th>phone</th>\n",
              "      <th>age</th>\n",
              "      <th>city</th>\n",
              "      <th>province</th>\n",
              "      <th>active</th>\n",
              "      <th>class</th>\n",
              "      <th>score</th>\n",
              "    </tr>\n",
              "  </thead>\n",
              "  <tbody>\n",
              "    <tr>\n",
              "      <th>0</th>\n",
              "      <td>RK20202344</td>\n",
              "      <td>Nina</td>\n",
              "      <td>nina@gmail.com</td>\n",
              "      <td>628198157</td>\n",
              "      <td>57</td>\n",
              "      <td>Tanjungpinang</td>\n",
              "      <td>Kepulauan Riau</td>\n",
              "      <td>1</td>\n",
              "      <td>6</td>\n",
              "      <td>80</td>\n",
              "    </tr>\n",
              "    <tr>\n",
              "      <th>1</th>\n",
              "      <td>RK20202345</td>\n",
              "      <td>Dyah</td>\n",
              "      <td>dyah@gmail.com</td>\n",
              "      <td>628306496</td>\n",
              "      <td>24</td>\n",
              "      <td>Bogor</td>\n",
              "      <td>Jawa Barat</td>\n",
              "      <td>0</td>\n",
              "      <td>2</td>\n",
              "      <td>66</td>\n",
              "    </tr>\n",
              "    <tr>\n",
              "      <th>2</th>\n",
              "      <td>RK20202346</td>\n",
              "      <td>Prima</td>\n",
              "      <td>prima@ymail.com</td>\n",
              "      <td>628755450</td>\n",
              "      <td>16</td>\n",
              "      <td>Kota Administrasi Jakarta Pusat</td>\n",
              "      <td>Jakarta</td>\n",
              "      <td>1</td>\n",
              "      <td>1</td>\n",
              "      <td>55</td>\n",
              "    </tr>\n",
              "    <tr>\n",
              "      <th>3</th>\n",
              "      <td>RK20202347</td>\n",
              "      <td>Firman</td>\n",
              "      <td>firman@google.com</td>\n",
              "      <td>628638112</td>\n",
              "      <td>59</td>\n",
              "      <td>Metro</td>\n",
              "      <td>Lampung</td>\n",
              "      <td>1</td>\n",
              "      <td>6</td>\n",
              "      <td>93</td>\n",
              "    </tr>\n",
              "    <tr>\n",
              "      <th>4</th>\n",
              "      <td>RK20202348</td>\n",
              "      <td>Eva</td>\n",
              "      <td>eva@rakamin.com</td>\n",
              "      <td>628702735</td>\n",
              "      <td>42</td>\n",
              "      <td>Malang</td>\n",
              "      <td>Jawa Timur</td>\n",
              "      <td>0</td>\n",
              "      <td>5</td>\n",
              "      <td>80</td>\n",
              "    </tr>\n",
              "  </tbody>\n",
              "</table>\n",
              "</div>\n",
              "      <button class=\"colab-df-convert\" onclick=\"convertToInteractive('df-3ccd4c2d-db53-446d-8b47-f0fac0884bc8')\"\n",
              "              title=\"Convert this dataframe to an interactive table.\"\n",
              "              style=\"display:none;\">\n",
              "        \n",
              "  <svg xmlns=\"http://www.w3.org/2000/svg\" height=\"24px\"viewBox=\"0 0 24 24\"\n",
              "       width=\"24px\">\n",
              "    <path d=\"M0 0h24v24H0V0z\" fill=\"none\"/>\n",
              "    <path d=\"M18.56 5.44l.94 2.06.94-2.06 2.06-.94-2.06-.94-.94-2.06-.94 2.06-2.06.94zm-11 1L8.5 8.5l.94-2.06 2.06-.94-2.06-.94L8.5 2.5l-.94 2.06-2.06.94zm10 10l.94 2.06.94-2.06 2.06-.94-2.06-.94-.94-2.06-.94 2.06-2.06.94z\"/><path d=\"M17.41 7.96l-1.37-1.37c-.4-.4-.92-.59-1.43-.59-.52 0-1.04.2-1.43.59L10.3 9.45l-7.72 7.72c-.78.78-.78 2.05 0 2.83L4 21.41c.39.39.9.59 1.41.59.51 0 1.02-.2 1.41-.59l7.78-7.78 2.81-2.81c.8-.78.8-2.07 0-2.86zM5.41 20L4 18.59l7.72-7.72 1.47 1.35L5.41 20z\"/>\n",
              "  </svg>\n",
              "      </button>\n",
              "      \n",
              "  <style>\n",
              "    .colab-df-container {\n",
              "      display:flex;\n",
              "      flex-wrap:wrap;\n",
              "      gap: 12px;\n",
              "    }\n",
              "\n",
              "    .colab-df-convert {\n",
              "      background-color: #E8F0FE;\n",
              "      border: none;\n",
              "      border-radius: 50%;\n",
              "      cursor: pointer;\n",
              "      display: none;\n",
              "      fill: #1967D2;\n",
              "      height: 32px;\n",
              "      padding: 0 0 0 0;\n",
              "      width: 32px;\n",
              "    }\n",
              "\n",
              "    .colab-df-convert:hover {\n",
              "      background-color: #E2EBFA;\n",
              "      box-shadow: 0px 1px 2px rgba(60, 64, 67, 0.3), 0px 1px 3px 1px rgba(60, 64, 67, 0.15);\n",
              "      fill: #174EA6;\n",
              "    }\n",
              "\n",
              "    [theme=dark] .colab-df-convert {\n",
              "      background-color: #3B4455;\n",
              "      fill: #D2E3FC;\n",
              "    }\n",
              "\n",
              "    [theme=dark] .colab-df-convert:hover {\n",
              "      background-color: #434B5C;\n",
              "      box-shadow: 0px 1px 3px 1px rgba(0, 0, 0, 0.15);\n",
              "      filter: drop-shadow(0px 1px 2px rgba(0, 0, 0, 0.3));\n",
              "      fill: #FFFFFF;\n",
              "    }\n",
              "  </style>\n",
              "\n",
              "      <script>\n",
              "        const buttonEl =\n",
              "          document.querySelector('#df-3ccd4c2d-db53-446d-8b47-f0fac0884bc8 button.colab-df-convert');\n",
              "        buttonEl.style.display =\n",
              "          google.colab.kernel.accessAllowed ? 'block' : 'none';\n",
              "\n",
              "        async function convertToInteractive(key) {\n",
              "          const element = document.querySelector('#df-3ccd4c2d-db53-446d-8b47-f0fac0884bc8');\n",
              "          const dataTable =\n",
              "            await google.colab.kernel.invokeFunction('convertToInteractive',\n",
              "                                                     [key], {});\n",
              "          if (!dataTable) return;\n",
              "\n",
              "          const docLinkHtml = 'Like what you see? Visit the ' +\n",
              "            '<a target=\"_blank\" href=https://colab.research.google.com/notebooks/data_table.ipynb>data table notebook</a>'\n",
              "            + ' to learn more about interactive tables.';\n",
              "          element.innerHTML = '';\n",
              "          dataTable['output_type'] = 'display_data';\n",
              "          await google.colab.output.renderOutput(dataTable, element);\n",
              "          const docLink = document.createElement('div');\n",
              "          docLink.innerHTML = docLinkHtml;\n",
              "          element.appendChild(docLink);\n",
              "        }\n",
              "      </script>\n",
              "    </div>\n",
              "  </div>\n",
              "  "
            ],
            "text/plain": [
              "  registration_id    name              email  ...  active  class score\n",
              "0      RK20202344    Nina     nina@gmail.com  ...       1      6    80\n",
              "1      RK20202345    Dyah     dyah@gmail.com  ...       0      2    66\n",
              "2      RK20202346   Prima    prima@ymail.com  ...       1      1    55\n",
              "3      RK20202347  Firman  firman@google.com  ...       1      6    93\n",
              "4      RK20202348     Eva    eva@rakamin.com  ...       0      5    80\n",
              "\n",
              "[5 rows x 10 columns]"
            ]
          },
          "metadata": {},
          "execution_count": 28
        }
      ]
    },
    {
      "cell_type": "code",
      "metadata": {
        "id": "Uj_WYjOn9upL",
        "colab": {
          "base_uri": "https://localhost:8080/",
          "height": 143
        },
        "outputId": "fb0d1984-3b8f-44a2-cfa3-0317a834a3d9"
      },
      "source": [
        "df_dataset.head(3)"
      ],
      "execution_count": null,
      "outputs": [
        {
          "output_type": "execute_result",
          "data": {
            "text/html": [
              "\n",
              "  <div id=\"df-2b392ce8-4ef4-4270-adcd-57d0df2274b6\">\n",
              "    <div class=\"colab-df-container\">\n",
              "      <div>\n",
              "<style scoped>\n",
              "    .dataframe tbody tr th:only-of-type {\n",
              "        vertical-align: middle;\n",
              "    }\n",
              "\n",
              "    .dataframe tbody tr th {\n",
              "        vertical-align: top;\n",
              "    }\n",
              "\n",
              "    .dataframe thead th {\n",
              "        text-align: right;\n",
              "    }\n",
              "</style>\n",
              "<table border=\"1\" class=\"dataframe\">\n",
              "  <thead>\n",
              "    <tr style=\"text-align: right;\">\n",
              "      <th></th>\n",
              "      <th>registration_id</th>\n",
              "      <th>name</th>\n",
              "      <th>email</th>\n",
              "      <th>phone</th>\n",
              "      <th>age</th>\n",
              "      <th>city</th>\n",
              "      <th>province</th>\n",
              "      <th>active</th>\n",
              "      <th>class</th>\n",
              "      <th>score</th>\n",
              "    </tr>\n",
              "  </thead>\n",
              "  <tbody>\n",
              "    <tr>\n",
              "      <th>0</th>\n",
              "      <td>RK20202344</td>\n",
              "      <td>Nina</td>\n",
              "      <td>nina@gmail.com</td>\n",
              "      <td>628198157</td>\n",
              "      <td>57</td>\n",
              "      <td>Tanjungpinang</td>\n",
              "      <td>Kepulauan Riau</td>\n",
              "      <td>1</td>\n",
              "      <td>6</td>\n",
              "      <td>80</td>\n",
              "    </tr>\n",
              "    <tr>\n",
              "      <th>1</th>\n",
              "      <td>RK20202345</td>\n",
              "      <td>Dyah</td>\n",
              "      <td>dyah@gmail.com</td>\n",
              "      <td>628306496</td>\n",
              "      <td>24</td>\n",
              "      <td>Bogor</td>\n",
              "      <td>Jawa Barat</td>\n",
              "      <td>0</td>\n",
              "      <td>2</td>\n",
              "      <td>66</td>\n",
              "    </tr>\n",
              "    <tr>\n",
              "      <th>2</th>\n",
              "      <td>RK20202346</td>\n",
              "      <td>Prima</td>\n",
              "      <td>prima@ymail.com</td>\n",
              "      <td>628755450</td>\n",
              "      <td>16</td>\n",
              "      <td>Kota Administrasi Jakarta Pusat</td>\n",
              "      <td>Jakarta</td>\n",
              "      <td>1</td>\n",
              "      <td>1</td>\n",
              "      <td>55</td>\n",
              "    </tr>\n",
              "  </tbody>\n",
              "</table>\n",
              "</div>\n",
              "      <button class=\"colab-df-convert\" onclick=\"convertToInteractive('df-2b392ce8-4ef4-4270-adcd-57d0df2274b6')\"\n",
              "              title=\"Convert this dataframe to an interactive table.\"\n",
              "              style=\"display:none;\">\n",
              "        \n",
              "  <svg xmlns=\"http://www.w3.org/2000/svg\" height=\"24px\"viewBox=\"0 0 24 24\"\n",
              "       width=\"24px\">\n",
              "    <path d=\"M0 0h24v24H0V0z\" fill=\"none\"/>\n",
              "    <path d=\"M18.56 5.44l.94 2.06.94-2.06 2.06-.94-2.06-.94-.94-2.06-.94 2.06-2.06.94zm-11 1L8.5 8.5l.94-2.06 2.06-.94-2.06-.94L8.5 2.5l-.94 2.06-2.06.94zm10 10l.94 2.06.94-2.06 2.06-.94-2.06-.94-.94-2.06-.94 2.06-2.06.94z\"/><path d=\"M17.41 7.96l-1.37-1.37c-.4-.4-.92-.59-1.43-.59-.52 0-1.04.2-1.43.59L10.3 9.45l-7.72 7.72c-.78.78-.78 2.05 0 2.83L4 21.41c.39.39.9.59 1.41.59.51 0 1.02-.2 1.41-.59l7.78-7.78 2.81-2.81c.8-.78.8-2.07 0-2.86zM5.41 20L4 18.59l7.72-7.72 1.47 1.35L5.41 20z\"/>\n",
              "  </svg>\n",
              "      </button>\n",
              "      \n",
              "  <style>\n",
              "    .colab-df-container {\n",
              "      display:flex;\n",
              "      flex-wrap:wrap;\n",
              "      gap: 12px;\n",
              "    }\n",
              "\n",
              "    .colab-df-convert {\n",
              "      background-color: #E8F0FE;\n",
              "      border: none;\n",
              "      border-radius: 50%;\n",
              "      cursor: pointer;\n",
              "      display: none;\n",
              "      fill: #1967D2;\n",
              "      height: 32px;\n",
              "      padding: 0 0 0 0;\n",
              "      width: 32px;\n",
              "    }\n",
              "\n",
              "    .colab-df-convert:hover {\n",
              "      background-color: #E2EBFA;\n",
              "      box-shadow: 0px 1px 2px rgba(60, 64, 67, 0.3), 0px 1px 3px 1px rgba(60, 64, 67, 0.15);\n",
              "      fill: #174EA6;\n",
              "    }\n",
              "\n",
              "    [theme=dark] .colab-df-convert {\n",
              "      background-color: #3B4455;\n",
              "      fill: #D2E3FC;\n",
              "    }\n",
              "\n",
              "    [theme=dark] .colab-df-convert:hover {\n",
              "      background-color: #434B5C;\n",
              "      box-shadow: 0px 1px 3px 1px rgba(0, 0, 0, 0.15);\n",
              "      filter: drop-shadow(0px 1px 2px rgba(0, 0, 0, 0.3));\n",
              "      fill: #FFFFFF;\n",
              "    }\n",
              "  </style>\n",
              "\n",
              "      <script>\n",
              "        const buttonEl =\n",
              "          document.querySelector('#df-2b392ce8-4ef4-4270-adcd-57d0df2274b6 button.colab-df-convert');\n",
              "        buttonEl.style.display =\n",
              "          google.colab.kernel.accessAllowed ? 'block' : 'none';\n",
              "\n",
              "        async function convertToInteractive(key) {\n",
              "          const element = document.querySelector('#df-2b392ce8-4ef4-4270-adcd-57d0df2274b6');\n",
              "          const dataTable =\n",
              "            await google.colab.kernel.invokeFunction('convertToInteractive',\n",
              "                                                     [key], {});\n",
              "          if (!dataTable) return;\n",
              "\n",
              "          const docLinkHtml = 'Like what you see? Visit the ' +\n",
              "            '<a target=\"_blank\" href=https://colab.research.google.com/notebooks/data_table.ipynb>data table notebook</a>'\n",
              "            + ' to learn more about interactive tables.';\n",
              "          element.innerHTML = '';\n",
              "          dataTable['output_type'] = 'display_data';\n",
              "          await google.colab.output.renderOutput(dataTable, element);\n",
              "          const docLink = document.createElement('div');\n",
              "          docLink.innerHTML = docLinkHtml;\n",
              "          element.appendChild(docLink);\n",
              "        }\n",
              "      </script>\n",
              "    </div>\n",
              "  </div>\n",
              "  "
            ],
            "text/plain": [
              "  registration_id   name            email  ...  active  class score\n",
              "0      RK20202344   Nina   nina@gmail.com  ...       1      6    80\n",
              "1      RK20202345   Dyah   dyah@gmail.com  ...       0      2    66\n",
              "2      RK20202346  Prima  prima@ymail.com  ...       1      1    55\n",
              "\n",
              "[3 rows x 10 columns]"
            ]
          },
          "metadata": {},
          "execution_count": 27
        }
      ]
    },
    {
      "cell_type": "markdown",
      "metadata": {
        "id": "LCbqXYgS9upL"
      },
      "source": [
        "## d. tail()"
      ]
    },
    {
      "cell_type": "markdown",
      "metadata": {
        "id": "P1hGEl5HYNlU"
      },
      "source": [
        "Melihat N baris terakhir (default N=5)"
      ]
    },
    {
      "cell_type": "code",
      "metadata": {
        "id": "Bqes3s6YWAbc",
        "colab": {
          "base_uri": "https://localhost:8080/",
          "height": 206
        },
        "outputId": "a8e9c79b-6a83-4579-8870-102c72d66908"
      },
      "source": [
        "df_dataset.tail()\n",
        "#dari bawah ke atas#"
      ],
      "execution_count": null,
      "outputs": [
        {
          "output_type": "execute_result",
          "data": {
            "text/html": [
              "\n",
              "  <div id=\"df-b85ffc09-8577-4fc6-adb2-427c761c38d2\">\n",
              "    <div class=\"colab-df-container\">\n",
              "      <div>\n",
              "<style scoped>\n",
              "    .dataframe tbody tr th:only-of-type {\n",
              "        vertical-align: middle;\n",
              "    }\n",
              "\n",
              "    .dataframe tbody tr th {\n",
              "        vertical-align: top;\n",
              "    }\n",
              "\n",
              "    .dataframe thead th {\n",
              "        text-align: right;\n",
              "    }\n",
              "</style>\n",
              "<table border=\"1\" class=\"dataframe\">\n",
              "  <thead>\n",
              "    <tr style=\"text-align: right;\">\n",
              "      <th></th>\n",
              "      <th>registration_id</th>\n",
              "      <th>name</th>\n",
              "      <th>email</th>\n",
              "      <th>phone</th>\n",
              "      <th>age</th>\n",
              "      <th>city</th>\n",
              "      <th>province</th>\n",
              "      <th>active</th>\n",
              "      <th>class</th>\n",
              "      <th>score</th>\n",
              "    </tr>\n",
              "  </thead>\n",
              "  <tbody>\n",
              "    <tr>\n",
              "      <th>95</th>\n",
              "      <td>RK20202439</td>\n",
              "      <td>Abdul</td>\n",
              "      <td>abdul@gmail.com</td>\n",
              "      <td>628989064</td>\n",
              "      <td>54</td>\n",
              "      <td>Samarinda</td>\n",
              "      <td>Kalimantan Timur</td>\n",
              "      <td>0</td>\n",
              "      <td>6</td>\n",
              "      <td>59</td>\n",
              "    </tr>\n",
              "    <tr>\n",
              "      <th>96</th>\n",
              "      <td>RK20202440</td>\n",
              "      <td>Ria</td>\n",
              "      <td>ria@gmail.com</td>\n",
              "      <td>628535849</td>\n",
              "      <td>56</td>\n",
              "      <td>Batam</td>\n",
              "      <td>Kepulauan Riau</td>\n",
              "      <td>0</td>\n",
              "      <td>6</td>\n",
              "      <td>58</td>\n",
              "    </tr>\n",
              "    <tr>\n",
              "      <th>97</th>\n",
              "      <td>RK20202441</td>\n",
              "      <td>Putra</td>\n",
              "      <td>putra@gmail.com</td>\n",
              "      <td>628205046</td>\n",
              "      <td>51</td>\n",
              "      <td>Palangkaraya</td>\n",
              "      <td>Kalimantan Tengah</td>\n",
              "      <td>1</td>\n",
              "      <td>6</td>\n",
              "      <td>71</td>\n",
              "    </tr>\n",
              "    <tr>\n",
              "      <th>98</th>\n",
              "      <td>RK20202442</td>\n",
              "      <td>Kokom</td>\n",
              "      <td>kokom@facebook.com</td>\n",
              "      <td>628718477</td>\n",
              "      <td>23</td>\n",
              "      <td>Bekasi</td>\n",
              "      <td>Jawa Barat</td>\n",
              "      <td>0</td>\n",
              "      <td>2</td>\n",
              "      <td>73</td>\n",
              "    </tr>\n",
              "    <tr>\n",
              "      <th>99</th>\n",
              "      <td>RK20202443</td>\n",
              "      <td>Ilham</td>\n",
              "      <td>ilham@gmail.com</td>\n",
              "      <td>628680755</td>\n",
              "      <td>29</td>\n",
              "      <td>Tasikmalaya</td>\n",
              "      <td>Jawa Barat</td>\n",
              "      <td>1</td>\n",
              "      <td>2</td>\n",
              "      <td>52</td>\n",
              "    </tr>\n",
              "  </tbody>\n",
              "</table>\n",
              "</div>\n",
              "      <button class=\"colab-df-convert\" onclick=\"convertToInteractive('df-b85ffc09-8577-4fc6-adb2-427c761c38d2')\"\n",
              "              title=\"Convert this dataframe to an interactive table.\"\n",
              "              style=\"display:none;\">\n",
              "        \n",
              "  <svg xmlns=\"http://www.w3.org/2000/svg\" height=\"24px\"viewBox=\"0 0 24 24\"\n",
              "       width=\"24px\">\n",
              "    <path d=\"M0 0h24v24H0V0z\" fill=\"none\"/>\n",
              "    <path d=\"M18.56 5.44l.94 2.06.94-2.06 2.06-.94-2.06-.94-.94-2.06-.94 2.06-2.06.94zm-11 1L8.5 8.5l.94-2.06 2.06-.94-2.06-.94L8.5 2.5l-.94 2.06-2.06.94zm10 10l.94 2.06.94-2.06 2.06-.94-2.06-.94-.94-2.06-.94 2.06-2.06.94z\"/><path d=\"M17.41 7.96l-1.37-1.37c-.4-.4-.92-.59-1.43-.59-.52 0-1.04.2-1.43.59L10.3 9.45l-7.72 7.72c-.78.78-.78 2.05 0 2.83L4 21.41c.39.39.9.59 1.41.59.51 0 1.02-.2 1.41-.59l7.78-7.78 2.81-2.81c.8-.78.8-2.07 0-2.86zM5.41 20L4 18.59l7.72-7.72 1.47 1.35L5.41 20z\"/>\n",
              "  </svg>\n",
              "      </button>\n",
              "      \n",
              "  <style>\n",
              "    .colab-df-container {\n",
              "      display:flex;\n",
              "      flex-wrap:wrap;\n",
              "      gap: 12px;\n",
              "    }\n",
              "\n",
              "    .colab-df-convert {\n",
              "      background-color: #E8F0FE;\n",
              "      border: none;\n",
              "      border-radius: 50%;\n",
              "      cursor: pointer;\n",
              "      display: none;\n",
              "      fill: #1967D2;\n",
              "      height: 32px;\n",
              "      padding: 0 0 0 0;\n",
              "      width: 32px;\n",
              "    }\n",
              "\n",
              "    .colab-df-convert:hover {\n",
              "      background-color: #E2EBFA;\n",
              "      box-shadow: 0px 1px 2px rgba(60, 64, 67, 0.3), 0px 1px 3px 1px rgba(60, 64, 67, 0.15);\n",
              "      fill: #174EA6;\n",
              "    }\n",
              "\n",
              "    [theme=dark] .colab-df-convert {\n",
              "      background-color: #3B4455;\n",
              "      fill: #D2E3FC;\n",
              "    }\n",
              "\n",
              "    [theme=dark] .colab-df-convert:hover {\n",
              "      background-color: #434B5C;\n",
              "      box-shadow: 0px 1px 3px 1px rgba(0, 0, 0, 0.15);\n",
              "      filter: drop-shadow(0px 1px 2px rgba(0, 0, 0, 0.3));\n",
              "      fill: #FFFFFF;\n",
              "    }\n",
              "  </style>\n",
              "\n",
              "      <script>\n",
              "        const buttonEl =\n",
              "          document.querySelector('#df-b85ffc09-8577-4fc6-adb2-427c761c38d2 button.colab-df-convert');\n",
              "        buttonEl.style.display =\n",
              "          google.colab.kernel.accessAllowed ? 'block' : 'none';\n",
              "\n",
              "        async function convertToInteractive(key) {\n",
              "          const element = document.querySelector('#df-b85ffc09-8577-4fc6-adb2-427c761c38d2');\n",
              "          const dataTable =\n",
              "            await google.colab.kernel.invokeFunction('convertToInteractive',\n",
              "                                                     [key], {});\n",
              "          if (!dataTable) return;\n",
              "\n",
              "          const docLinkHtml = 'Like what you see? Visit the ' +\n",
              "            '<a target=\"_blank\" href=https://colab.research.google.com/notebooks/data_table.ipynb>data table notebook</a>'\n",
              "            + ' to learn more about interactive tables.';\n",
              "          element.innerHTML = '';\n",
              "          dataTable['output_type'] = 'display_data';\n",
              "          await google.colab.output.renderOutput(dataTable, element);\n",
              "          const docLink = document.createElement('div');\n",
              "          docLink.innerHTML = docLinkHtml;\n",
              "          element.appendChild(docLink);\n",
              "        }\n",
              "      </script>\n",
              "    </div>\n",
              "  </div>\n",
              "  "
            ],
            "text/plain": [
              "   registration_id   name               email  ...  active  class score\n",
              "95      RK20202439  Abdul     abdul@gmail.com  ...       0      6    59\n",
              "96      RK20202440    Ria       ria@gmail.com  ...       0      6    58\n",
              "97      RK20202441  Putra     putra@gmail.com  ...       1      6    71\n",
              "98      RK20202442  Kokom  kokom@facebook.com  ...       0      2    73\n",
              "99      RK20202443  Ilham     ilham@gmail.com  ...       1      2    52\n",
              "\n",
              "[5 rows x 10 columns]"
            ]
          },
          "metadata": {},
          "execution_count": 29
        }
      ]
    },
    {
      "cell_type": "code",
      "metadata": {
        "id": "RAumz3xn9upL",
        "colab": {
          "base_uri": "https://localhost:8080/",
          "height": 143
        },
        "outputId": "955712a9-d8d8-46ec-d7ae-83a48f64cc6e"
      },
      "source": [
        "df_dataset.tail(3)"
      ],
      "execution_count": null,
      "outputs": [
        {
          "output_type": "execute_result",
          "data": {
            "text/html": [
              "\n",
              "  <div id=\"df-1069bef8-091d-48ca-ba95-99f08630da69\">\n",
              "    <div class=\"colab-df-container\">\n",
              "      <div>\n",
              "<style scoped>\n",
              "    .dataframe tbody tr th:only-of-type {\n",
              "        vertical-align: middle;\n",
              "    }\n",
              "\n",
              "    .dataframe tbody tr th {\n",
              "        vertical-align: top;\n",
              "    }\n",
              "\n",
              "    .dataframe thead th {\n",
              "        text-align: right;\n",
              "    }\n",
              "</style>\n",
              "<table border=\"1\" class=\"dataframe\">\n",
              "  <thead>\n",
              "    <tr style=\"text-align: right;\">\n",
              "      <th></th>\n",
              "      <th>registration_id</th>\n",
              "      <th>name</th>\n",
              "      <th>email</th>\n",
              "      <th>phone</th>\n",
              "      <th>age</th>\n",
              "      <th>city</th>\n",
              "      <th>province</th>\n",
              "      <th>active</th>\n",
              "      <th>class</th>\n",
              "      <th>score</th>\n",
              "    </tr>\n",
              "  </thead>\n",
              "  <tbody>\n",
              "    <tr>\n",
              "      <th>97</th>\n",
              "      <td>RK20202441</td>\n",
              "      <td>Putra</td>\n",
              "      <td>putra@gmail.com</td>\n",
              "      <td>628205046</td>\n",
              "      <td>51</td>\n",
              "      <td>Palangkaraya</td>\n",
              "      <td>Kalimantan Tengah</td>\n",
              "      <td>1</td>\n",
              "      <td>6</td>\n",
              "      <td>71</td>\n",
              "    </tr>\n",
              "    <tr>\n",
              "      <th>98</th>\n",
              "      <td>RK20202442</td>\n",
              "      <td>Kokom</td>\n",
              "      <td>kokom@facebook.com</td>\n",
              "      <td>628718477</td>\n",
              "      <td>23</td>\n",
              "      <td>Bekasi</td>\n",
              "      <td>Jawa Barat</td>\n",
              "      <td>0</td>\n",
              "      <td>2</td>\n",
              "      <td>73</td>\n",
              "    </tr>\n",
              "    <tr>\n",
              "      <th>99</th>\n",
              "      <td>RK20202443</td>\n",
              "      <td>Ilham</td>\n",
              "      <td>ilham@gmail.com</td>\n",
              "      <td>628680755</td>\n",
              "      <td>29</td>\n",
              "      <td>Tasikmalaya</td>\n",
              "      <td>Jawa Barat</td>\n",
              "      <td>1</td>\n",
              "      <td>2</td>\n",
              "      <td>52</td>\n",
              "    </tr>\n",
              "  </tbody>\n",
              "</table>\n",
              "</div>\n",
              "      <button class=\"colab-df-convert\" onclick=\"convertToInteractive('df-1069bef8-091d-48ca-ba95-99f08630da69')\"\n",
              "              title=\"Convert this dataframe to an interactive table.\"\n",
              "              style=\"display:none;\">\n",
              "        \n",
              "  <svg xmlns=\"http://www.w3.org/2000/svg\" height=\"24px\"viewBox=\"0 0 24 24\"\n",
              "       width=\"24px\">\n",
              "    <path d=\"M0 0h24v24H0V0z\" fill=\"none\"/>\n",
              "    <path d=\"M18.56 5.44l.94 2.06.94-2.06 2.06-.94-2.06-.94-.94-2.06-.94 2.06-2.06.94zm-11 1L8.5 8.5l.94-2.06 2.06-.94-2.06-.94L8.5 2.5l-.94 2.06-2.06.94zm10 10l.94 2.06.94-2.06 2.06-.94-2.06-.94-.94-2.06-.94 2.06-2.06.94z\"/><path d=\"M17.41 7.96l-1.37-1.37c-.4-.4-.92-.59-1.43-.59-.52 0-1.04.2-1.43.59L10.3 9.45l-7.72 7.72c-.78.78-.78 2.05 0 2.83L4 21.41c.39.39.9.59 1.41.59.51 0 1.02-.2 1.41-.59l7.78-7.78 2.81-2.81c.8-.78.8-2.07 0-2.86zM5.41 20L4 18.59l7.72-7.72 1.47 1.35L5.41 20z\"/>\n",
              "  </svg>\n",
              "      </button>\n",
              "      \n",
              "  <style>\n",
              "    .colab-df-container {\n",
              "      display:flex;\n",
              "      flex-wrap:wrap;\n",
              "      gap: 12px;\n",
              "    }\n",
              "\n",
              "    .colab-df-convert {\n",
              "      background-color: #E8F0FE;\n",
              "      border: none;\n",
              "      border-radius: 50%;\n",
              "      cursor: pointer;\n",
              "      display: none;\n",
              "      fill: #1967D2;\n",
              "      height: 32px;\n",
              "      padding: 0 0 0 0;\n",
              "      width: 32px;\n",
              "    }\n",
              "\n",
              "    .colab-df-convert:hover {\n",
              "      background-color: #E2EBFA;\n",
              "      box-shadow: 0px 1px 2px rgba(60, 64, 67, 0.3), 0px 1px 3px 1px rgba(60, 64, 67, 0.15);\n",
              "      fill: #174EA6;\n",
              "    }\n",
              "\n",
              "    [theme=dark] .colab-df-convert {\n",
              "      background-color: #3B4455;\n",
              "      fill: #D2E3FC;\n",
              "    }\n",
              "\n",
              "    [theme=dark] .colab-df-convert:hover {\n",
              "      background-color: #434B5C;\n",
              "      box-shadow: 0px 1px 3px 1px rgba(0, 0, 0, 0.15);\n",
              "      filter: drop-shadow(0px 1px 2px rgba(0, 0, 0, 0.3));\n",
              "      fill: #FFFFFF;\n",
              "    }\n",
              "  </style>\n",
              "\n",
              "      <script>\n",
              "        const buttonEl =\n",
              "          document.querySelector('#df-1069bef8-091d-48ca-ba95-99f08630da69 button.colab-df-convert');\n",
              "        buttonEl.style.display =\n",
              "          google.colab.kernel.accessAllowed ? 'block' : 'none';\n",
              "\n",
              "        async function convertToInteractive(key) {\n",
              "          const element = document.querySelector('#df-1069bef8-091d-48ca-ba95-99f08630da69');\n",
              "          const dataTable =\n",
              "            await google.colab.kernel.invokeFunction('convertToInteractive',\n",
              "                                                     [key], {});\n",
              "          if (!dataTable) return;\n",
              "\n",
              "          const docLinkHtml = 'Like what you see? Visit the ' +\n",
              "            '<a target=\"_blank\" href=https://colab.research.google.com/notebooks/data_table.ipynb>data table notebook</a>'\n",
              "            + ' to learn more about interactive tables.';\n",
              "          element.innerHTML = '';\n",
              "          dataTable['output_type'] = 'display_data';\n",
              "          await google.colab.output.renderOutput(dataTable, element);\n",
              "          const docLink = document.createElement('div');\n",
              "          docLink.innerHTML = docLinkHtml;\n",
              "          element.appendChild(docLink);\n",
              "        }\n",
              "      </script>\n",
              "    </div>\n",
              "  </div>\n",
              "  "
            ],
            "text/plain": [
              "   registration_id   name               email  ...  active  class score\n",
              "97      RK20202441  Putra     putra@gmail.com  ...       1      6    71\n",
              "98      RK20202442  Kokom  kokom@facebook.com  ...       0      2    73\n",
              "99      RK20202443  Ilham     ilham@gmail.com  ...       1      2    52\n",
              "\n",
              "[3 rows x 10 columns]"
            ]
          },
          "metadata": {},
          "execution_count": 30
        }
      ]
    },
    {
      "cell_type": "markdown",
      "metadata": {
        "id": "mL1uPVOo9upM"
      },
      "source": [
        "# Data Sorting"
      ]
    },
    {
      "cell_type": "code",
      "metadata": {
        "id": "IBJffKrS9upM",
        "colab": {
          "base_uri": "https://localhost:8080/",
          "height": 206
        },
        "outputId": "f8593c66-886f-4e61-e2ee-fbfd8a686b3a"
      },
      "source": [
        "df_dataset.head()"
      ],
      "execution_count": null,
      "outputs": [
        {
          "output_type": "execute_result",
          "data": {
            "text/html": [
              "\n",
              "  <div id=\"df-520c7430-607d-4e5f-9261-a9c0b0ce1d28\">\n",
              "    <div class=\"colab-df-container\">\n",
              "      <div>\n",
              "<style scoped>\n",
              "    .dataframe tbody tr th:only-of-type {\n",
              "        vertical-align: middle;\n",
              "    }\n",
              "\n",
              "    .dataframe tbody tr th {\n",
              "        vertical-align: top;\n",
              "    }\n",
              "\n",
              "    .dataframe thead th {\n",
              "        text-align: right;\n",
              "    }\n",
              "</style>\n",
              "<table border=\"1\" class=\"dataframe\">\n",
              "  <thead>\n",
              "    <tr style=\"text-align: right;\">\n",
              "      <th></th>\n",
              "      <th>registration_id</th>\n",
              "      <th>name</th>\n",
              "      <th>email</th>\n",
              "      <th>phone</th>\n",
              "      <th>age</th>\n",
              "      <th>city</th>\n",
              "      <th>province</th>\n",
              "      <th>active</th>\n",
              "      <th>class</th>\n",
              "      <th>score</th>\n",
              "    </tr>\n",
              "  </thead>\n",
              "  <tbody>\n",
              "    <tr>\n",
              "      <th>0</th>\n",
              "      <td>RK20202344</td>\n",
              "      <td>Nina</td>\n",
              "      <td>nina@gmail.com</td>\n",
              "      <td>628198157</td>\n",
              "      <td>57</td>\n",
              "      <td>Tanjungpinang</td>\n",
              "      <td>Kepulauan Riau</td>\n",
              "      <td>1</td>\n",
              "      <td>6</td>\n",
              "      <td>80</td>\n",
              "    </tr>\n",
              "    <tr>\n",
              "      <th>1</th>\n",
              "      <td>RK20202345</td>\n",
              "      <td>Dyah</td>\n",
              "      <td>dyah@gmail.com</td>\n",
              "      <td>628306496</td>\n",
              "      <td>24</td>\n",
              "      <td>Bogor</td>\n",
              "      <td>Jawa Barat</td>\n",
              "      <td>0</td>\n",
              "      <td>2</td>\n",
              "      <td>66</td>\n",
              "    </tr>\n",
              "    <tr>\n",
              "      <th>2</th>\n",
              "      <td>RK20202346</td>\n",
              "      <td>Prima</td>\n",
              "      <td>prima@ymail.com</td>\n",
              "      <td>628755450</td>\n",
              "      <td>16</td>\n",
              "      <td>Kota Administrasi Jakarta Pusat</td>\n",
              "      <td>Jakarta</td>\n",
              "      <td>1</td>\n",
              "      <td>1</td>\n",
              "      <td>55</td>\n",
              "    </tr>\n",
              "    <tr>\n",
              "      <th>3</th>\n",
              "      <td>RK20202347</td>\n",
              "      <td>Firman</td>\n",
              "      <td>firman@google.com</td>\n",
              "      <td>628638112</td>\n",
              "      <td>59</td>\n",
              "      <td>Metro</td>\n",
              "      <td>Lampung</td>\n",
              "      <td>1</td>\n",
              "      <td>6</td>\n",
              "      <td>93</td>\n",
              "    </tr>\n",
              "    <tr>\n",
              "      <th>4</th>\n",
              "      <td>RK20202348</td>\n",
              "      <td>Eva</td>\n",
              "      <td>eva@rakamin.com</td>\n",
              "      <td>628702735</td>\n",
              "      <td>42</td>\n",
              "      <td>Malang</td>\n",
              "      <td>Jawa Timur</td>\n",
              "      <td>0</td>\n",
              "      <td>5</td>\n",
              "      <td>80</td>\n",
              "    </tr>\n",
              "  </tbody>\n",
              "</table>\n",
              "</div>\n",
              "      <button class=\"colab-df-convert\" onclick=\"convertToInteractive('df-520c7430-607d-4e5f-9261-a9c0b0ce1d28')\"\n",
              "              title=\"Convert this dataframe to an interactive table.\"\n",
              "              style=\"display:none;\">\n",
              "        \n",
              "  <svg xmlns=\"http://www.w3.org/2000/svg\" height=\"24px\"viewBox=\"0 0 24 24\"\n",
              "       width=\"24px\">\n",
              "    <path d=\"M0 0h24v24H0V0z\" fill=\"none\"/>\n",
              "    <path d=\"M18.56 5.44l.94 2.06.94-2.06 2.06-.94-2.06-.94-.94-2.06-.94 2.06-2.06.94zm-11 1L8.5 8.5l.94-2.06 2.06-.94-2.06-.94L8.5 2.5l-.94 2.06-2.06.94zm10 10l.94 2.06.94-2.06 2.06-.94-2.06-.94-.94-2.06-.94 2.06-2.06.94z\"/><path d=\"M17.41 7.96l-1.37-1.37c-.4-.4-.92-.59-1.43-.59-.52 0-1.04.2-1.43.59L10.3 9.45l-7.72 7.72c-.78.78-.78 2.05 0 2.83L4 21.41c.39.39.9.59 1.41.59.51 0 1.02-.2 1.41-.59l7.78-7.78 2.81-2.81c.8-.78.8-2.07 0-2.86zM5.41 20L4 18.59l7.72-7.72 1.47 1.35L5.41 20z\"/>\n",
              "  </svg>\n",
              "      </button>\n",
              "      \n",
              "  <style>\n",
              "    .colab-df-container {\n",
              "      display:flex;\n",
              "      flex-wrap:wrap;\n",
              "      gap: 12px;\n",
              "    }\n",
              "\n",
              "    .colab-df-convert {\n",
              "      background-color: #E8F0FE;\n",
              "      border: none;\n",
              "      border-radius: 50%;\n",
              "      cursor: pointer;\n",
              "      display: none;\n",
              "      fill: #1967D2;\n",
              "      height: 32px;\n",
              "      padding: 0 0 0 0;\n",
              "      width: 32px;\n",
              "    }\n",
              "\n",
              "    .colab-df-convert:hover {\n",
              "      background-color: #E2EBFA;\n",
              "      box-shadow: 0px 1px 2px rgba(60, 64, 67, 0.3), 0px 1px 3px 1px rgba(60, 64, 67, 0.15);\n",
              "      fill: #174EA6;\n",
              "    }\n",
              "\n",
              "    [theme=dark] .colab-df-convert {\n",
              "      background-color: #3B4455;\n",
              "      fill: #D2E3FC;\n",
              "    }\n",
              "\n",
              "    [theme=dark] .colab-df-convert:hover {\n",
              "      background-color: #434B5C;\n",
              "      box-shadow: 0px 1px 3px 1px rgba(0, 0, 0, 0.15);\n",
              "      filter: drop-shadow(0px 1px 2px rgba(0, 0, 0, 0.3));\n",
              "      fill: #FFFFFF;\n",
              "    }\n",
              "  </style>\n",
              "\n",
              "      <script>\n",
              "        const buttonEl =\n",
              "          document.querySelector('#df-520c7430-607d-4e5f-9261-a9c0b0ce1d28 button.colab-df-convert');\n",
              "        buttonEl.style.display =\n",
              "          google.colab.kernel.accessAllowed ? 'block' : 'none';\n",
              "\n",
              "        async function convertToInteractive(key) {\n",
              "          const element = document.querySelector('#df-520c7430-607d-4e5f-9261-a9c0b0ce1d28');\n",
              "          const dataTable =\n",
              "            await google.colab.kernel.invokeFunction('convertToInteractive',\n",
              "                                                     [key], {});\n",
              "          if (!dataTable) return;\n",
              "\n",
              "          const docLinkHtml = 'Like what you see? Visit the ' +\n",
              "            '<a target=\"_blank\" href=https://colab.research.google.com/notebooks/data_table.ipynb>data table notebook</a>'\n",
              "            + ' to learn more about interactive tables.';\n",
              "          element.innerHTML = '';\n",
              "          dataTable['output_type'] = 'display_data';\n",
              "          await google.colab.output.renderOutput(dataTable, element);\n",
              "          const docLink = document.createElement('div');\n",
              "          docLink.innerHTML = docLinkHtml;\n",
              "          element.appendChild(docLink);\n",
              "        }\n",
              "      </script>\n",
              "    </div>\n",
              "  </div>\n",
              "  "
            ],
            "text/plain": [
              "  registration_id    name              email  ...  active  class score\n",
              "0      RK20202344    Nina     nina@gmail.com  ...       1      6    80\n",
              "1      RK20202345    Dyah     dyah@gmail.com  ...       0      2    66\n",
              "2      RK20202346   Prima    prima@ymail.com  ...       1      1    55\n",
              "3      RK20202347  Firman  firman@google.com  ...       1      6    93\n",
              "4      RK20202348     Eva    eva@rakamin.com  ...       0      5    80\n",
              "\n",
              "[5 rows x 10 columns]"
            ]
          },
          "metadata": {},
          "execution_count": 31
        }
      ]
    },
    {
      "cell_type": "markdown",
      "metadata": {
        "id": "92Lvlx3E9upM"
      },
      "source": [
        "### Mengurutkan age dari termuda ke tertua (ASCENDING - Kecil ke besar)"
      ]
    },
    {
      "cell_type": "code",
      "metadata": {
        "id": "ymMpx6woY6qD",
        "colab": {
          "base_uri": "https://localhost:8080/",
          "height": 424
        },
        "outputId": "f1deddc1-3f36-484a-8282-c97704a75cb0"
      },
      "source": [
        "df_dataset.sort_values('age')"
      ],
      "execution_count": null,
      "outputs": [
        {
          "output_type": "execute_result",
          "data": {
            "text/html": [
              "\n",
              "  <div id=\"df-5be2cb34-8fdc-4bf1-8e25-1163e1fcb178\">\n",
              "    <div class=\"colab-df-container\">\n",
              "      <div>\n",
              "<style scoped>\n",
              "    .dataframe tbody tr th:only-of-type {\n",
              "        vertical-align: middle;\n",
              "    }\n",
              "\n",
              "    .dataframe tbody tr th {\n",
              "        vertical-align: top;\n",
              "    }\n",
              "\n",
              "    .dataframe thead th {\n",
              "        text-align: right;\n",
              "    }\n",
              "</style>\n",
              "<table border=\"1\" class=\"dataframe\">\n",
              "  <thead>\n",
              "    <tr style=\"text-align: right;\">\n",
              "      <th></th>\n",
              "      <th>registration_id</th>\n",
              "      <th>name</th>\n",
              "      <th>email</th>\n",
              "      <th>phone</th>\n",
              "      <th>age</th>\n",
              "      <th>city</th>\n",
              "      <th>province</th>\n",
              "      <th>active</th>\n",
              "      <th>class</th>\n",
              "      <th>score</th>\n",
              "    </tr>\n",
              "  </thead>\n",
              "  <tbody>\n",
              "    <tr>\n",
              "      <th>92</th>\n",
              "      <td>RK20202436</td>\n",
              "      <td>Munaroh</td>\n",
              "      <td>munaroh@hotmail.com</td>\n",
              "      <td>628636716</td>\n",
              "      <td>15</td>\n",
              "      <td>Kota Administrasi Jakarta Barat</td>\n",
              "      <td>Jakarta</td>\n",
              "      <td>0</td>\n",
              "      <td>1</td>\n",
              "      <td>91</td>\n",
              "    </tr>\n",
              "    <tr>\n",
              "      <th>82</th>\n",
              "      <td>RK20202426</td>\n",
              "      <td>Een</td>\n",
              "      <td>een@facebook.com</td>\n",
              "      <td>628018377</td>\n",
              "      <td>15</td>\n",
              "      <td>Kota Administrasi Jakarta Barat</td>\n",
              "      <td>Jakarta</td>\n",
              "      <td>1</td>\n",
              "      <td>1</td>\n",
              "      <td>74</td>\n",
              "    </tr>\n",
              "    <tr>\n",
              "      <th>2</th>\n",
              "      <td>RK20202346</td>\n",
              "      <td>Prima</td>\n",
              "      <td>prima@ymail.com</td>\n",
              "      <td>628755450</td>\n",
              "      <td>16</td>\n",
              "      <td>Kota Administrasi Jakarta Pusat</td>\n",
              "      <td>Jakarta</td>\n",
              "      <td>1</td>\n",
              "      <td>1</td>\n",
              "      <td>55</td>\n",
              "    </tr>\n",
              "    <tr>\n",
              "      <th>5</th>\n",
              "      <td>RK20202349</td>\n",
              "      <td>Bagus</td>\n",
              "      <td>bagus@hotmail.com</td>\n",
              "      <td>628816223</td>\n",
              "      <td>16</td>\n",
              "      <td>Kota Administrasi Jakarta Pusat</td>\n",
              "      <td>Jakarta</td>\n",
              "      <td>1</td>\n",
              "      <td>1</td>\n",
              "      <td>84</td>\n",
              "    </tr>\n",
              "    <tr>\n",
              "      <th>7</th>\n",
              "      <td>RK20202351</td>\n",
              "      <td>Yuni</td>\n",
              "      <td>yuni@google.com</td>\n",
              "      <td>628714465</td>\n",
              "      <td>16</td>\n",
              "      <td>Kota Administrasi Jakarta Pusat</td>\n",
              "      <td>Jakarta</td>\n",
              "      <td>0</td>\n",
              "      <td>1</td>\n",
              "      <td>87</td>\n",
              "    </tr>\n",
              "    <tr>\n",
              "      <th>...</th>\n",
              "      <td>...</td>\n",
              "      <td>...</td>\n",
              "      <td>...</td>\n",
              "      <td>...</td>\n",
              "      <td>...</td>\n",
              "      <td>...</td>\n",
              "      <td>...</td>\n",
              "      <td>...</td>\n",
              "      <td>...</td>\n",
              "      <td>...</td>\n",
              "    </tr>\n",
              "    <tr>\n",
              "      <th>0</th>\n",
              "      <td>RK20202344</td>\n",
              "      <td>Nina</td>\n",
              "      <td>nina@gmail.com</td>\n",
              "      <td>628198157</td>\n",
              "      <td>57</td>\n",
              "      <td>Tanjungpinang</td>\n",
              "      <td>Kepulauan Riau</td>\n",
              "      <td>1</td>\n",
              "      <td>6</td>\n",
              "      <td>80</td>\n",
              "    </tr>\n",
              "    <tr>\n",
              "      <th>42</th>\n",
              "      <td>RK20202386</td>\n",
              "      <td>Hendra</td>\n",
              "      <td>hendra@hotmail.com</td>\n",
              "      <td>628452630</td>\n",
              "      <td>58</td>\n",
              "      <td>Bandar Lampung</td>\n",
              "      <td>Lampung</td>\n",
              "      <td>1</td>\n",
              "      <td>6</td>\n",
              "      <td>75</td>\n",
              "    </tr>\n",
              "    <tr>\n",
              "      <th>32</th>\n",
              "      <td>RK20202376</td>\n",
              "      <td>Hafizh</td>\n",
              "      <td>hafizh@google.com</td>\n",
              "      <td>628535862</td>\n",
              "      <td>58</td>\n",
              "      <td>Bandar Lampung</td>\n",
              "      <td>Lampung</td>\n",
              "      <td>1</td>\n",
              "      <td>6</td>\n",
              "      <td>82</td>\n",
              "    </tr>\n",
              "    <tr>\n",
              "      <th>3</th>\n",
              "      <td>RK20202347</td>\n",
              "      <td>Firman</td>\n",
              "      <td>firman@google.com</td>\n",
              "      <td>628638112</td>\n",
              "      <td>59</td>\n",
              "      <td>Metro</td>\n",
              "      <td>Lampung</td>\n",
              "      <td>1</td>\n",
              "      <td>6</td>\n",
              "      <td>93</td>\n",
              "    </tr>\n",
              "    <tr>\n",
              "      <th>13</th>\n",
              "      <td>RK20202357</td>\n",
              "      <td>Amelia</td>\n",
              "      <td>amelia@ymail.com</td>\n",
              "      <td>628375103</td>\n",
              "      <td>59</td>\n",
              "      <td>Metro</td>\n",
              "      <td>Lampung</td>\n",
              "      <td>1</td>\n",
              "      <td>6</td>\n",
              "      <td>67</td>\n",
              "    </tr>\n",
              "  </tbody>\n",
              "</table>\n",
              "<p>100 rows × 10 columns</p>\n",
              "</div>\n",
              "      <button class=\"colab-df-convert\" onclick=\"convertToInteractive('df-5be2cb34-8fdc-4bf1-8e25-1163e1fcb178')\"\n",
              "              title=\"Convert this dataframe to an interactive table.\"\n",
              "              style=\"display:none;\">\n",
              "        \n",
              "  <svg xmlns=\"http://www.w3.org/2000/svg\" height=\"24px\"viewBox=\"0 0 24 24\"\n",
              "       width=\"24px\">\n",
              "    <path d=\"M0 0h24v24H0V0z\" fill=\"none\"/>\n",
              "    <path d=\"M18.56 5.44l.94 2.06.94-2.06 2.06-.94-2.06-.94-.94-2.06-.94 2.06-2.06.94zm-11 1L8.5 8.5l.94-2.06 2.06-.94-2.06-.94L8.5 2.5l-.94 2.06-2.06.94zm10 10l.94 2.06.94-2.06 2.06-.94-2.06-.94-.94-2.06-.94 2.06-2.06.94z\"/><path d=\"M17.41 7.96l-1.37-1.37c-.4-.4-.92-.59-1.43-.59-.52 0-1.04.2-1.43.59L10.3 9.45l-7.72 7.72c-.78.78-.78 2.05 0 2.83L4 21.41c.39.39.9.59 1.41.59.51 0 1.02-.2 1.41-.59l7.78-7.78 2.81-2.81c.8-.78.8-2.07 0-2.86zM5.41 20L4 18.59l7.72-7.72 1.47 1.35L5.41 20z\"/>\n",
              "  </svg>\n",
              "      </button>\n",
              "      \n",
              "  <style>\n",
              "    .colab-df-container {\n",
              "      display:flex;\n",
              "      flex-wrap:wrap;\n",
              "      gap: 12px;\n",
              "    }\n",
              "\n",
              "    .colab-df-convert {\n",
              "      background-color: #E8F0FE;\n",
              "      border: none;\n",
              "      border-radius: 50%;\n",
              "      cursor: pointer;\n",
              "      display: none;\n",
              "      fill: #1967D2;\n",
              "      height: 32px;\n",
              "      padding: 0 0 0 0;\n",
              "      width: 32px;\n",
              "    }\n",
              "\n",
              "    .colab-df-convert:hover {\n",
              "      background-color: #E2EBFA;\n",
              "      box-shadow: 0px 1px 2px rgba(60, 64, 67, 0.3), 0px 1px 3px 1px rgba(60, 64, 67, 0.15);\n",
              "      fill: #174EA6;\n",
              "    }\n",
              "\n",
              "    [theme=dark] .colab-df-convert {\n",
              "      background-color: #3B4455;\n",
              "      fill: #D2E3FC;\n",
              "    }\n",
              "\n",
              "    [theme=dark] .colab-df-convert:hover {\n",
              "      background-color: #434B5C;\n",
              "      box-shadow: 0px 1px 3px 1px rgba(0, 0, 0, 0.15);\n",
              "      filter: drop-shadow(0px 1px 2px rgba(0, 0, 0, 0.3));\n",
              "      fill: #FFFFFF;\n",
              "    }\n",
              "  </style>\n",
              "\n",
              "      <script>\n",
              "        const buttonEl =\n",
              "          document.querySelector('#df-5be2cb34-8fdc-4bf1-8e25-1163e1fcb178 button.colab-df-convert');\n",
              "        buttonEl.style.display =\n",
              "          google.colab.kernel.accessAllowed ? 'block' : 'none';\n",
              "\n",
              "        async function convertToInteractive(key) {\n",
              "          const element = document.querySelector('#df-5be2cb34-8fdc-4bf1-8e25-1163e1fcb178');\n",
              "          const dataTable =\n",
              "            await google.colab.kernel.invokeFunction('convertToInteractive',\n",
              "                                                     [key], {});\n",
              "          if (!dataTable) return;\n",
              "\n",
              "          const docLinkHtml = 'Like what you see? Visit the ' +\n",
              "            '<a target=\"_blank\" href=https://colab.research.google.com/notebooks/data_table.ipynb>data table notebook</a>'\n",
              "            + ' to learn more about interactive tables.';\n",
              "          element.innerHTML = '';\n",
              "          dataTable['output_type'] = 'display_data';\n",
              "          await google.colab.output.renderOutput(dataTable, element);\n",
              "          const docLink = document.createElement('div');\n",
              "          docLink.innerHTML = docLinkHtml;\n",
              "          element.appendChild(docLink);\n",
              "        }\n",
              "      </script>\n",
              "    </div>\n",
              "  </div>\n",
              "  "
            ],
            "text/plain": [
              "   registration_id     name                email  ...  active  class score\n",
              "92      RK20202436  Munaroh  munaroh@hotmail.com  ...       0      1    91\n",
              "82      RK20202426      Een     een@facebook.com  ...       1      1    74\n",
              "2       RK20202346    Prima      prima@ymail.com  ...       1      1    55\n",
              "5       RK20202349    Bagus    bagus@hotmail.com  ...       1      1    84\n",
              "7       RK20202351     Yuni      yuni@google.com  ...       0      1    87\n",
              "..             ...      ...                  ...  ...     ...    ...   ...\n",
              "0       RK20202344     Nina       nina@gmail.com  ...       1      6    80\n",
              "42      RK20202386   Hendra   hendra@hotmail.com  ...       1      6    75\n",
              "32      RK20202376   Hafizh    hafizh@google.com  ...       1      6    82\n",
              "3       RK20202347   Firman    firman@google.com  ...       1      6    93\n",
              "13      RK20202357   Amelia     amelia@ymail.com  ...       1      6    67\n",
              "\n",
              "[100 rows x 10 columns]"
            ]
          },
          "metadata": {},
          "execution_count": 35
        }
      ]
    },
    {
      "cell_type": "code",
      "metadata": {
        "id": "a6xTZjZX9upN",
        "colab": {
          "base_uri": "https://localhost:8080/",
          "height": 424
        },
        "outputId": "603de2b6-009a-42e1-cfee-01cc6cfeebcf"
      },
      "source": [
        "df_dataset.sort_values('age', ascending=True)"
      ],
      "execution_count": null,
      "outputs": [
        {
          "output_type": "execute_result",
          "data": {
            "text/html": [
              "\n",
              "  <div id=\"df-a1e94f81-82f8-4154-b2b1-abf020742d02\">\n",
              "    <div class=\"colab-df-container\">\n",
              "      <div>\n",
              "<style scoped>\n",
              "    .dataframe tbody tr th:only-of-type {\n",
              "        vertical-align: middle;\n",
              "    }\n",
              "\n",
              "    .dataframe tbody tr th {\n",
              "        vertical-align: top;\n",
              "    }\n",
              "\n",
              "    .dataframe thead th {\n",
              "        text-align: right;\n",
              "    }\n",
              "</style>\n",
              "<table border=\"1\" class=\"dataframe\">\n",
              "  <thead>\n",
              "    <tr style=\"text-align: right;\">\n",
              "      <th></th>\n",
              "      <th>registration_id</th>\n",
              "      <th>name</th>\n",
              "      <th>email</th>\n",
              "      <th>phone</th>\n",
              "      <th>age</th>\n",
              "      <th>city</th>\n",
              "      <th>province</th>\n",
              "      <th>active</th>\n",
              "      <th>class</th>\n",
              "      <th>score</th>\n",
              "    </tr>\n",
              "  </thead>\n",
              "  <tbody>\n",
              "    <tr>\n",
              "      <th>92</th>\n",
              "      <td>RK20202436</td>\n",
              "      <td>Munaroh</td>\n",
              "      <td>munaroh@hotmail.com</td>\n",
              "      <td>628636716</td>\n",
              "      <td>15</td>\n",
              "      <td>Kota Administrasi Jakarta Barat</td>\n",
              "      <td>Jakarta</td>\n",
              "      <td>0</td>\n",
              "      <td>1</td>\n",
              "      <td>91</td>\n",
              "    </tr>\n",
              "    <tr>\n",
              "      <th>82</th>\n",
              "      <td>RK20202426</td>\n",
              "      <td>Een</td>\n",
              "      <td>een@facebook.com</td>\n",
              "      <td>628018377</td>\n",
              "      <td>15</td>\n",
              "      <td>Kota Administrasi Jakarta Barat</td>\n",
              "      <td>Jakarta</td>\n",
              "      <td>1</td>\n",
              "      <td>1</td>\n",
              "      <td>74</td>\n",
              "    </tr>\n",
              "    <tr>\n",
              "      <th>2</th>\n",
              "      <td>RK20202346</td>\n",
              "      <td>Prima</td>\n",
              "      <td>prima@ymail.com</td>\n",
              "      <td>628755450</td>\n",
              "      <td>16</td>\n",
              "      <td>Kota Administrasi Jakarta Pusat</td>\n",
              "      <td>Jakarta</td>\n",
              "      <td>1</td>\n",
              "      <td>1</td>\n",
              "      <td>55</td>\n",
              "    </tr>\n",
              "    <tr>\n",
              "      <th>5</th>\n",
              "      <td>RK20202349</td>\n",
              "      <td>Bagus</td>\n",
              "      <td>bagus@hotmail.com</td>\n",
              "      <td>628816223</td>\n",
              "      <td>16</td>\n",
              "      <td>Kota Administrasi Jakarta Pusat</td>\n",
              "      <td>Jakarta</td>\n",
              "      <td>1</td>\n",
              "      <td>1</td>\n",
              "      <td>84</td>\n",
              "    </tr>\n",
              "    <tr>\n",
              "      <th>7</th>\n",
              "      <td>RK20202351</td>\n",
              "      <td>Yuni</td>\n",
              "      <td>yuni@google.com</td>\n",
              "      <td>628714465</td>\n",
              "      <td>16</td>\n",
              "      <td>Kota Administrasi Jakarta Pusat</td>\n",
              "      <td>Jakarta</td>\n",
              "      <td>0</td>\n",
              "      <td>1</td>\n",
              "      <td>87</td>\n",
              "    </tr>\n",
              "    <tr>\n",
              "      <th>...</th>\n",
              "      <td>...</td>\n",
              "      <td>...</td>\n",
              "      <td>...</td>\n",
              "      <td>...</td>\n",
              "      <td>...</td>\n",
              "      <td>...</td>\n",
              "      <td>...</td>\n",
              "      <td>...</td>\n",
              "      <td>...</td>\n",
              "      <td>...</td>\n",
              "    </tr>\n",
              "    <tr>\n",
              "      <th>0</th>\n",
              "      <td>RK20202344</td>\n",
              "      <td>Nina</td>\n",
              "      <td>nina@gmail.com</td>\n",
              "      <td>628198157</td>\n",
              "      <td>57</td>\n",
              "      <td>Tanjungpinang</td>\n",
              "      <td>Kepulauan Riau</td>\n",
              "      <td>1</td>\n",
              "      <td>6</td>\n",
              "      <td>80</td>\n",
              "    </tr>\n",
              "    <tr>\n",
              "      <th>42</th>\n",
              "      <td>RK20202386</td>\n",
              "      <td>Hendra</td>\n",
              "      <td>hendra@hotmail.com</td>\n",
              "      <td>628452630</td>\n",
              "      <td>58</td>\n",
              "      <td>Bandar Lampung</td>\n",
              "      <td>Lampung</td>\n",
              "      <td>1</td>\n",
              "      <td>6</td>\n",
              "      <td>75</td>\n",
              "    </tr>\n",
              "    <tr>\n",
              "      <th>32</th>\n",
              "      <td>RK20202376</td>\n",
              "      <td>Hafizh</td>\n",
              "      <td>hafizh@google.com</td>\n",
              "      <td>628535862</td>\n",
              "      <td>58</td>\n",
              "      <td>Bandar Lampung</td>\n",
              "      <td>Lampung</td>\n",
              "      <td>1</td>\n",
              "      <td>6</td>\n",
              "      <td>82</td>\n",
              "    </tr>\n",
              "    <tr>\n",
              "      <th>3</th>\n",
              "      <td>RK20202347</td>\n",
              "      <td>Firman</td>\n",
              "      <td>firman@google.com</td>\n",
              "      <td>628638112</td>\n",
              "      <td>59</td>\n",
              "      <td>Metro</td>\n",
              "      <td>Lampung</td>\n",
              "      <td>1</td>\n",
              "      <td>6</td>\n",
              "      <td>93</td>\n",
              "    </tr>\n",
              "    <tr>\n",
              "      <th>13</th>\n",
              "      <td>RK20202357</td>\n",
              "      <td>Amelia</td>\n",
              "      <td>amelia@ymail.com</td>\n",
              "      <td>628375103</td>\n",
              "      <td>59</td>\n",
              "      <td>Metro</td>\n",
              "      <td>Lampung</td>\n",
              "      <td>1</td>\n",
              "      <td>6</td>\n",
              "      <td>67</td>\n",
              "    </tr>\n",
              "  </tbody>\n",
              "</table>\n",
              "<p>100 rows × 10 columns</p>\n",
              "</div>\n",
              "      <button class=\"colab-df-convert\" onclick=\"convertToInteractive('df-a1e94f81-82f8-4154-b2b1-abf020742d02')\"\n",
              "              title=\"Convert this dataframe to an interactive table.\"\n",
              "              style=\"display:none;\">\n",
              "        \n",
              "  <svg xmlns=\"http://www.w3.org/2000/svg\" height=\"24px\"viewBox=\"0 0 24 24\"\n",
              "       width=\"24px\">\n",
              "    <path d=\"M0 0h24v24H0V0z\" fill=\"none\"/>\n",
              "    <path d=\"M18.56 5.44l.94 2.06.94-2.06 2.06-.94-2.06-.94-.94-2.06-.94 2.06-2.06.94zm-11 1L8.5 8.5l.94-2.06 2.06-.94-2.06-.94L8.5 2.5l-.94 2.06-2.06.94zm10 10l.94 2.06.94-2.06 2.06-.94-2.06-.94-.94-2.06-.94 2.06-2.06.94z\"/><path d=\"M17.41 7.96l-1.37-1.37c-.4-.4-.92-.59-1.43-.59-.52 0-1.04.2-1.43.59L10.3 9.45l-7.72 7.72c-.78.78-.78 2.05 0 2.83L4 21.41c.39.39.9.59 1.41.59.51 0 1.02-.2 1.41-.59l7.78-7.78 2.81-2.81c.8-.78.8-2.07 0-2.86zM5.41 20L4 18.59l7.72-7.72 1.47 1.35L5.41 20z\"/>\n",
              "  </svg>\n",
              "      </button>\n",
              "      \n",
              "  <style>\n",
              "    .colab-df-container {\n",
              "      display:flex;\n",
              "      flex-wrap:wrap;\n",
              "      gap: 12px;\n",
              "    }\n",
              "\n",
              "    .colab-df-convert {\n",
              "      background-color: #E8F0FE;\n",
              "      border: none;\n",
              "      border-radius: 50%;\n",
              "      cursor: pointer;\n",
              "      display: none;\n",
              "      fill: #1967D2;\n",
              "      height: 32px;\n",
              "      padding: 0 0 0 0;\n",
              "      width: 32px;\n",
              "    }\n",
              "\n",
              "    .colab-df-convert:hover {\n",
              "      background-color: #E2EBFA;\n",
              "      box-shadow: 0px 1px 2px rgba(60, 64, 67, 0.3), 0px 1px 3px 1px rgba(60, 64, 67, 0.15);\n",
              "      fill: #174EA6;\n",
              "    }\n",
              "\n",
              "    [theme=dark] .colab-df-convert {\n",
              "      background-color: #3B4455;\n",
              "      fill: #D2E3FC;\n",
              "    }\n",
              "\n",
              "    [theme=dark] .colab-df-convert:hover {\n",
              "      background-color: #434B5C;\n",
              "      box-shadow: 0px 1px 3px 1px rgba(0, 0, 0, 0.15);\n",
              "      filter: drop-shadow(0px 1px 2px rgba(0, 0, 0, 0.3));\n",
              "      fill: #FFFFFF;\n",
              "    }\n",
              "  </style>\n",
              "\n",
              "      <script>\n",
              "        const buttonEl =\n",
              "          document.querySelector('#df-a1e94f81-82f8-4154-b2b1-abf020742d02 button.colab-df-convert');\n",
              "        buttonEl.style.display =\n",
              "          google.colab.kernel.accessAllowed ? 'block' : 'none';\n",
              "\n",
              "        async function convertToInteractive(key) {\n",
              "          const element = document.querySelector('#df-a1e94f81-82f8-4154-b2b1-abf020742d02');\n",
              "          const dataTable =\n",
              "            await google.colab.kernel.invokeFunction('convertToInteractive',\n",
              "                                                     [key], {});\n",
              "          if (!dataTable) return;\n",
              "\n",
              "          const docLinkHtml = 'Like what you see? Visit the ' +\n",
              "            '<a target=\"_blank\" href=https://colab.research.google.com/notebooks/data_table.ipynb>data table notebook</a>'\n",
              "            + ' to learn more about interactive tables.';\n",
              "          element.innerHTML = '';\n",
              "          dataTable['output_type'] = 'display_data';\n",
              "          await google.colab.output.renderOutput(dataTable, element);\n",
              "          const docLink = document.createElement('div');\n",
              "          docLink.innerHTML = docLinkHtml;\n",
              "          element.appendChild(docLink);\n",
              "        }\n",
              "      </script>\n",
              "    </div>\n",
              "  </div>\n",
              "  "
            ],
            "text/plain": [
              "   registration_id     name                email  ...  active  class score\n",
              "92      RK20202436  Munaroh  munaroh@hotmail.com  ...       0      1    91\n",
              "82      RK20202426      Een     een@facebook.com  ...       1      1    74\n",
              "2       RK20202346    Prima      prima@ymail.com  ...       1      1    55\n",
              "5       RK20202349    Bagus    bagus@hotmail.com  ...       1      1    84\n",
              "7       RK20202351     Yuni      yuni@google.com  ...       0      1    87\n",
              "..             ...      ...                  ...  ...     ...    ...   ...\n",
              "0       RK20202344     Nina       nina@gmail.com  ...       1      6    80\n",
              "42      RK20202386   Hendra   hendra@hotmail.com  ...       1      6    75\n",
              "32      RK20202376   Hafizh    hafizh@google.com  ...       1      6    82\n",
              "3       RK20202347   Firman    firman@google.com  ...       1      6    93\n",
              "13      RK20202357   Amelia     amelia@ymail.com  ...       1      6    67\n",
              "\n",
              "[100 rows x 10 columns]"
            ]
          },
          "metadata": {},
          "execution_count": 33
        }
      ]
    },
    {
      "cell_type": "markdown",
      "metadata": {
        "id": "SWgQrayd9upN"
      },
      "source": [
        "### Mengurutkan age dari tertua ke termuda (DESCENDING - Besar ke Kecil)"
      ]
    },
    {
      "cell_type": "code",
      "metadata": {
        "id": "Hy4ip9oS9upN",
        "colab": {
          "base_uri": "https://localhost:8080/",
          "height": 424
        },
        "outputId": "95801b39-72b2-4a80-d20d-e8fb1878d9a7"
      },
      "source": [
        "df_dataset.sort_values('age', ascending=False)"
      ],
      "execution_count": null,
      "outputs": [
        {
          "output_type": "execute_result",
          "data": {
            "text/html": [
              "\n",
              "  <div id=\"df-33911652-f7b2-4f7a-b9f4-cfe52e2853f8\">\n",
              "    <div class=\"colab-df-container\">\n",
              "      <div>\n",
              "<style scoped>\n",
              "    .dataframe tbody tr th:only-of-type {\n",
              "        vertical-align: middle;\n",
              "    }\n",
              "\n",
              "    .dataframe tbody tr th {\n",
              "        vertical-align: top;\n",
              "    }\n",
              "\n",
              "    .dataframe thead th {\n",
              "        text-align: right;\n",
              "    }\n",
              "</style>\n",
              "<table border=\"1\" class=\"dataframe\">\n",
              "  <thead>\n",
              "    <tr style=\"text-align: right;\">\n",
              "      <th></th>\n",
              "      <th>registration_id</th>\n",
              "      <th>name</th>\n",
              "      <th>email</th>\n",
              "      <th>phone</th>\n",
              "      <th>age</th>\n",
              "      <th>city</th>\n",
              "      <th>province</th>\n",
              "      <th>active</th>\n",
              "      <th>class</th>\n",
              "      <th>score</th>\n",
              "    </tr>\n",
              "  </thead>\n",
              "  <tbody>\n",
              "    <tr>\n",
              "      <th>13</th>\n",
              "      <td>RK20202357</td>\n",
              "      <td>Amelia</td>\n",
              "      <td>amelia@ymail.com</td>\n",
              "      <td>628375103</td>\n",
              "      <td>59</td>\n",
              "      <td>Metro</td>\n",
              "      <td>Lampung</td>\n",
              "      <td>1</td>\n",
              "      <td>6</td>\n",
              "      <td>67</td>\n",
              "    </tr>\n",
              "    <tr>\n",
              "      <th>3</th>\n",
              "      <td>RK20202347</td>\n",
              "      <td>Firman</td>\n",
              "      <td>firman@google.com</td>\n",
              "      <td>628638112</td>\n",
              "      <td>59</td>\n",
              "      <td>Metro</td>\n",
              "      <td>Lampung</td>\n",
              "      <td>1</td>\n",
              "      <td>6</td>\n",
              "      <td>93</td>\n",
              "    </tr>\n",
              "    <tr>\n",
              "      <th>42</th>\n",
              "      <td>RK20202386</td>\n",
              "      <td>Hendra</td>\n",
              "      <td>hendra@hotmail.com</td>\n",
              "      <td>628452630</td>\n",
              "      <td>58</td>\n",
              "      <td>Bandar Lampung</td>\n",
              "      <td>Lampung</td>\n",
              "      <td>1</td>\n",
              "      <td>6</td>\n",
              "      <td>75</td>\n",
              "    </tr>\n",
              "    <tr>\n",
              "      <th>32</th>\n",
              "      <td>RK20202376</td>\n",
              "      <td>Hafizh</td>\n",
              "      <td>hafizh@google.com</td>\n",
              "      <td>628535862</td>\n",
              "      <td>58</td>\n",
              "      <td>Bandar Lampung</td>\n",
              "      <td>Lampung</td>\n",
              "      <td>1</td>\n",
              "      <td>6</td>\n",
              "      <td>82</td>\n",
              "    </tr>\n",
              "    <tr>\n",
              "      <th>0</th>\n",
              "      <td>RK20202344</td>\n",
              "      <td>Nina</td>\n",
              "      <td>nina@gmail.com</td>\n",
              "      <td>628198157</td>\n",
              "      <td>57</td>\n",
              "      <td>Tanjungpinang</td>\n",
              "      <td>Kepulauan Riau</td>\n",
              "      <td>1</td>\n",
              "      <td>6</td>\n",
              "      <td>80</td>\n",
              "    </tr>\n",
              "    <tr>\n",
              "      <th>...</th>\n",
              "      <td>...</td>\n",
              "      <td>...</td>\n",
              "      <td>...</td>\n",
              "      <td>...</td>\n",
              "      <td>...</td>\n",
              "      <td>...</td>\n",
              "      <td>...</td>\n",
              "      <td>...</td>\n",
              "      <td>...</td>\n",
              "      <td>...</td>\n",
              "    </tr>\n",
              "    <tr>\n",
              "      <th>7</th>\n",
              "      <td>RK20202351</td>\n",
              "      <td>Yuni</td>\n",
              "      <td>yuni@google.com</td>\n",
              "      <td>628714465</td>\n",
              "      <td>16</td>\n",
              "      <td>Kota Administrasi Jakarta Pusat</td>\n",
              "      <td>Jakarta</td>\n",
              "      <td>0</td>\n",
              "      <td>1</td>\n",
              "      <td>87</td>\n",
              "    </tr>\n",
              "    <tr>\n",
              "      <th>5</th>\n",
              "      <td>RK20202349</td>\n",
              "      <td>Bagus</td>\n",
              "      <td>bagus@hotmail.com</td>\n",
              "      <td>628816223</td>\n",
              "      <td>16</td>\n",
              "      <td>Kota Administrasi Jakarta Pusat</td>\n",
              "      <td>Jakarta</td>\n",
              "      <td>1</td>\n",
              "      <td>1</td>\n",
              "      <td>84</td>\n",
              "    </tr>\n",
              "    <tr>\n",
              "      <th>2</th>\n",
              "      <td>RK20202346</td>\n",
              "      <td>Prima</td>\n",
              "      <td>prima@ymail.com</td>\n",
              "      <td>628755450</td>\n",
              "      <td>16</td>\n",
              "      <td>Kota Administrasi Jakarta Pusat</td>\n",
              "      <td>Jakarta</td>\n",
              "      <td>1</td>\n",
              "      <td>1</td>\n",
              "      <td>55</td>\n",
              "    </tr>\n",
              "    <tr>\n",
              "      <th>92</th>\n",
              "      <td>RK20202436</td>\n",
              "      <td>Munaroh</td>\n",
              "      <td>munaroh@hotmail.com</td>\n",
              "      <td>628636716</td>\n",
              "      <td>15</td>\n",
              "      <td>Kota Administrasi Jakarta Barat</td>\n",
              "      <td>Jakarta</td>\n",
              "      <td>0</td>\n",
              "      <td>1</td>\n",
              "      <td>91</td>\n",
              "    </tr>\n",
              "    <tr>\n",
              "      <th>82</th>\n",
              "      <td>RK20202426</td>\n",
              "      <td>Een</td>\n",
              "      <td>een@facebook.com</td>\n",
              "      <td>628018377</td>\n",
              "      <td>15</td>\n",
              "      <td>Kota Administrasi Jakarta Barat</td>\n",
              "      <td>Jakarta</td>\n",
              "      <td>1</td>\n",
              "      <td>1</td>\n",
              "      <td>74</td>\n",
              "    </tr>\n",
              "  </tbody>\n",
              "</table>\n",
              "<p>100 rows × 10 columns</p>\n",
              "</div>\n",
              "      <button class=\"colab-df-convert\" onclick=\"convertToInteractive('df-33911652-f7b2-4f7a-b9f4-cfe52e2853f8')\"\n",
              "              title=\"Convert this dataframe to an interactive table.\"\n",
              "              style=\"display:none;\">\n",
              "        \n",
              "  <svg xmlns=\"http://www.w3.org/2000/svg\" height=\"24px\"viewBox=\"0 0 24 24\"\n",
              "       width=\"24px\">\n",
              "    <path d=\"M0 0h24v24H0V0z\" fill=\"none\"/>\n",
              "    <path d=\"M18.56 5.44l.94 2.06.94-2.06 2.06-.94-2.06-.94-.94-2.06-.94 2.06-2.06.94zm-11 1L8.5 8.5l.94-2.06 2.06-.94-2.06-.94L8.5 2.5l-.94 2.06-2.06.94zm10 10l.94 2.06.94-2.06 2.06-.94-2.06-.94-.94-2.06-.94 2.06-2.06.94z\"/><path d=\"M17.41 7.96l-1.37-1.37c-.4-.4-.92-.59-1.43-.59-.52 0-1.04.2-1.43.59L10.3 9.45l-7.72 7.72c-.78.78-.78 2.05 0 2.83L4 21.41c.39.39.9.59 1.41.59.51 0 1.02-.2 1.41-.59l7.78-7.78 2.81-2.81c.8-.78.8-2.07 0-2.86zM5.41 20L4 18.59l7.72-7.72 1.47 1.35L5.41 20z\"/>\n",
              "  </svg>\n",
              "      </button>\n",
              "      \n",
              "  <style>\n",
              "    .colab-df-container {\n",
              "      display:flex;\n",
              "      flex-wrap:wrap;\n",
              "      gap: 12px;\n",
              "    }\n",
              "\n",
              "    .colab-df-convert {\n",
              "      background-color: #E8F0FE;\n",
              "      border: none;\n",
              "      border-radius: 50%;\n",
              "      cursor: pointer;\n",
              "      display: none;\n",
              "      fill: #1967D2;\n",
              "      height: 32px;\n",
              "      padding: 0 0 0 0;\n",
              "      width: 32px;\n",
              "    }\n",
              "\n",
              "    .colab-df-convert:hover {\n",
              "      background-color: #E2EBFA;\n",
              "      box-shadow: 0px 1px 2px rgba(60, 64, 67, 0.3), 0px 1px 3px 1px rgba(60, 64, 67, 0.15);\n",
              "      fill: #174EA6;\n",
              "    }\n",
              "\n",
              "    [theme=dark] .colab-df-convert {\n",
              "      background-color: #3B4455;\n",
              "      fill: #D2E3FC;\n",
              "    }\n",
              "\n",
              "    [theme=dark] .colab-df-convert:hover {\n",
              "      background-color: #434B5C;\n",
              "      box-shadow: 0px 1px 3px 1px rgba(0, 0, 0, 0.15);\n",
              "      filter: drop-shadow(0px 1px 2px rgba(0, 0, 0, 0.3));\n",
              "      fill: #FFFFFF;\n",
              "    }\n",
              "  </style>\n",
              "\n",
              "      <script>\n",
              "        const buttonEl =\n",
              "          document.querySelector('#df-33911652-f7b2-4f7a-b9f4-cfe52e2853f8 button.colab-df-convert');\n",
              "        buttonEl.style.display =\n",
              "          google.colab.kernel.accessAllowed ? 'block' : 'none';\n",
              "\n",
              "        async function convertToInteractive(key) {\n",
              "          const element = document.querySelector('#df-33911652-f7b2-4f7a-b9f4-cfe52e2853f8');\n",
              "          const dataTable =\n",
              "            await google.colab.kernel.invokeFunction('convertToInteractive',\n",
              "                                                     [key], {});\n",
              "          if (!dataTable) return;\n",
              "\n",
              "          const docLinkHtml = 'Like what you see? Visit the ' +\n",
              "            '<a target=\"_blank\" href=https://colab.research.google.com/notebooks/data_table.ipynb>data table notebook</a>'\n",
              "            + ' to learn more about interactive tables.';\n",
              "          element.innerHTML = '';\n",
              "          dataTable['output_type'] = 'display_data';\n",
              "          await google.colab.output.renderOutput(dataTable, element);\n",
              "          const docLink = document.createElement('div');\n",
              "          docLink.innerHTML = docLinkHtml;\n",
              "          element.appendChild(docLink);\n",
              "        }\n",
              "      </script>\n",
              "    </div>\n",
              "  </div>\n",
              "  "
            ],
            "text/plain": [
              "   registration_id     name                email  ...  active  class score\n",
              "13      RK20202357   Amelia     amelia@ymail.com  ...       1      6    67\n",
              "3       RK20202347   Firman    firman@google.com  ...       1      6    93\n",
              "42      RK20202386   Hendra   hendra@hotmail.com  ...       1      6    75\n",
              "32      RK20202376   Hafizh    hafizh@google.com  ...       1      6    82\n",
              "0       RK20202344     Nina       nina@gmail.com  ...       1      6    80\n",
              "..             ...      ...                  ...  ...     ...    ...   ...\n",
              "7       RK20202351     Yuni      yuni@google.com  ...       0      1    87\n",
              "5       RK20202349    Bagus    bagus@hotmail.com  ...       1      1    84\n",
              "2       RK20202346    Prima      prima@ymail.com  ...       1      1    55\n",
              "92      RK20202436  Munaroh  munaroh@hotmail.com  ...       0      1    91\n",
              "82      RK20202426      Een     een@facebook.com  ...       1      1    74\n",
              "\n",
              "[100 rows x 10 columns]"
            ]
          },
          "metadata": {},
          "execution_count": 36
        }
      ]
    },
    {
      "cell_type": "markdown",
      "metadata": {
        "id": "GFCgYhMEac__"
      },
      "source": [
        "### [CHALLENGE] Ambil data 10 orang dengan score terendah"
      ]
    },
    {
      "cell_type": "code",
      "metadata": {
        "id": "npfQ6BRpajD4",
        "colab": {
          "base_uri": "https://localhost:8080/",
          "height": 363
        },
        "outputId": "b1213960-e214-4449-83b1-12202394a706"
      },
      "source": [
        "df_dataset.sort_values('score', ascending=True).head(10)"
      ],
      "execution_count": null,
      "outputs": [
        {
          "output_type": "execute_result",
          "data": {
            "text/html": [
              "\n",
              "  <div id=\"df-f37d4c6d-b3c3-4b92-b506-2ef43eaba75d\">\n",
              "    <div class=\"colab-df-container\">\n",
              "      <div>\n",
              "<style scoped>\n",
              "    .dataframe tbody tr th:only-of-type {\n",
              "        vertical-align: middle;\n",
              "    }\n",
              "\n",
              "    .dataframe tbody tr th {\n",
              "        vertical-align: top;\n",
              "    }\n",
              "\n",
              "    .dataframe thead th {\n",
              "        text-align: right;\n",
              "    }\n",
              "</style>\n",
              "<table border=\"1\" class=\"dataframe\">\n",
              "  <thead>\n",
              "    <tr style=\"text-align: right;\">\n",
              "      <th></th>\n",
              "      <th>registration_id</th>\n",
              "      <th>name</th>\n",
              "      <th>email</th>\n",
              "      <th>phone</th>\n",
              "      <th>age</th>\n",
              "      <th>city</th>\n",
              "      <th>province</th>\n",
              "      <th>active</th>\n",
              "      <th>class</th>\n",
              "      <th>score</th>\n",
              "    </tr>\n",
              "  </thead>\n",
              "  <tbody>\n",
              "    <tr>\n",
              "      <th>81</th>\n",
              "      <td>RK20202425</td>\n",
              "      <td>Aulia</td>\n",
              "      <td>aulia@ymail.com</td>\n",
              "      <td>628547207</td>\n",
              "      <td>53</td>\n",
              "      <td>Bontang</td>\n",
              "      <td>Kalimantan Timur</td>\n",
              "      <td>1</td>\n",
              "      <td>6</td>\n",
              "      <td>50</td>\n",
              "    </tr>\n",
              "    <tr>\n",
              "      <th>89</th>\n",
              "      <td>RK20202433</td>\n",
              "      <td>Tuti</td>\n",
              "      <td>tuti@google.com</td>\n",
              "      <td>628263541</td>\n",
              "      <td>46</td>\n",
              "      <td>Surabaya</td>\n",
              "      <td>Jawa Timur</td>\n",
              "      <td>1</td>\n",
              "      <td>5</td>\n",
              "      <td>51</td>\n",
              "    </tr>\n",
              "    <tr>\n",
              "      <th>99</th>\n",
              "      <td>RK20202443</td>\n",
              "      <td>Ilham</td>\n",
              "      <td>ilham@gmail.com</td>\n",
              "      <td>628680755</td>\n",
              "      <td>29</td>\n",
              "      <td>Tasikmalaya</td>\n",
              "      <td>Jawa Barat</td>\n",
              "      <td>1</td>\n",
              "      <td>2</td>\n",
              "      <td>52</td>\n",
              "    </tr>\n",
              "    <tr>\n",
              "      <th>48</th>\n",
              "      <td>RK20202392</td>\n",
              "      <td>Dudung</td>\n",
              "      <td>dudung@facebook.com</td>\n",
              "      <td>628432009</td>\n",
              "      <td>39</td>\n",
              "      <td>Blitar</td>\n",
              "      <td>Jawa Timur</td>\n",
              "      <td>1</td>\n",
              "      <td>4</td>\n",
              "      <td>53</td>\n",
              "    </tr>\n",
              "    <tr>\n",
              "      <th>75</th>\n",
              "      <td>RK20202419</td>\n",
              "      <td>Achmad</td>\n",
              "      <td>achmad@ymail.com</td>\n",
              "      <td>628364382</td>\n",
              "      <td>44</td>\n",
              "      <td>Pasuruan</td>\n",
              "      <td>Jawa Timur</td>\n",
              "      <td>1</td>\n",
              "      <td>5</td>\n",
              "      <td>53</td>\n",
              "    </tr>\n",
              "    <tr>\n",
              "      <th>2</th>\n",
              "      <td>RK20202346</td>\n",
              "      <td>Prima</td>\n",
              "      <td>prima@ymail.com</td>\n",
              "      <td>628755450</td>\n",
              "      <td>16</td>\n",
              "      <td>Kota Administrasi Jakarta Pusat</td>\n",
              "      <td>Jakarta</td>\n",
              "      <td>1</td>\n",
              "      <td>1</td>\n",
              "      <td>55</td>\n",
              "    </tr>\n",
              "    <tr>\n",
              "      <th>91</th>\n",
              "      <td>RK20202435</td>\n",
              "      <td>Setiawan</td>\n",
              "      <td>setiawan@samsung.com</td>\n",
              "      <td>628969920</td>\n",
              "      <td>48</td>\n",
              "      <td>Singkawang</td>\n",
              "      <td>Kalimantan Barat</td>\n",
              "      <td>0</td>\n",
              "      <td>5</td>\n",
              "      <td>55</td>\n",
              "    </tr>\n",
              "    <tr>\n",
              "      <th>37</th>\n",
              "      <td>RK20202381</td>\n",
              "      <td>Retno</td>\n",
              "      <td>retno@gmail.com</td>\n",
              "      <td>628543058</td>\n",
              "      <td>56</td>\n",
              "      <td>Batam</td>\n",
              "      <td>Kepulauan Riau</td>\n",
              "      <td>1</td>\n",
              "      <td>6</td>\n",
              "      <td>57</td>\n",
              "    </tr>\n",
              "    <tr>\n",
              "      <th>25</th>\n",
              "      <td>RK20202369</td>\n",
              "      <td>Endah</td>\n",
              "      <td>endah@rakamin.com</td>\n",
              "      <td>628315789</td>\n",
              "      <td>53</td>\n",
              "      <td>Bontang</td>\n",
              "      <td>Kalimantan Timur</td>\n",
              "      <td>1</td>\n",
              "      <td>6</td>\n",
              "      <td>58</td>\n",
              "    </tr>\n",
              "    <tr>\n",
              "      <th>96</th>\n",
              "      <td>RK20202440</td>\n",
              "      <td>Ria</td>\n",
              "      <td>ria@gmail.com</td>\n",
              "      <td>628535849</td>\n",
              "      <td>56</td>\n",
              "      <td>Batam</td>\n",
              "      <td>Kepulauan Riau</td>\n",
              "      <td>0</td>\n",
              "      <td>6</td>\n",
              "      <td>58</td>\n",
              "    </tr>\n",
              "  </tbody>\n",
              "</table>\n",
              "</div>\n",
              "      <button class=\"colab-df-convert\" onclick=\"convertToInteractive('df-f37d4c6d-b3c3-4b92-b506-2ef43eaba75d')\"\n",
              "              title=\"Convert this dataframe to an interactive table.\"\n",
              "              style=\"display:none;\">\n",
              "        \n",
              "  <svg xmlns=\"http://www.w3.org/2000/svg\" height=\"24px\"viewBox=\"0 0 24 24\"\n",
              "       width=\"24px\">\n",
              "    <path d=\"M0 0h24v24H0V0z\" fill=\"none\"/>\n",
              "    <path d=\"M18.56 5.44l.94 2.06.94-2.06 2.06-.94-2.06-.94-.94-2.06-.94 2.06-2.06.94zm-11 1L8.5 8.5l.94-2.06 2.06-.94-2.06-.94L8.5 2.5l-.94 2.06-2.06.94zm10 10l.94 2.06.94-2.06 2.06-.94-2.06-.94-.94-2.06-.94 2.06-2.06.94z\"/><path d=\"M17.41 7.96l-1.37-1.37c-.4-.4-.92-.59-1.43-.59-.52 0-1.04.2-1.43.59L10.3 9.45l-7.72 7.72c-.78.78-.78 2.05 0 2.83L4 21.41c.39.39.9.59 1.41.59.51 0 1.02-.2 1.41-.59l7.78-7.78 2.81-2.81c.8-.78.8-2.07 0-2.86zM5.41 20L4 18.59l7.72-7.72 1.47 1.35L5.41 20z\"/>\n",
              "  </svg>\n",
              "      </button>\n",
              "      \n",
              "  <style>\n",
              "    .colab-df-container {\n",
              "      display:flex;\n",
              "      flex-wrap:wrap;\n",
              "      gap: 12px;\n",
              "    }\n",
              "\n",
              "    .colab-df-convert {\n",
              "      background-color: #E8F0FE;\n",
              "      border: none;\n",
              "      border-radius: 50%;\n",
              "      cursor: pointer;\n",
              "      display: none;\n",
              "      fill: #1967D2;\n",
              "      height: 32px;\n",
              "      padding: 0 0 0 0;\n",
              "      width: 32px;\n",
              "    }\n",
              "\n",
              "    .colab-df-convert:hover {\n",
              "      background-color: #E2EBFA;\n",
              "      box-shadow: 0px 1px 2px rgba(60, 64, 67, 0.3), 0px 1px 3px 1px rgba(60, 64, 67, 0.15);\n",
              "      fill: #174EA6;\n",
              "    }\n",
              "\n",
              "    [theme=dark] .colab-df-convert {\n",
              "      background-color: #3B4455;\n",
              "      fill: #D2E3FC;\n",
              "    }\n",
              "\n",
              "    [theme=dark] .colab-df-convert:hover {\n",
              "      background-color: #434B5C;\n",
              "      box-shadow: 0px 1px 3px 1px rgba(0, 0, 0, 0.15);\n",
              "      filter: drop-shadow(0px 1px 2px rgba(0, 0, 0, 0.3));\n",
              "      fill: #FFFFFF;\n",
              "    }\n",
              "  </style>\n",
              "\n",
              "      <script>\n",
              "        const buttonEl =\n",
              "          document.querySelector('#df-f37d4c6d-b3c3-4b92-b506-2ef43eaba75d button.colab-df-convert');\n",
              "        buttonEl.style.display =\n",
              "          google.colab.kernel.accessAllowed ? 'block' : 'none';\n",
              "\n",
              "        async function convertToInteractive(key) {\n",
              "          const element = document.querySelector('#df-f37d4c6d-b3c3-4b92-b506-2ef43eaba75d');\n",
              "          const dataTable =\n",
              "            await google.colab.kernel.invokeFunction('convertToInteractive',\n",
              "                                                     [key], {});\n",
              "          if (!dataTable) return;\n",
              "\n",
              "          const docLinkHtml = 'Like what you see? Visit the ' +\n",
              "            '<a target=\"_blank\" href=https://colab.research.google.com/notebooks/data_table.ipynb>data table notebook</a>'\n",
              "            + ' to learn more about interactive tables.';\n",
              "          element.innerHTML = '';\n",
              "          dataTable['output_type'] = 'display_data';\n",
              "          await google.colab.output.renderOutput(dataTable, element);\n",
              "          const docLink = document.createElement('div');\n",
              "          docLink.innerHTML = docLinkHtml;\n",
              "          element.appendChild(docLink);\n",
              "        }\n",
              "      </script>\n",
              "    </div>\n",
              "  </div>\n",
              "  "
            ],
            "text/plain": [
              "   registration_id      name                 email  ...  active  class score\n",
              "81      RK20202425     Aulia       aulia@ymail.com  ...       1      6    50\n",
              "89      RK20202433      Tuti       tuti@google.com  ...       1      5    51\n",
              "99      RK20202443     Ilham       ilham@gmail.com  ...       1      2    52\n",
              "48      RK20202392    Dudung   dudung@facebook.com  ...       1      4    53\n",
              "75      RK20202419    Achmad      achmad@ymail.com  ...       1      5    53\n",
              "2       RK20202346     Prima       prima@ymail.com  ...       1      1    55\n",
              "91      RK20202435  Setiawan  setiawan@samsung.com  ...       0      5    55\n",
              "37      RK20202381     Retno       retno@gmail.com  ...       1      6    57\n",
              "25      RK20202369     Endah     endah@rakamin.com  ...       1      6    58\n",
              "96      RK20202440       Ria         ria@gmail.com  ...       0      6    58\n",
              "\n",
              "[10 rows x 10 columns]"
            ]
          },
          "metadata": {},
          "execution_count": 40
        }
      ]
    },
    {
      "cell_type": "markdown",
      "metadata": {
        "id": "Kz3xdMgn9upP"
      },
      "source": [
        "# Data Filtering"
      ]
    },
    {
      "cell_type": "markdown",
      "metadata": {
        "id": "xj8ttIPv9upQ"
      },
      "source": [
        "### Filter kolom name, email, phone, province"
      ]
    },
    {
      "cell_type": "code",
      "metadata": {
        "id": "6eFswmLb9upQ",
        "colab": {
          "base_uri": "https://localhost:8080/",
          "height": 363
        },
        "outputId": "18fddd58-abaf-4459-e2a1-4dd24ddc76be"
      },
      "source": [
        "df_dataset[ ['name','email','phone','province'] ].head(10)"
      ],
      "execution_count": null,
      "outputs": [
        {
          "output_type": "execute_result",
          "data": {
            "text/html": [
              "\n",
              "  <div id=\"df-0dba3fe4-51fc-45d5-a9e5-b9652e03f68e\">\n",
              "    <div class=\"colab-df-container\">\n",
              "      <div>\n",
              "<style scoped>\n",
              "    .dataframe tbody tr th:only-of-type {\n",
              "        vertical-align: middle;\n",
              "    }\n",
              "\n",
              "    .dataframe tbody tr th {\n",
              "        vertical-align: top;\n",
              "    }\n",
              "\n",
              "    .dataframe thead th {\n",
              "        text-align: right;\n",
              "    }\n",
              "</style>\n",
              "<table border=\"1\" class=\"dataframe\">\n",
              "  <thead>\n",
              "    <tr style=\"text-align: right;\">\n",
              "      <th></th>\n",
              "      <th>name</th>\n",
              "      <th>email</th>\n",
              "      <th>phone</th>\n",
              "      <th>province</th>\n",
              "    </tr>\n",
              "  </thead>\n",
              "  <tbody>\n",
              "    <tr>\n",
              "      <th>0</th>\n",
              "      <td>Nina</td>\n",
              "      <td>nina@gmail.com</td>\n",
              "      <td>628198157</td>\n",
              "      <td>Kepulauan Riau</td>\n",
              "    </tr>\n",
              "    <tr>\n",
              "      <th>1</th>\n",
              "      <td>Dyah</td>\n",
              "      <td>dyah@gmail.com</td>\n",
              "      <td>628306496</td>\n",
              "      <td>Jawa Barat</td>\n",
              "    </tr>\n",
              "    <tr>\n",
              "      <th>2</th>\n",
              "      <td>Prima</td>\n",
              "      <td>prima@ymail.com</td>\n",
              "      <td>628755450</td>\n",
              "      <td>Jakarta</td>\n",
              "    </tr>\n",
              "    <tr>\n",
              "      <th>3</th>\n",
              "      <td>Firman</td>\n",
              "      <td>firman@google.com</td>\n",
              "      <td>628638112</td>\n",
              "      <td>Lampung</td>\n",
              "    </tr>\n",
              "    <tr>\n",
              "      <th>4</th>\n",
              "      <td>Eva</td>\n",
              "      <td>eva@rakamin.com</td>\n",
              "      <td>628702735</td>\n",
              "      <td>Jawa Timur</td>\n",
              "    </tr>\n",
              "    <tr>\n",
              "      <th>5</th>\n",
              "      <td>Bagus</td>\n",
              "      <td>bagus@hotmail.com</td>\n",
              "      <td>628816223</td>\n",
              "      <td>Jakarta</td>\n",
              "    </tr>\n",
              "    <tr>\n",
              "      <th>6</th>\n",
              "      <td>Citra</td>\n",
              "      <td>citra@hotmail.com</td>\n",
              "      <td>628965407</td>\n",
              "      <td>Jawa Tengah</td>\n",
              "    </tr>\n",
              "    <tr>\n",
              "      <th>7</th>\n",
              "      <td>Yuni</td>\n",
              "      <td>yuni@google.com</td>\n",
              "      <td>628714465</td>\n",
              "      <td>Jakarta</td>\n",
              "    </tr>\n",
              "    <tr>\n",
              "      <th>8</th>\n",
              "      <td>Putu</td>\n",
              "      <td>putu@gmail.com</td>\n",
              "      <td>628601097</td>\n",
              "      <td>Jawa Timur</td>\n",
              "    </tr>\n",
              "    <tr>\n",
              "      <th>9</th>\n",
              "      <td>Nurul</td>\n",
              "      <td>nurul@gmail.com</td>\n",
              "      <td>628687911</td>\n",
              "      <td>Jakarta</td>\n",
              "    </tr>\n",
              "  </tbody>\n",
              "</table>\n",
              "</div>\n",
              "      <button class=\"colab-df-convert\" onclick=\"convertToInteractive('df-0dba3fe4-51fc-45d5-a9e5-b9652e03f68e')\"\n",
              "              title=\"Convert this dataframe to an interactive table.\"\n",
              "              style=\"display:none;\">\n",
              "        \n",
              "  <svg xmlns=\"http://www.w3.org/2000/svg\" height=\"24px\"viewBox=\"0 0 24 24\"\n",
              "       width=\"24px\">\n",
              "    <path d=\"M0 0h24v24H0V0z\" fill=\"none\"/>\n",
              "    <path d=\"M18.56 5.44l.94 2.06.94-2.06 2.06-.94-2.06-.94-.94-2.06-.94 2.06-2.06.94zm-11 1L8.5 8.5l.94-2.06 2.06-.94-2.06-.94L8.5 2.5l-.94 2.06-2.06.94zm10 10l.94 2.06.94-2.06 2.06-.94-2.06-.94-.94-2.06-.94 2.06-2.06.94z\"/><path d=\"M17.41 7.96l-1.37-1.37c-.4-.4-.92-.59-1.43-.59-.52 0-1.04.2-1.43.59L10.3 9.45l-7.72 7.72c-.78.78-.78 2.05 0 2.83L4 21.41c.39.39.9.59 1.41.59.51 0 1.02-.2 1.41-.59l7.78-7.78 2.81-2.81c.8-.78.8-2.07 0-2.86zM5.41 20L4 18.59l7.72-7.72 1.47 1.35L5.41 20z\"/>\n",
              "  </svg>\n",
              "      </button>\n",
              "      \n",
              "  <style>\n",
              "    .colab-df-container {\n",
              "      display:flex;\n",
              "      flex-wrap:wrap;\n",
              "      gap: 12px;\n",
              "    }\n",
              "\n",
              "    .colab-df-convert {\n",
              "      background-color: #E8F0FE;\n",
              "      border: none;\n",
              "      border-radius: 50%;\n",
              "      cursor: pointer;\n",
              "      display: none;\n",
              "      fill: #1967D2;\n",
              "      height: 32px;\n",
              "      padding: 0 0 0 0;\n",
              "      width: 32px;\n",
              "    }\n",
              "\n",
              "    .colab-df-convert:hover {\n",
              "      background-color: #E2EBFA;\n",
              "      box-shadow: 0px 1px 2px rgba(60, 64, 67, 0.3), 0px 1px 3px 1px rgba(60, 64, 67, 0.15);\n",
              "      fill: #174EA6;\n",
              "    }\n",
              "\n",
              "    [theme=dark] .colab-df-convert {\n",
              "      background-color: #3B4455;\n",
              "      fill: #D2E3FC;\n",
              "    }\n",
              "\n",
              "    [theme=dark] .colab-df-convert:hover {\n",
              "      background-color: #434B5C;\n",
              "      box-shadow: 0px 1px 3px 1px rgba(0, 0, 0, 0.15);\n",
              "      filter: drop-shadow(0px 1px 2px rgba(0, 0, 0, 0.3));\n",
              "      fill: #FFFFFF;\n",
              "    }\n",
              "  </style>\n",
              "\n",
              "      <script>\n",
              "        const buttonEl =\n",
              "          document.querySelector('#df-0dba3fe4-51fc-45d5-a9e5-b9652e03f68e button.colab-df-convert');\n",
              "        buttonEl.style.display =\n",
              "          google.colab.kernel.accessAllowed ? 'block' : 'none';\n",
              "\n",
              "        async function convertToInteractive(key) {\n",
              "          const element = document.querySelector('#df-0dba3fe4-51fc-45d5-a9e5-b9652e03f68e');\n",
              "          const dataTable =\n",
              "            await google.colab.kernel.invokeFunction('convertToInteractive',\n",
              "                                                     [key], {});\n",
              "          if (!dataTable) return;\n",
              "\n",
              "          const docLinkHtml = 'Like what you see? Visit the ' +\n",
              "            '<a target=\"_blank\" href=https://colab.research.google.com/notebooks/data_table.ipynb>data table notebook</a>'\n",
              "            + ' to learn more about interactive tables.';\n",
              "          element.innerHTML = '';\n",
              "          dataTable['output_type'] = 'display_data';\n",
              "          await google.colab.output.renderOutput(dataTable, element);\n",
              "          const docLink = document.createElement('div');\n",
              "          docLink.innerHTML = docLinkHtml;\n",
              "          element.appendChild(docLink);\n",
              "        }\n",
              "      </script>\n",
              "    </div>\n",
              "  </div>\n",
              "  "
            ],
            "text/plain": [
              "     name              email      phone        province\n",
              "0    Nina     nina@gmail.com  628198157  Kepulauan Riau\n",
              "1    Dyah     dyah@gmail.com  628306496      Jawa Barat\n",
              "2   Prima    prima@ymail.com  628755450         Jakarta\n",
              "3  Firman  firman@google.com  628638112         Lampung\n",
              "4     Eva    eva@rakamin.com  628702735      Jawa Timur\n",
              "5   Bagus  bagus@hotmail.com  628816223         Jakarta\n",
              "6   Citra  citra@hotmail.com  628965407     Jawa Tengah\n",
              "7    Yuni    yuni@google.com  628714465         Jakarta\n",
              "8    Putu     putu@gmail.com  628601097      Jawa Timur\n",
              "9   Nurul    nurul@gmail.com  628687911         Jakarta"
            ]
          },
          "metadata": {},
          "execution_count": 42
        }
      ]
    },
    {
      "cell_type": "markdown",
      "metadata": {
        "id": "8yxY7CZTphf9"
      },
      "source": [
        "## Ambil nama tiap orang beserta score nya"
      ]
    },
    {
      "cell_type": "code",
      "metadata": {
        "id": "ajkvq7PkrO07",
        "colab": {
          "base_uri": "https://localhost:8080/",
          "height": 424
        },
        "outputId": "d4091b1a-09db-423b-da84-0d7dc3c745c3"
      },
      "source": [
        "df_dataset[['name','score']]"
      ],
      "execution_count": null,
      "outputs": [
        {
          "output_type": "execute_result",
          "data": {
            "text/html": [
              "\n",
              "  <div id=\"df-9adf9a9f-be55-4fe5-8d52-104bd8304db0\">\n",
              "    <div class=\"colab-df-container\">\n",
              "      <div>\n",
              "<style scoped>\n",
              "    .dataframe tbody tr th:only-of-type {\n",
              "        vertical-align: middle;\n",
              "    }\n",
              "\n",
              "    .dataframe tbody tr th {\n",
              "        vertical-align: top;\n",
              "    }\n",
              "\n",
              "    .dataframe thead th {\n",
              "        text-align: right;\n",
              "    }\n",
              "</style>\n",
              "<table border=\"1\" class=\"dataframe\">\n",
              "  <thead>\n",
              "    <tr style=\"text-align: right;\">\n",
              "      <th></th>\n",
              "      <th>name</th>\n",
              "      <th>score</th>\n",
              "    </tr>\n",
              "  </thead>\n",
              "  <tbody>\n",
              "    <tr>\n",
              "      <th>0</th>\n",
              "      <td>Nina</td>\n",
              "      <td>80</td>\n",
              "    </tr>\n",
              "    <tr>\n",
              "      <th>1</th>\n",
              "      <td>Dyah</td>\n",
              "      <td>66</td>\n",
              "    </tr>\n",
              "    <tr>\n",
              "      <th>2</th>\n",
              "      <td>Prima</td>\n",
              "      <td>55</td>\n",
              "    </tr>\n",
              "    <tr>\n",
              "      <th>3</th>\n",
              "      <td>Firman</td>\n",
              "      <td>93</td>\n",
              "    </tr>\n",
              "    <tr>\n",
              "      <th>4</th>\n",
              "      <td>Eva</td>\n",
              "      <td>80</td>\n",
              "    </tr>\n",
              "    <tr>\n",
              "      <th>...</th>\n",
              "      <td>...</td>\n",
              "      <td>...</td>\n",
              "    </tr>\n",
              "    <tr>\n",
              "      <th>95</th>\n",
              "      <td>Abdul</td>\n",
              "      <td>59</td>\n",
              "    </tr>\n",
              "    <tr>\n",
              "      <th>96</th>\n",
              "      <td>Ria</td>\n",
              "      <td>58</td>\n",
              "    </tr>\n",
              "    <tr>\n",
              "      <th>97</th>\n",
              "      <td>Putra</td>\n",
              "      <td>71</td>\n",
              "    </tr>\n",
              "    <tr>\n",
              "      <th>98</th>\n",
              "      <td>Kokom</td>\n",
              "      <td>73</td>\n",
              "    </tr>\n",
              "    <tr>\n",
              "      <th>99</th>\n",
              "      <td>Ilham</td>\n",
              "      <td>52</td>\n",
              "    </tr>\n",
              "  </tbody>\n",
              "</table>\n",
              "<p>100 rows × 2 columns</p>\n",
              "</div>\n",
              "      <button class=\"colab-df-convert\" onclick=\"convertToInteractive('df-9adf9a9f-be55-4fe5-8d52-104bd8304db0')\"\n",
              "              title=\"Convert this dataframe to an interactive table.\"\n",
              "              style=\"display:none;\">\n",
              "        \n",
              "  <svg xmlns=\"http://www.w3.org/2000/svg\" height=\"24px\"viewBox=\"0 0 24 24\"\n",
              "       width=\"24px\">\n",
              "    <path d=\"M0 0h24v24H0V0z\" fill=\"none\"/>\n",
              "    <path d=\"M18.56 5.44l.94 2.06.94-2.06 2.06-.94-2.06-.94-.94-2.06-.94 2.06-2.06.94zm-11 1L8.5 8.5l.94-2.06 2.06-.94-2.06-.94L8.5 2.5l-.94 2.06-2.06.94zm10 10l.94 2.06.94-2.06 2.06-.94-2.06-.94-.94-2.06-.94 2.06-2.06.94z\"/><path d=\"M17.41 7.96l-1.37-1.37c-.4-.4-.92-.59-1.43-.59-.52 0-1.04.2-1.43.59L10.3 9.45l-7.72 7.72c-.78.78-.78 2.05 0 2.83L4 21.41c.39.39.9.59 1.41.59.51 0 1.02-.2 1.41-.59l7.78-7.78 2.81-2.81c.8-.78.8-2.07 0-2.86zM5.41 20L4 18.59l7.72-7.72 1.47 1.35L5.41 20z\"/>\n",
              "  </svg>\n",
              "      </button>\n",
              "      \n",
              "  <style>\n",
              "    .colab-df-container {\n",
              "      display:flex;\n",
              "      flex-wrap:wrap;\n",
              "      gap: 12px;\n",
              "    }\n",
              "\n",
              "    .colab-df-convert {\n",
              "      background-color: #E8F0FE;\n",
              "      border: none;\n",
              "      border-radius: 50%;\n",
              "      cursor: pointer;\n",
              "      display: none;\n",
              "      fill: #1967D2;\n",
              "      height: 32px;\n",
              "      padding: 0 0 0 0;\n",
              "      width: 32px;\n",
              "    }\n",
              "\n",
              "    .colab-df-convert:hover {\n",
              "      background-color: #E2EBFA;\n",
              "      box-shadow: 0px 1px 2px rgba(60, 64, 67, 0.3), 0px 1px 3px 1px rgba(60, 64, 67, 0.15);\n",
              "      fill: #174EA6;\n",
              "    }\n",
              "\n",
              "    [theme=dark] .colab-df-convert {\n",
              "      background-color: #3B4455;\n",
              "      fill: #D2E3FC;\n",
              "    }\n",
              "\n",
              "    [theme=dark] .colab-df-convert:hover {\n",
              "      background-color: #434B5C;\n",
              "      box-shadow: 0px 1px 3px 1px rgba(0, 0, 0, 0.15);\n",
              "      filter: drop-shadow(0px 1px 2px rgba(0, 0, 0, 0.3));\n",
              "      fill: #FFFFFF;\n",
              "    }\n",
              "  </style>\n",
              "\n",
              "      <script>\n",
              "        const buttonEl =\n",
              "          document.querySelector('#df-9adf9a9f-be55-4fe5-8d52-104bd8304db0 button.colab-df-convert');\n",
              "        buttonEl.style.display =\n",
              "          google.colab.kernel.accessAllowed ? 'block' : 'none';\n",
              "\n",
              "        async function convertToInteractive(key) {\n",
              "          const element = document.querySelector('#df-9adf9a9f-be55-4fe5-8d52-104bd8304db0');\n",
              "          const dataTable =\n",
              "            await google.colab.kernel.invokeFunction('convertToInteractive',\n",
              "                                                     [key], {});\n",
              "          if (!dataTable) return;\n",
              "\n",
              "          const docLinkHtml = 'Like what you see? Visit the ' +\n",
              "            '<a target=\"_blank\" href=https://colab.research.google.com/notebooks/data_table.ipynb>data table notebook</a>'\n",
              "            + ' to learn more about interactive tables.';\n",
              "          element.innerHTML = '';\n",
              "          dataTable['output_type'] = 'display_data';\n",
              "          await google.colab.output.renderOutput(dataTable, element);\n",
              "          const docLink = document.createElement('div');\n",
              "          docLink.innerHTML = docLinkHtml;\n",
              "          element.appendChild(docLink);\n",
              "        }\n",
              "      </script>\n",
              "    </div>\n",
              "  </div>\n",
              "  "
            ],
            "text/plain": [
              "      name  score\n",
              "0     Nina     80\n",
              "1     Dyah     66\n",
              "2    Prima     55\n",
              "3   Firman     93\n",
              "4      Eva     80\n",
              "..     ...    ...\n",
              "95   Abdul     59\n",
              "96     Ria     58\n",
              "97   Putra     71\n",
              "98   Kokom     73\n",
              "99   Ilham     52\n",
              "\n",
              "[100 rows x 2 columns]"
            ]
          },
          "metadata": {},
          "execution_count": 43
        }
      ]
    },
    {
      "cell_type": "markdown",
      "metadata": {
        "id": "JwXWAx3i9upR"
      },
      "source": [
        "### Ambil data orang-orang dari Jakarta"
      ]
    },
    {
      "cell_type": "code",
      "metadata": {
        "id": "CziWPQe-c29v",
        "colab": {
          "base_uri": "https://localhost:8080/",
          "height": 426
        },
        "outputId": "a687318d-0d60-43e4-9cbf-81d464f1da80"
      },
      "source": [
        "df_dataset[df_dataset['province']=='Jakarta']"
      ],
      "execution_count": null,
      "outputs": [
        {
          "output_type": "execute_result",
          "data": {
            "text/html": [
              "\n",
              "  <div id=\"df-613a1c42-6f79-475c-a9e8-3754b5c986a1\">\n",
              "    <div class=\"colab-df-container\">\n",
              "      <div>\n",
              "<style scoped>\n",
              "    .dataframe tbody tr th:only-of-type {\n",
              "        vertical-align: middle;\n",
              "    }\n",
              "\n",
              "    .dataframe tbody tr th {\n",
              "        vertical-align: top;\n",
              "    }\n",
              "\n",
              "    .dataframe thead th {\n",
              "        text-align: right;\n",
              "    }\n",
              "</style>\n",
              "<table border=\"1\" class=\"dataframe\">\n",
              "  <thead>\n",
              "    <tr style=\"text-align: right;\">\n",
              "      <th></th>\n",
              "      <th>registration_id</th>\n",
              "      <th>name</th>\n",
              "      <th>email</th>\n",
              "      <th>phone</th>\n",
              "      <th>age</th>\n",
              "      <th>city</th>\n",
              "      <th>province</th>\n",
              "      <th>active</th>\n",
              "      <th>class</th>\n",
              "      <th>score</th>\n",
              "    </tr>\n",
              "  </thead>\n",
              "  <tbody>\n",
              "    <tr>\n",
              "      <th>2</th>\n",
              "      <td>RK20202346</td>\n",
              "      <td>Prima</td>\n",
              "      <td>prima@ymail.com</td>\n",
              "      <td>628755450</td>\n",
              "      <td>16</td>\n",
              "      <td>Kota Administrasi Jakarta Pusat</td>\n",
              "      <td>Jakarta</td>\n",
              "      <td>1</td>\n",
              "      <td>1</td>\n",
              "      <td>55</td>\n",
              "    </tr>\n",
              "    <tr>\n",
              "      <th>5</th>\n",
              "      <td>RK20202349</td>\n",
              "      <td>Bagus</td>\n",
              "      <td>bagus@hotmail.com</td>\n",
              "      <td>628816223</td>\n",
              "      <td>16</td>\n",
              "      <td>Kota Administrasi Jakarta Pusat</td>\n",
              "      <td>Jakarta</td>\n",
              "      <td>1</td>\n",
              "      <td>1</td>\n",
              "      <td>84</td>\n",
              "    </tr>\n",
              "    <tr>\n",
              "      <th>7</th>\n",
              "      <td>RK20202351</td>\n",
              "      <td>Yuni</td>\n",
              "      <td>yuni@google.com</td>\n",
              "      <td>628714465</td>\n",
              "      <td>16</td>\n",
              "      <td>Kota Administrasi Jakarta Pusat</td>\n",
              "      <td>Jakarta</td>\n",
              "      <td>0</td>\n",
              "      <td>1</td>\n",
              "      <td>87</td>\n",
              "    </tr>\n",
              "    <tr>\n",
              "      <th>9</th>\n",
              "      <td>RK20202353</td>\n",
              "      <td>Nurul</td>\n",
              "      <td>nurul@gmail.com</td>\n",
              "      <td>628687911</td>\n",
              "      <td>17</td>\n",
              "      <td>Kota Administrasi Jakarta Selatan</td>\n",
              "      <td>Jakarta</td>\n",
              "      <td>0</td>\n",
              "      <td>1</td>\n",
              "      <td>79</td>\n",
              "    </tr>\n",
              "    <tr>\n",
              "      <th>15</th>\n",
              "      <td>RK20202359</td>\n",
              "      <td>Dadan</td>\n",
              "      <td>dadan@facebook.com</td>\n",
              "      <td>628952082</td>\n",
              "      <td>19</td>\n",
              "      <td>Kota Administrasi Jakarta Utara</td>\n",
              "      <td>Jakarta</td>\n",
              "      <td>1</td>\n",
              "      <td>1</td>\n",
              "      <td>63</td>\n",
              "    </tr>\n",
              "    <tr>\n",
              "      <th>16</th>\n",
              "      <td>RK20202360</td>\n",
              "      <td>Diana</td>\n",
              "      <td>diana@ymail.com</td>\n",
              "      <td>628161800</td>\n",
              "      <td>18</td>\n",
              "      <td>Kota Administrasi Jakarta Timur</td>\n",
              "      <td>Jakarta</td>\n",
              "      <td>0</td>\n",
              "      <td>1</td>\n",
              "      <td>87</td>\n",
              "    </tr>\n",
              "    <tr>\n",
              "      <th>31</th>\n",
              "      <td>RK20202375</td>\n",
              "      <td>Ratih</td>\n",
              "      <td>ratih@gmail.com</td>\n",
              "      <td>628336072</td>\n",
              "      <td>19</td>\n",
              "      <td>Kota Administrasi Jakarta Utara</td>\n",
              "      <td>Jakarta</td>\n",
              "      <td>0</td>\n",
              "      <td>1</td>\n",
              "      <td>81</td>\n",
              "    </tr>\n",
              "    <tr>\n",
              "      <th>40</th>\n",
              "      <td>RK20202384</td>\n",
              "      <td>Raden</td>\n",
              "      <td>raden@rakamin.com</td>\n",
              "      <td>628869259</td>\n",
              "      <td>17</td>\n",
              "      <td>Kota Administrasi Jakarta Selatan</td>\n",
              "      <td>Jakarta</td>\n",
              "      <td>1</td>\n",
              "      <td>1</td>\n",
              "      <td>87</td>\n",
              "    </tr>\n",
              "    <tr>\n",
              "      <th>46</th>\n",
              "      <td>RK20202390</td>\n",
              "      <td>Wulan</td>\n",
              "      <td>wulan@rocketmail.com</td>\n",
              "      <td>628361563</td>\n",
              "      <td>19</td>\n",
              "      <td>Kota Administrasi Jakarta Utara</td>\n",
              "      <td>Jakarta</td>\n",
              "      <td>1</td>\n",
              "      <td>1</td>\n",
              "      <td>73</td>\n",
              "    </tr>\n",
              "    <tr>\n",
              "      <th>67</th>\n",
              "      <td>RK20202411</td>\n",
              "      <td>Hidayat</td>\n",
              "      <td>hidayat@hotmail.com</td>\n",
              "      <td>628493696</td>\n",
              "      <td>17</td>\n",
              "      <td>Kota Administrasi Jakarta Selatan</td>\n",
              "      <td>Jakarta</td>\n",
              "      <td>0</td>\n",
              "      <td>1</td>\n",
              "      <td>100</td>\n",
              "    </tr>\n",
              "    <tr>\n",
              "      <th>82</th>\n",
              "      <td>RK20202426</td>\n",
              "      <td>Een</td>\n",
              "      <td>een@facebook.com</td>\n",
              "      <td>628018377</td>\n",
              "      <td>15</td>\n",
              "      <td>Kota Administrasi Jakarta Barat</td>\n",
              "      <td>Jakarta</td>\n",
              "      <td>1</td>\n",
              "      <td>1</td>\n",
              "      <td>74</td>\n",
              "    </tr>\n",
              "    <tr>\n",
              "      <th>92</th>\n",
              "      <td>RK20202436</td>\n",
              "      <td>Munaroh</td>\n",
              "      <td>munaroh@hotmail.com</td>\n",
              "      <td>628636716</td>\n",
              "      <td>15</td>\n",
              "      <td>Kota Administrasi Jakarta Barat</td>\n",
              "      <td>Jakarta</td>\n",
              "      <td>0</td>\n",
              "      <td>1</td>\n",
              "      <td>91</td>\n",
              "    </tr>\n",
              "  </tbody>\n",
              "</table>\n",
              "</div>\n",
              "      <button class=\"colab-df-convert\" onclick=\"convertToInteractive('df-613a1c42-6f79-475c-a9e8-3754b5c986a1')\"\n",
              "              title=\"Convert this dataframe to an interactive table.\"\n",
              "              style=\"display:none;\">\n",
              "        \n",
              "  <svg xmlns=\"http://www.w3.org/2000/svg\" height=\"24px\"viewBox=\"0 0 24 24\"\n",
              "       width=\"24px\">\n",
              "    <path d=\"M0 0h24v24H0V0z\" fill=\"none\"/>\n",
              "    <path d=\"M18.56 5.44l.94 2.06.94-2.06 2.06-.94-2.06-.94-.94-2.06-.94 2.06-2.06.94zm-11 1L8.5 8.5l.94-2.06 2.06-.94-2.06-.94L8.5 2.5l-.94 2.06-2.06.94zm10 10l.94 2.06.94-2.06 2.06-.94-2.06-.94-.94-2.06-.94 2.06-2.06.94z\"/><path d=\"M17.41 7.96l-1.37-1.37c-.4-.4-.92-.59-1.43-.59-.52 0-1.04.2-1.43.59L10.3 9.45l-7.72 7.72c-.78.78-.78 2.05 0 2.83L4 21.41c.39.39.9.59 1.41.59.51 0 1.02-.2 1.41-.59l7.78-7.78 2.81-2.81c.8-.78.8-2.07 0-2.86zM5.41 20L4 18.59l7.72-7.72 1.47 1.35L5.41 20z\"/>\n",
              "  </svg>\n",
              "      </button>\n",
              "      \n",
              "  <style>\n",
              "    .colab-df-container {\n",
              "      display:flex;\n",
              "      flex-wrap:wrap;\n",
              "      gap: 12px;\n",
              "    }\n",
              "\n",
              "    .colab-df-convert {\n",
              "      background-color: #E8F0FE;\n",
              "      border: none;\n",
              "      border-radius: 50%;\n",
              "      cursor: pointer;\n",
              "      display: none;\n",
              "      fill: #1967D2;\n",
              "      height: 32px;\n",
              "      padding: 0 0 0 0;\n",
              "      width: 32px;\n",
              "    }\n",
              "\n",
              "    .colab-df-convert:hover {\n",
              "      background-color: #E2EBFA;\n",
              "      box-shadow: 0px 1px 2px rgba(60, 64, 67, 0.3), 0px 1px 3px 1px rgba(60, 64, 67, 0.15);\n",
              "      fill: #174EA6;\n",
              "    }\n",
              "\n",
              "    [theme=dark] .colab-df-convert {\n",
              "      background-color: #3B4455;\n",
              "      fill: #D2E3FC;\n",
              "    }\n",
              "\n",
              "    [theme=dark] .colab-df-convert:hover {\n",
              "      background-color: #434B5C;\n",
              "      box-shadow: 0px 1px 3px 1px rgba(0, 0, 0, 0.15);\n",
              "      filter: drop-shadow(0px 1px 2px rgba(0, 0, 0, 0.3));\n",
              "      fill: #FFFFFF;\n",
              "    }\n",
              "  </style>\n",
              "\n",
              "      <script>\n",
              "        const buttonEl =\n",
              "          document.querySelector('#df-613a1c42-6f79-475c-a9e8-3754b5c986a1 button.colab-df-convert');\n",
              "        buttonEl.style.display =\n",
              "          google.colab.kernel.accessAllowed ? 'block' : 'none';\n",
              "\n",
              "        async function convertToInteractive(key) {\n",
              "          const element = document.querySelector('#df-613a1c42-6f79-475c-a9e8-3754b5c986a1');\n",
              "          const dataTable =\n",
              "            await google.colab.kernel.invokeFunction('convertToInteractive',\n",
              "                                                     [key], {});\n",
              "          if (!dataTable) return;\n",
              "\n",
              "          const docLinkHtml = 'Like what you see? Visit the ' +\n",
              "            '<a target=\"_blank\" href=https://colab.research.google.com/notebooks/data_table.ipynb>data table notebook</a>'\n",
              "            + ' to learn more about interactive tables.';\n",
              "          element.innerHTML = '';\n",
              "          dataTable['output_type'] = 'display_data';\n",
              "          await google.colab.output.renderOutput(dataTable, element);\n",
              "          const docLink = document.createElement('div');\n",
              "          docLink.innerHTML = docLinkHtml;\n",
              "          element.appendChild(docLink);\n",
              "        }\n",
              "      </script>\n",
              "    </div>\n",
              "  </div>\n",
              "  "
            ],
            "text/plain": [
              "   registration_id     name                 email  ...  active  class score\n",
              "2       RK20202346    Prima       prima@ymail.com  ...       1      1    55\n",
              "5       RK20202349    Bagus     bagus@hotmail.com  ...       1      1    84\n",
              "7       RK20202351     Yuni       yuni@google.com  ...       0      1    87\n",
              "9       RK20202353    Nurul       nurul@gmail.com  ...       0      1    79\n",
              "15      RK20202359    Dadan    dadan@facebook.com  ...       1      1    63\n",
              "16      RK20202360    Diana       diana@ymail.com  ...       0      1    87\n",
              "31      RK20202375    Ratih       ratih@gmail.com  ...       0      1    81\n",
              "40      RK20202384    Raden     raden@rakamin.com  ...       1      1    87\n",
              "46      RK20202390    Wulan  wulan@rocketmail.com  ...       1      1    73\n",
              "67      RK20202411  Hidayat   hidayat@hotmail.com  ...       0      1   100\n",
              "82      RK20202426      Een      een@facebook.com  ...       1      1    74\n",
              "92      RK20202436  Munaroh   munaroh@hotmail.com  ...       0      1    91\n",
              "\n",
              "[12 rows x 10 columns]"
            ]
          },
          "metadata": {},
          "execution_count": 44
        }
      ]
    },
    {
      "cell_type": "markdown",
      "metadata": {
        "id": "1R0fWRhrdAdq"
      },
      "source": [
        "### Ambil data orang-orang yang berusia lebih dari 30 tahun"
      ]
    },
    {
      "cell_type": "code",
      "metadata": {
        "id": "CB42bnAAdcGV"
      },
      "source": [
        "df_dataset[df_dataset['age'] > 30]"
      ],
      "execution_count": null,
      "outputs": []
    },
    {
      "cell_type": "markdown",
      "metadata": {
        "id": "6bOBai_adl2X"
      },
      "source": [
        "### Ambil data orang-orang dengan score <= 60"
      ]
    },
    {
      "cell_type": "code",
      "metadata": {
        "id": "nhqiXV1pdrjf"
      },
      "source": [
        "df_dataset[df_dataset['score'] <= 60]"
      ],
      "execution_count": null,
      "outputs": []
    },
    {
      "cell_type": "markdown",
      "metadata": {
        "id": "UkFM6Y1-rsHU"
      },
      "source": [
        "## Ada berapa orang yang punya score <= 60"
      ]
    },
    {
      "cell_type": "code",
      "metadata": {
        "id": "yU_D_xnyrmua"
      },
      "source": [
        "len(df_dataset[df_dataset['score'] <= 60])"
      ],
      "execution_count": null,
      "outputs": []
    },
    {
      "cell_type": "markdown",
      "metadata": {
        "id": "CIK-2U_Cdz8-"
      },
      "source": [
        "### Ambil data orang-orang yang bukan dari kota Depok"
      ]
    },
    {
      "cell_type": "code",
      "metadata": {
        "id": "aiA1h6mTd9lw"
      },
      "source": [
        "df_dataset[df_dataset['city'] != 'Depok']"
      ],
      "execution_count": null,
      "outputs": []
    },
    {
      "cell_type": "markdown",
      "metadata": {
        "id": "e2v2-4Gl9upV"
      },
      "source": [
        "## Ambil data orang-orang dari Jawa Timur dengan umur > 40"
      ]
    },
    {
      "cell_type": "code",
      "metadata": {
        "id": "yFa4M9E73f5p"
      },
      "source": [
        "df_dataset[ (df_dataset['province'] == 'Jawa Timur') & (df_dataset['age'] > 40) ]"
      ],
      "execution_count": null,
      "outputs": []
    },
    {
      "cell_type": "markdown",
      "metadata": {
        "id": "n_2VxWELsm7u"
      },
      "source": [
        "## Ambil data orang-orang yang dari Surabaya, atau punya score > 90"
      ]
    },
    {
      "cell_type": "code",
      "metadata": {
        "id": "EgyRabzJsySx"
      },
      "source": [
        "df_dataset[ (df_dataset['city'] == 'Surabaya') | (df_dataset['score'] > 90) ]"
      ],
      "execution_count": null,
      "outputs": []
    },
    {
      "cell_type": "markdown",
      "metadata": {
        "id": "ZPppvhYJsRSj"
      },
      "source": [
        "## Ambil data orang-orang yang bukan dari Malang"
      ]
    },
    {
      "cell_type": "code",
      "metadata": {
        "id": "s9dRkJMZsjqN"
      },
      "source": [
        "df_dataset[df_dataset['city'] != 'Malang']"
      ],
      "execution_count": null,
      "outputs": []
    },
    {
      "cell_type": "markdown",
      "metadata": {
        "id": "80UgGxmCvPMg"
      },
      "source": [
        "## Siapa orang paling tua yang berasal dari Jawa Tengah?"
      ]
    },
    {
      "cell_type": "code",
      "metadata": {
        "id": "MLSnUy7vvZDi"
      },
      "source": [
        "df_dataset[df_dataset['province'] == 'Jawa Tengah'].sort_values('age', ascending=False).head(1)"
      ],
      "execution_count": null,
      "outputs": []
    },
    {
      "cell_type": "markdown",
      "metadata": {
        "id": "fAB5ycQKtEu9"
      },
      "source": [
        "## [CHALLENGE] Ada berapa banyak orang di kelas 4 yang berasal dari Jawa Tengah?"
      ]
    },
    {
      "cell_type": "code",
      "metadata": {
        "id": "EBnryLkZwKUy"
      },
      "source": [
        "len(df_dataset[(df_dataset['class_name'] == 'Class 4') & (df_dataset['province'] == 'Jawa Tengah')])"
      ],
      "execution_count": null,
      "outputs": []
    },
    {
      "cell_type": "markdown",
      "metadata": {
        "id": "apmqGwlHxyGE"
      },
      "source": [
        "## [CHALLENGE] Siapa nama pemilik no HP 628833542?"
      ]
    },
    {
      "cell_type": "code",
      "metadata": {
        "id": "d4hzc1c1tk96"
      },
      "source": [
        "df_dataset[df_dataset['phone'] == '628833542']['name']"
      ],
      "execution_count": null,
      "outputs": []
    },
    {
      "cell_type": "markdown",
      "metadata": {
        "id": "4cRZhBeftvBD"
      },
      "source": [
        "## Untuk semua orang di kelas 1, tunjukkan info nama, kota, dan provinsi nya"
      ]
    },
    {
      "cell_type": "code",
      "metadata": {
        "id": "LqDhZgV9t7oI"
      },
      "source": [
        "df_dataset[df_dataset['class_name'] == 'Class 1'][['name', 'city', 'province']]"
      ],
      "execution_count": null,
      "outputs": []
    },
    {
      "cell_type": "markdown",
      "metadata": {
        "id": "YTUWbph5ehM3"
      },
      "source": [
        "# Data Aggregation"
      ]
    },
    {
      "cell_type": "markdown",
      "metadata": {
        "id": "__s93Tz-4ci_"
      },
      "source": [
        "## Melihat jumlah orang per provinsi"
      ]
    },
    {
      "cell_type": "code",
      "metadata": {
        "id": "TkvTw2p_4ggk"
      },
      "source": [
        "df_dataset.groupby('province')['registration_id'].count()"
      ],
      "execution_count": null,
      "outputs": []
    },
    {
      "cell_type": "markdown",
      "metadata": {
        "id": "CuxbV-ZRuKop"
      },
      "source": [
        "Tambahkan .reset_index() untuk membuat dataframe yang kolomnya rata"
      ]
    },
    {
      "cell_type": "code",
      "metadata": {
        "id": "DPndc7oJuQHp",
        "colab": {
          "base_uri": "https://localhost:8080/",
          "height": 106
        },
        "outputId": "7a648d7e-6153-471c-b114-13f21cb38cbf"
      },
      "source": [
        "df_dataset.groupby('province')['registration_id'].count().reset_index()"
      ],
      "execution_count": null,
      "outputs": [
        {
          "output_type": "error",
          "ename": "SyntaxError",
          "evalue": "invalid syntax (<ipython-input-1-035fd08492df>, line 1)",
          "traceback": [
            "\u001b[0;36m  File \u001b[0;32m\"<ipython-input-1-035fd08492df>\"\u001b[0;36m, line \u001b[0;32m1\u001b[0m\n\u001b[0;31m    Tambahkan .reset_index() untuk membuat dataframe yang kolomnya rata\u001b[0m\n\u001b[0m                             ^\u001b[0m\n\u001b[0;31mSyntaxError\u001b[0m\u001b[0;31m:\u001b[0m invalid syntax\n"
          ]
        }
      ]
    },
    {
      "cell_type": "markdown",
      "metadata": {
        "id": "fqs9S_qb4kne"
      },
      "source": [
        "## Melihat rata-rata score tiap kelas"
      ]
    },
    {
      "cell_type": "code",
      "metadata": {
        "id": "kda2UyY141Ez"
      },
      "source": [
        "df_dataset.groupby('class')['score'].mean().reset_index()"
      ],
      "execution_count": null,
      "outputs": []
    },
    {
      "cell_type": "markdown",
      "metadata": {
        "id": "Z5ayU5wQ5rSo"
      },
      "source": [
        "diurutkan dari rata-rata score tertinggi"
      ]
    },
    {
      "cell_type": "code",
      "metadata": {
        "id": "h30FscV85tsS"
      },
      "source": [
        "df_dataset.groupby('class')['score'].mean().reset_index().sort_values('score',ascending=False)"
      ],
      "execution_count": null,
      "outputs": []
    },
    {
      "cell_type": "markdown",
      "metadata": {
        "id": "2-C30inxw7Yi"
      },
      "source": [
        "## Untuk orang-orang dari Jakarta, berapa rata-rata score per kota?"
      ]
    },
    {
      "cell_type": "code",
      "metadata": {
        "id": "Uj3Qca8ixK7U"
      },
      "source": [
        "df_dataset[df_dataset['province'] == 'Jakarta'].groupby('city')['score'].mean().reset_index()"
      ],
      "execution_count": null,
      "outputs": []
    },
    {
      "cell_type": "markdown",
      "metadata": {
        "id": "SUYKfCTFxQKl"
      },
      "source": [
        "## Berapa banyak orang yang aktif, dan tidak aktif?"
      ]
    },
    {
      "cell_type": "code",
      "metadata": {
        "id": "loAksHN5y6C8"
      },
      "source": [
        "df_dataset.groupby('is_active')['registration_id'].count().reset_index()"
      ],
      "execution_count": null,
      "outputs": []
    }
  ]
}