{
  "nbformat": 4,
  "nbformat_minor": 0,
  "metadata": {
    "colab": {
      "provenance": [],
      "collapsed_sections": [
        "OI89KCoAZNdg",
        "6Q5X5JK-ZT5E",
        "_J_RMDz7ZXJi",
        "XMdSlUKeZbsr",
        "1TwYviw23HC5",
        "S4mNdDL-3KsI",
        "w1PlUbV53OJa",
        "g0LkNVU23RcV",
        "yb6TTyNv3VrS",
        "WSXf4zXe4Tjc"
      ],
      "include_colab_link": true
    },
    "kernelspec": {
      "name": "python3",
      "display_name": "Python 3"
    },
    "language_info": {
      "name": "python"
    }
  },
  "cells": [
    {
      "cell_type": "markdown",
      "metadata": {
        "id": "view-in-github",
        "colab_type": "text"
      },
      "source": [
        "<a href=\"https://colab.research.google.com/github/mufqam/rifqiprogress/blob/mufqam/Indonesian_Text_Sentiment_Analysis_Analisis_Sentimen_Teks_Bahasa_Indonesia.ipynb\" target=\"_parent\"><img src=\"https://colab.research.google.com/assets/colab-badge.svg\" alt=\"Open In Colab\"/></a>"
      ]
    },
    {
      "cell_type": "markdown",
      "source": [
        "# Indonesian Text Sentiment Analysis/Analisis Sentimen Teks Bahasa Indonesia\n",
        "30 Aug 2021"
      ],
      "metadata": {
        "id": "5BC8CQ7qTWse"
      }
    },
    {
      "cell_type": "markdown",
      "source": [
        "Project ini menggunakan bahasa pemrograman Python dan memanfaatkan beberapa library, antara lain:\n",
        "\n",
        "**Untuk membaca dan memproses file PDF:**\n",
        "\n",
        "*   PyPDF2\n",
        "\n",
        "**Untuk machine learning dan analisis data:**\n",
        "\n",
        "*   scikit-learn (dengan CountVectorizer dan LogisticRegression)\n",
        "*   pandas\n",
        "*   NumPy\n",
        "\n",
        "**Untuk pemrosesan bahasa alami (NLP):**\n",
        "\n",
        "*   NLTK\n",
        "*   spaCy\n",
        "\n",
        "**Untuk membuat antarmuka pengguna:**\n",
        "\n",
        "*  Gradio\n"
      ],
      "metadata": {
        "id": "1zun6-8wTnOh"
      }
    },
    {
      "cell_type": "markdown",
      "metadata": {
        "id": "kP3SRxLO27I8"
      },
      "source": [
        "# Import Libraries"
      ]
    },
    {
      "cell_type": "code",
      "metadata": {
        "colab": {
          "base_uri": "https://localhost:8080/"
        },
        "id": "ToPJa8oU4bAD",
        "outputId": "0968550e-e3e8-4421-cecf-faccfe17629e"
      },
      "source": [
        "!pip install -q PyPDF2  # PyPDF untuk membaca file pdf\n",
        "!pip -q install gradio  # Gradio ML untuk membuat interface\n",
        "!pip -q install -U spacy   # spaCy\n",
        "\n",
        "!python -m spacy download en_core_web_sm # Pretrained model dari spaCy\n",
        "!python -m spacy download en_core_web_md"
      ],
      "execution_count": null,
      "outputs": [
        {
          "output_type": "stream",
          "text": [
            "\u001b[?25l\r\u001b[K     |████▎                           | 10 kB 17.7 MB/s eta 0:00:01\r\u001b[K     |████████▌                       | 20 kB 22.5 MB/s eta 0:00:01\r\u001b[K     |████████████▊                   | 30 kB 22.0 MB/s eta 0:00:01\r\u001b[K     |█████████████████               | 40 kB 18.7 MB/s eta 0:00:01\r\u001b[K     |█████████████████████▏          | 51 kB 7.7 MB/s eta 0:00:01\r\u001b[K     |█████████████████████████▍      | 61 kB 8.9 MB/s eta 0:00:01\r\u001b[K     |█████████████████████████████▋  | 71 kB 8.3 MB/s eta 0:00:01\r\u001b[K     |████████████████████████████████| 77 kB 3.5 MB/s \n",
            "\u001b[?25h  Building wheel for PyPDF2 (setup.py) ... \u001b[?25l\u001b[?25hdone\n",
            "\u001b[K     |████████████████████████████████| 3.4 MB 7.9 MB/s \n",
            "\u001b[K     |████████████████████████████████| 1.9 MB 45.7 MB/s \n",
            "\u001b[K     |████████████████████████████████| 206 kB 77.4 MB/s \n",
            "\u001b[K     |████████████████████████████████| 3.2 MB 63.7 MB/s \n",
            "\u001b[K     |████████████████████████████████| 63 kB 2.9 MB/s \n",
            "\u001b[K     |████████████████████████████████| 961 kB 60.5 MB/s \n",
            "\u001b[?25h  Building wheel for ffmpy (setup.py) ... \u001b[?25l\u001b[?25hdone\n",
            "  Building wheel for flask-cachebuster (setup.py) ... \u001b[?25l\u001b[?25hdone\n",
            "\u001b[K     |████████████████████████████████| 5.8 MB 8.8 MB/s \n",
            "\u001b[K     |████████████████████████████████| 10.1 MB 24.4 MB/s \n",
            "\u001b[K     |████████████████████████████████| 456 kB 37.2 MB/s \n",
            "\u001b[K     |████████████████████████████████| 621 kB 74.7 MB/s \n",
            "\u001b[K     |████████████████████████████████| 42 kB 1.5 MB/s \n",
            "\u001b[?25hCollecting en-core-web-sm==3.1.0\n",
            "  Downloading https://github.com/explosion/spacy-models/releases/download/en_core_web_sm-3.1.0/en_core_web_sm-3.1.0-py3-none-any.whl (13.6 MB)\n",
            "\u001b[K     |████████████████████████████████| 13.6 MB 75 kB/s \n",
            "\u001b[?25hRequirement already satisfied: spacy<3.2.0,>=3.1.0 in /usr/local/lib/python3.7/dist-packages (from en-core-web-sm==3.1.0) (3.1.2)\n",
            "Requirement already satisfied: srsly<3.0.0,>=2.4.1 in /usr/local/lib/python3.7/dist-packages (from spacy<3.2.0,>=3.1.0->en-core-web-sm==3.1.0) (2.4.1)\n",
            "Requirement already satisfied: preshed<3.1.0,>=3.0.2 in /usr/local/lib/python3.7/dist-packages (from spacy<3.2.0,>=3.1.0->en-core-web-sm==3.1.0) (3.0.5)\n",
            "Requirement already satisfied: typer<0.4.0,>=0.3.0 in /usr/local/lib/python3.7/dist-packages (from spacy<3.2.0,>=3.1.0->en-core-web-sm==3.1.0) (0.3.2)\n",
            "Requirement already satisfied: wasabi<1.1.0,>=0.8.1 in /usr/local/lib/python3.7/dist-packages (from spacy<3.2.0,>=3.1.0->en-core-web-sm==3.1.0) (0.8.2)\n",
            "Requirement already satisfied: setuptools in /usr/local/lib/python3.7/dist-packages (from spacy<3.2.0,>=3.1.0->en-core-web-sm==3.1.0) (57.4.0)\n",
            "Requirement already satisfied: spacy-legacy<3.1.0,>=3.0.7 in /usr/local/lib/python3.7/dist-packages (from spacy<3.2.0,>=3.1.0->en-core-web-sm==3.1.0) (3.0.8)\n",
            "Requirement already satisfied: typing-extensions<4.0.0.0,>=3.7.4 in /usr/local/lib/python3.7/dist-packages (from spacy<3.2.0,>=3.1.0->en-core-web-sm==3.1.0) (3.7.4.3)\n",
            "Requirement already satisfied: numpy>=1.15.0 in /usr/local/lib/python3.7/dist-packages (from spacy<3.2.0,>=3.1.0->en-core-web-sm==3.1.0) (1.19.5)\n",
            "Requirement already satisfied: blis<0.8.0,>=0.4.0 in /usr/local/lib/python3.7/dist-packages (from spacy<3.2.0,>=3.1.0->en-core-web-sm==3.1.0) (0.4.1)\n",
            "Requirement already satisfied: pathy>=0.3.5 in /usr/local/lib/python3.7/dist-packages (from spacy<3.2.0,>=3.1.0->en-core-web-sm==3.1.0) (0.6.0)\n",
            "Requirement already satisfied: thinc<8.1.0,>=8.0.8 in /usr/local/lib/python3.7/dist-packages (from spacy<3.2.0,>=3.1.0->en-core-web-sm==3.1.0) (8.0.8)\n",
            "Requirement already satisfied: requests<3.0.0,>=2.13.0 in /usr/local/lib/python3.7/dist-packages (from spacy<3.2.0,>=3.1.0->en-core-web-sm==3.1.0) (2.23.0)\n",
            "Requirement already satisfied: pydantic!=1.8,!=1.8.1,<1.9.0,>=1.7.4 in /usr/local/lib/python3.7/dist-packages (from spacy<3.2.0,>=3.1.0->en-core-web-sm==3.1.0) (1.8.2)\n",
            "Requirement already satisfied: tqdm<5.0.0,>=4.38.0 in /usr/local/lib/python3.7/dist-packages (from spacy<3.2.0,>=3.1.0->en-core-web-sm==3.1.0) (4.62.0)\n",
            "Requirement already satisfied: cymem<2.1.0,>=2.0.2 in /usr/local/lib/python3.7/dist-packages (from spacy<3.2.0,>=3.1.0->en-core-web-sm==3.1.0) (2.0.5)\n",
            "Requirement already satisfied: packaging>=20.0 in /usr/local/lib/python3.7/dist-packages (from spacy<3.2.0,>=3.1.0->en-core-web-sm==3.1.0) (21.0)\n",
            "Requirement already satisfied: catalogue<2.1.0,>=2.0.4 in /usr/local/lib/python3.7/dist-packages (from spacy<3.2.0,>=3.1.0->en-core-web-sm==3.1.0) (2.0.6)\n",
            "Requirement already satisfied: jinja2 in /usr/local/lib/python3.7/dist-packages (from spacy<3.2.0,>=3.1.0->en-core-web-sm==3.1.0) (2.11.3)\n",
            "Requirement already satisfied: murmurhash<1.1.0,>=0.28.0 in /usr/local/lib/python3.7/dist-packages (from spacy<3.2.0,>=3.1.0->en-core-web-sm==3.1.0) (1.0.5)\n",
            "Requirement already satisfied: zipp>=0.5 in /usr/local/lib/python3.7/dist-packages (from catalogue<2.1.0,>=2.0.4->spacy<3.2.0,>=3.1.0->en-core-web-sm==3.1.0) (3.5.0)\n",
            "Requirement already satisfied: pyparsing>=2.0.2 in /usr/local/lib/python3.7/dist-packages (from packaging>=20.0->spacy<3.2.0,>=3.1.0->en-core-web-sm==3.1.0) (2.4.7)\n",
            "Requirement already satisfied: smart-open<6.0.0,>=5.0.0 in /usr/local/lib/python3.7/dist-packages (from pathy>=0.3.5->spacy<3.2.0,>=3.1.0->en-core-web-sm==3.1.0) (5.1.0)\n",
            "Requirement already satisfied: urllib3!=1.25.0,!=1.25.1,<1.26,>=1.21.1 in /usr/local/lib/python3.7/dist-packages (from requests<3.0.0,>=2.13.0->spacy<3.2.0,>=3.1.0->en-core-web-sm==3.1.0) (1.24.3)\n",
            "Requirement already satisfied: certifi>=2017.4.17 in /usr/local/lib/python3.7/dist-packages (from requests<3.0.0,>=2.13.0->spacy<3.2.0,>=3.1.0->en-core-web-sm==3.1.0) (2021.5.30)\n",
            "Requirement already satisfied: idna<3,>=2.5 in /usr/local/lib/python3.7/dist-packages (from requests<3.0.0,>=2.13.0->spacy<3.2.0,>=3.1.0->en-core-web-sm==3.1.0) (2.10)\n",
            "Requirement already satisfied: chardet<4,>=3.0.2 in /usr/local/lib/python3.7/dist-packages (from requests<3.0.0,>=2.13.0->spacy<3.2.0,>=3.1.0->en-core-web-sm==3.1.0) (3.0.4)\n",
            "Requirement already satisfied: click<7.2.0,>=7.1.1 in /usr/local/lib/python3.7/dist-packages (from typer<0.4.0,>=0.3.0->spacy<3.2.0,>=3.1.0->en-core-web-sm==3.1.0) (7.1.2)\n",
            "Requirement already satisfied: MarkupSafe>=0.23 in /usr/local/lib/python3.7/dist-packages (from jinja2->spacy<3.2.0,>=3.1.0->en-core-web-sm==3.1.0) (2.0.1)\n",
            "Installing collected packages: en-core-web-sm\n",
            "  Attempting uninstall: en-core-web-sm\n",
            "    Found existing installation: en-core-web-sm 2.2.5\n",
            "    Uninstalling en-core-web-sm-2.2.5:\n",
            "      Successfully uninstalled en-core-web-sm-2.2.5\n",
            "Successfully installed en-core-web-sm-3.1.0\n",
            "\u001b[38;5;2m✔ Download and installation successful\u001b[0m\n",
            "You can now load the package via spacy.load('en_core_web_sm')\n",
            "Collecting en-core-web-md==3.1.0\n",
            "  Downloading https://github.com/explosion/spacy-models/releases/download/en_core_web_md-3.1.0/en_core_web_md-3.1.0-py3-none-any.whl (45.4 MB)\n",
            "\u001b[K     |████████████████████████████████| 45.4 MB 16 kB/s \n",
            "\u001b[?25hRequirement already satisfied: spacy<3.2.0,>=3.1.0 in /usr/local/lib/python3.7/dist-packages (from en-core-web-md==3.1.0) (3.1.2)\n",
            "Requirement already satisfied: pydantic!=1.8,!=1.8.1,<1.9.0,>=1.7.4 in /usr/local/lib/python3.7/dist-packages (from spacy<3.2.0,>=3.1.0->en-core-web-md==3.1.0) (1.8.2)\n",
            "Requirement already satisfied: typing-extensions<4.0.0.0,>=3.7.4 in /usr/local/lib/python3.7/dist-packages (from spacy<3.2.0,>=3.1.0->en-core-web-md==3.1.0) (3.7.4.3)\n",
            "Requirement already satisfied: numpy>=1.15.0 in /usr/local/lib/python3.7/dist-packages (from spacy<3.2.0,>=3.1.0->en-core-web-md==3.1.0) (1.19.5)\n",
            "Requirement already satisfied: tqdm<5.0.0,>=4.38.0 in /usr/local/lib/python3.7/dist-packages (from spacy<3.2.0,>=3.1.0->en-core-web-md==3.1.0) (4.62.0)\n",
            "Requirement already satisfied: spacy-legacy<3.1.0,>=3.0.7 in /usr/local/lib/python3.7/dist-packages (from spacy<3.2.0,>=3.1.0->en-core-web-md==3.1.0) (3.0.8)\n",
            "Requirement already satisfied: packaging>=20.0 in /usr/local/lib/python3.7/dist-packages (from spacy<3.2.0,>=3.1.0->en-core-web-md==3.1.0) (21.0)\n",
            "Requirement already satisfied: wasabi<1.1.0,>=0.8.1 in /usr/local/lib/python3.7/dist-packages (from spacy<3.2.0,>=3.1.0->en-core-web-md==3.1.0) (0.8.2)\n",
            "Requirement already satisfied: thinc<8.1.0,>=8.0.8 in /usr/local/lib/python3.7/dist-packages (from spacy<3.2.0,>=3.1.0->en-core-web-md==3.1.0) (8.0.8)\n",
            "Requirement already satisfied: catalogue<2.1.0,>=2.0.4 in /usr/local/lib/python3.7/dist-packages (from spacy<3.2.0,>=3.1.0->en-core-web-md==3.1.0) (2.0.6)\n",
            "Requirement already satisfied: requests<3.0.0,>=2.13.0 in /usr/local/lib/python3.7/dist-packages (from spacy<3.2.0,>=3.1.0->en-core-web-md==3.1.0) (2.23.0)\n",
            "Requirement already satisfied: srsly<3.0.0,>=2.4.1 in /usr/local/lib/python3.7/dist-packages (from spacy<3.2.0,>=3.1.0->en-core-web-md==3.1.0) (2.4.1)\n",
            "Requirement already satisfied: jinja2 in /usr/local/lib/python3.7/dist-packages (from spacy<3.2.0,>=3.1.0->en-core-web-md==3.1.0) (2.11.3)\n",
            "Requirement already satisfied: pathy>=0.3.5 in /usr/local/lib/python3.7/dist-packages (from spacy<3.2.0,>=3.1.0->en-core-web-md==3.1.0) (0.6.0)\n",
            "Requirement already satisfied: preshed<3.1.0,>=3.0.2 in /usr/local/lib/python3.7/dist-packages (from spacy<3.2.0,>=3.1.0->en-core-web-md==3.1.0) (3.0.5)\n",
            "Requirement already satisfied: blis<0.8.0,>=0.4.0 in /usr/local/lib/python3.7/dist-packages (from spacy<3.2.0,>=3.1.0->en-core-web-md==3.1.0) (0.4.1)\n",
            "Requirement already satisfied: cymem<2.1.0,>=2.0.2 in /usr/local/lib/python3.7/dist-packages (from spacy<3.2.0,>=3.1.0->en-core-web-md==3.1.0) (2.0.5)\n",
            "Requirement already satisfied: setuptools in /usr/local/lib/python3.7/dist-packages (from spacy<3.2.0,>=3.1.0->en-core-web-md==3.1.0) (57.4.0)\n",
            "Requirement already satisfied: typer<0.4.0,>=0.3.0 in /usr/local/lib/python3.7/dist-packages (from spacy<3.2.0,>=3.1.0->en-core-web-md==3.1.0) (0.3.2)\n",
            "Requirement already satisfied: murmurhash<1.1.0,>=0.28.0 in /usr/local/lib/python3.7/dist-packages (from spacy<3.2.0,>=3.1.0->en-core-web-md==3.1.0) (1.0.5)\n",
            "Requirement already satisfied: zipp>=0.5 in /usr/local/lib/python3.7/dist-packages (from catalogue<2.1.0,>=2.0.4->spacy<3.2.0,>=3.1.0->en-core-web-md==3.1.0) (3.5.0)\n",
            "Requirement already satisfied: pyparsing>=2.0.2 in /usr/local/lib/python3.7/dist-packages (from packaging>=20.0->spacy<3.2.0,>=3.1.0->en-core-web-md==3.1.0) (2.4.7)\n",
            "Requirement already satisfied: smart-open<6.0.0,>=5.0.0 in /usr/local/lib/python3.7/dist-packages (from pathy>=0.3.5->spacy<3.2.0,>=3.1.0->en-core-web-md==3.1.0) (5.1.0)\n",
            "Requirement already satisfied: urllib3!=1.25.0,!=1.25.1,<1.26,>=1.21.1 in /usr/local/lib/python3.7/dist-packages (from requests<3.0.0,>=2.13.0->spacy<3.2.0,>=3.1.0->en-core-web-md==3.1.0) (1.24.3)\n",
            "Requirement already satisfied: chardet<4,>=3.0.2 in /usr/local/lib/python3.7/dist-packages (from requests<3.0.0,>=2.13.0->spacy<3.2.0,>=3.1.0->en-core-web-md==3.1.0) (3.0.4)\n",
            "Requirement already satisfied: certifi>=2017.4.17 in /usr/local/lib/python3.7/dist-packages (from requests<3.0.0,>=2.13.0->spacy<3.2.0,>=3.1.0->en-core-web-md==3.1.0) (2021.5.30)\n",
            "Requirement already satisfied: idna<3,>=2.5 in /usr/local/lib/python3.7/dist-packages (from requests<3.0.0,>=2.13.0->spacy<3.2.0,>=3.1.0->en-core-web-md==3.1.0) (2.10)\n",
            "Requirement already satisfied: click<7.2.0,>=7.1.1 in /usr/local/lib/python3.7/dist-packages (from typer<0.4.0,>=0.3.0->spacy<3.2.0,>=3.1.0->en-core-web-md==3.1.0) (7.1.2)\n",
            "Requirement already satisfied: MarkupSafe>=0.23 in /usr/local/lib/python3.7/dist-packages (from jinja2->spacy<3.2.0,>=3.1.0->en-core-web-md==3.1.0) (2.0.1)\n",
            "Installing collected packages: en-core-web-md\n",
            "Successfully installed en-core-web-md-3.1.0\n",
            "\u001b[38;5;2m✔ Download and installation successful\u001b[0m\n",
            "You can now load the package via spacy.load('en_core_web_md')\n"
          ],
          "name": "stdout"
        }
      ]
    },
    {
      "cell_type": "code",
      "metadata": {
        "colab": {
          "base_uri": "https://localhost:8080/"
        },
        "id": "iHBqsSzWgWFT",
        "outputId": "6ab4a18d-8963-4346-d28b-4fe7be8ef738"
      },
      "source": [
        "# Standard Library\n",
        "import string\n",
        "import re\n",
        "\n",
        "# Pdf Reader\n",
        "import PyPDF2\n",
        "\n",
        "# Common Data Science Libraries\n",
        "import numpy as np\n",
        "import pandas as pd\n",
        "import matplotlib.pyplot as plt\n",
        "import seaborn as sns\n",
        "\n",
        "# Machine Learning\n",
        "from sklearn.linear_model import LogisticRegression\n",
        "from sklearn.model_selection import train_test_split\n",
        "from sklearn.feature_extraction.text import CountVectorizer\n",
        "\n",
        "# Deep Learning\n",
        "import keras\n",
        "from keras.preprocessing.text import Tokenizer\n",
        "from keras.preprocessing.sequence import pad_sequences\n",
        "\n",
        "# NLP\n",
        "import nltk\n",
        "from nltk.corpus import stopwords\n",
        "# Beberapa fungsi dalam nltk membutuhkan file ini\n",
        "nltk.download(\"punkt\")\n",
        "nltk.download(\"stopwords\")\n",
        "\n",
        "import spacy\n",
        "from spacy import displacy\n",
        "\n",
        "# User Interface\n",
        "import gradio as gr"
      ],
      "execution_count": null,
      "outputs": [
        {
          "output_type": "stream",
          "text": [
            "[nltk_data] Downloading package punkt to /root/nltk_data...\n",
            "[nltk_data]   Unzipping tokenizers/punkt.zip.\n",
            "[nltk_data] Downloading package stopwords to /root/nltk_data...\n",
            "[nltk_data]   Unzipping corpora/stopwords.zip.\n"
          ],
          "name": "stdout"
        }
      ]
    },
    {
      "cell_type": "markdown",
      "metadata": {
        "id": "ibvq2hKt2-7p"
      },
      "source": [
        "# Download Data"
      ]
    },
    {
      "cell_type": "code",
      "metadata": {
        "id": "Ju8-Vv7lU7Zh"
      },
      "source": [
        "# Bash command untuk mendownload file PDF\n",
        "!wget -q https://www.mkri.id/public/content/infoumum/regulation/pdf/UUD45%20ASLI.pdf"
      ],
      "execution_count": null,
      "outputs": []
    },
    {
      "cell_type": "code",
      "metadata": {
        "colab": {
          "base_uri": "https://localhost:8080/"
        },
        "id": "UiSXNVjz1Cvi",
        "outputId": "0a81640f-6118-4379-b0c1-87f603c18d46"
      },
      "source": [
        "# Download data untuk machine learning\n",
        "!git clone https://github.com/rakkaalhazimi/Data-NLP-Bahasa-Indonesia"
      ],
      "execution_count": null,
      "outputs": [
        {
          "output_type": "stream",
          "text": [
            "Cloning into 'Data-NLP-Bahasa-Indonesia'...\n",
            "remote: Enumerating objects: 12, done.\u001b[K\n",
            "remote: Counting objects: 100% (12/12), done.\u001b[K\n",
            "remote: Compressing objects: 100% (11/11), done.\u001b[K\n",
            "remote: Total 12 (delta 1), reused 0 (delta 0), pack-reused 0\u001b[K\n",
            "Unpacking objects: 100% (12/12), done.\n"
          ],
          "name": "stdout"
        }
      ]
    },
    {
      "cell_type": "markdown",
      "metadata": {
        "id": "80wA8oPRUtLl"
      },
      "source": [
        "# 1 - Analisis Konteks menggunakan NLTK"
      ]
    },
    {
      "cell_type": "markdown",
      "metadata": {
        "id": "GSrmusVaU3LR"
      },
      "source": [
        "## Baca file pdf"
      ]
    },
    {
      "cell_type": "code",
      "metadata": {
        "id": "MjPiGu2bUyAS"
      },
      "source": [
        "pdf = open(\"UUD45 ASLI.pdf\", \"rb\")\n",
        "pdf_reader = PyPDF2.PdfFileReader(pdf)"
      ],
      "execution_count": null,
      "outputs": []
    },
    {
      "cell_type": "markdown",
      "metadata": {
        "id": "1yzS86iAVeHb"
      },
      "source": [
        "## Ekstrak teks dalam pdf"
      ]
    },
    {
      "cell_type": "code",
      "metadata": {
        "id": "CM43x5sKVcpR"
      },
      "source": [
        "# Ambil teks di tiap halaman pdf\n",
        "def get_pdf_text(pdf):\n",
        "    return \"\\n\".join(page.extractText() for page in pdf.pages)\n",
        "\n",
        "uud45 = get_pdf_text(pdf_reader)"
      ],
      "execution_count": null,
      "outputs": []
    },
    {
      "cell_type": "code",
      "metadata": {
        "colab": {
          "base_uri": "https://localhost:8080/"
        },
        "id": "H3ZEdqc0VmQw",
        "outputId": "7324954a-a642-40e4-dd9d-b3e36e546bfb"
      },
      "source": [
        "# Rapikan teks dengan regular expression\n",
        "def format_linespace(text):\n",
        "    text = re.sub(r\"(\\w)(\\n)(\\w)\", r\"\\1\\3\", text) # menghilangkan baris diantara kata\n",
        "    text = re.sub(r\"(\\n)(-)(\\n)\", r\"\\2\", text)    # menghilangkan baris diantara tanda \"-\"\n",
        "    return text\n",
        "\n",
        "uud45_clean = format_linespace(uud45)\n",
        "print(uud45_clean[:100])"
      ],
      "execution_count": null,
      "outputs": [
        {
          "output_type": "stream",
          "text": [
            " \n",
            " \n",
            "UNDANG-UNDANG DASAR \n",
            "NEGARA\n",
            " \n",
            "REPUBLIK INDONESIA \n",
            " \n",
            "1945\n",
            " \n",
            " \n",
            "Pembukaan\n",
            " \n",
            "Bahwa sesungguhnya keme\n"
          ],
          "name": "stdout"
        }
      ]
    },
    {
      "cell_type": "markdown",
      "metadata": {
        "id": "kuPRRlOiWGJ_"
      },
      "source": [
        "## Tokenisasi\n",
        "Ubah teks menjadi kumpulan kata"
      ]
    },
    {
      "cell_type": "code",
      "metadata": {
        "id": "b9LyKKnQV_hR",
        "colab": {
          "base_uri": "https://localhost:8080/"
        },
        "outputId": "984b566f-77f7-4017-b74c-b15301d5bf6e"
      },
      "source": [
        "# .lower() supaya teks jadi lowercase\n",
        "uud45_tokens = nltk.tokenize.word_tokenize( uud45_clean.lower() )\n",
        "\n",
        "# Filter tanda baca dengan list comprehension\n",
        "# ambil semua kata yang termasuk alpanumerik .isalnum()\n",
        "uud45_tokens = [word for word in uud45_tokens if word.isalnum()]\n",
        "uud45_tokens[:10]"
      ],
      "execution_count": null,
      "outputs": [
        {
          "output_type": "execute_result",
          "data": {
            "text/plain": [
              "['dasar',\n",
              " 'negara',\n",
              " 'republik',\n",
              " 'indonesia',\n",
              " '1945',\n",
              " 'pembukaan',\n",
              " 'bahwa',\n",
              " 'sesungguhnya',\n",
              " 'kemerdekaan',\n",
              " 'itu']"
            ]
          },
          "metadata": {},
          "execution_count": 9
        }
      ]
    },
    {
      "cell_type": "markdown",
      "metadata": {
        "id": "szd3IT5SWn33"
      },
      "source": [
        "## Wrapper NLTK untuk melakukan analisis konteks"
      ]
    },
    {
      "cell_type": "markdown",
      "metadata": {
        "id": "R9rQVeV8WgJx"
      },
      "source": [
        "Data teks yang sebelumnya sudah di tokenisasi dapat dijadikan argumen untuk membuat instance dalam wrapper nltk.text.Text().\n",
        "\n",
        "Wrapper ini dapat kita pakai untuk melakukan beragam analisis konteks dalam teks.\n",
        "\n",
        "Macam-macam analisis dapat berupa:\n",
        "\n",
        "- Common Contexts: Konteks yang dipakai suatu kata.\n",
        "- Similar : Kata dengan konteks yang mirip.\n",
        "- Collocation: Kata-kata yang sering muncul bersamaan.\n",
        "- dll.\n"
      ]
    },
    {
      "cell_type": "code",
      "metadata": {
        "colab": {
          "base_uri": "https://localhost:8080/"
        },
        "id": "TrIiqIaqWwc2",
        "outputId": "7c892bd6-0c0e-4d7a-f3f8-8d3cd207f93f"
      },
      "source": [
        "# Masukkan kumpulan kata tadi kedalam wrapper nltk.text.Text\n",
        "# Wrapper ini digunakan untuk melakukan eksplorasi pada tokens\n",
        "# yang dimasukkan.\n",
        "uud45_nltk = nltk.text.Text(uud45_tokens)\n",
        "uud45_nltk"
      ],
      "execution_count": null,
      "outputs": [
        {
          "output_type": "execute_result",
          "data": {
            "text/plain": [
              "<Text: dasar negara republik indonesia 1945 pembukaan bahwa sesungguhnya...>"
            ]
          },
          "metadata": {},
          "execution_count": 10
        }
      ]
    },
    {
      "cell_type": "markdown",
      "metadata": {
        "id": "X5MjXp3lZLhf"
      },
      "source": [
        "## Common Contexts: Konteks yang dipakai suatu kata"
      ]
    },
    {
      "cell_type": "code",
      "metadata": {
        "colab": {
          "base_uri": "https://localhost:8080/"
        },
        "id": "I3GTBs0oZM16",
        "outputId": "b18af005-1705-400b-a9d6-2f4f79882e52"
      },
      "source": [
        "# Mencari konteks suatu kata\n",
        "uud45_nltk.common_contexts([\"negara\"])"
      ],
      "execution_count": null,
      "outputs": [
        {
          "output_type": "stream",
          "text": [
            "dasar_republik kemerdekaan_indonesia pemerintah_indonesia\n",
            "dasar_indonesia susunan_republik 1_indonesia ialah_kesatuan ibukota_3\n",
            "haluan_bab pemerintah_pasal dengan_lain duta_lain kementerian_pasal\n",
            "oleh_2 pemerintahan_dan keperluan_berdasarkan keuangan_selanjutnya\n",
            "keuangan_diadakan warga_pasal warga_ialah\n"
          ],
          "name": "stdout"
        }
      ]
    },
    {
      "cell_type": "markdown",
      "metadata": {
        "id": "OI89KCoAZNdg"
      },
      "source": [
        "## Similar: Kata dengan konteks yang mirip"
      ]
    },
    {
      "cell_type": "code",
      "metadata": {
        "colab": {
          "base_uri": "https://localhost:8080/"
        },
        "id": "7UWhQtxyZREx",
        "outputId": "e688ee3f-d3f3-453f-d338-05314b52effd"
      },
      "source": [
        "# Mencari kata dengan konteks yang mirip\n",
        "uud45_nltk.similar(\"negara\")"
      ],
      "execution_count": null,
      "outputs": [
        {
          "output_type": "stream",
          "text": [
            "daerah dasar indonesia bangsa dan sebab karena rakyat kebangsaan dalam\n",
            "kemanusiaan kekuasaan presiden keadaan persidangan kebudayaan\n",
            "masyarakat sedangkan lingkungannya\n"
          ],
          "name": "stdout"
        }
      ]
    },
    {
      "cell_type": "markdown",
      "metadata": {
        "id": "6Q5X5JK-ZT5E"
      },
      "source": [
        "## Concordance: Kemunculan kata beserta konteksnya"
      ]
    },
    {
      "cell_type": "code",
      "metadata": {
        "colab": {
          "base_uri": "https://localhost:8080/"
        },
        "id": "9LKuO8roZU4q",
        "outputId": "92e5a7ef-f947-4748-81a1-ea95bc791b9f"
      },
      "source": [
        "# Pencarian kata beserta konteksnya\n",
        "uud45_nltk.concordance(\"negara\")"
      ],
      "execution_count": null,
      "outputs": [
        {
          "output_type": "stream",
          "text": [
            "Displaying 25 of 121 matches:\n",
            "                                    negara republik indonesia 1945 pembukaan b\n",
            " ke depan pintu gerbang kemerdekaan negara indonesia yang merdeka bersatu berd\n",
            "tu untuk membentuk suatu pemerintah negara indonesia yang melindungi segenap b\n",
            "aan indonesia itu dalam suatu dasar negara indonesia yang terbentuk dalam suat\n",
            " yang terbentuk dalam suatu susunan negara republik indonesia yang berkedaulat\n",
            "b i bentuk dan kedaulatan pasal 1 1 negara indonesia ialah negara kesatuan yan\n",
            "an pasal 1 1 negara indonesia ialah negara kesatuan yang berbentuk republik 2 \n",
            " sekali dalam lima tahun di ibukota negara 3 segala putusan majelis permusyawa\n",
            "kan dasar dan besar dari ada haluan negara bab iii kekuasaan pemerintah negara\n",
            "negara bab iii kekuasaan pemerintah negara pasal 4 1 presiden republik indones\n",
            "at perdamaian dan perjanjian dengan negara lain pasal 12 presiden menyatakan k\n",
            "dan konsul 2 presiden menerima duta negara lain pasal 14 presiden memberi gras\n",
            "kepada pemerintah bab v kementerian negara pasal 17 1 presiden dibantu oleh ne\n",
            "ra pasal 17 1 presiden dibantu oleh negara 2 itu diangkat dan diperhentikan ol\n",
            "yawaratan dalam sistem pemerintahan negara dan dalam yang bersifat istimewa ba\n",
            "lalu 2 segala pajak untuk keperluan negara berdasarkan 3 macam dan harga mata \n",
            "ng ditetapkan dengan 4 hal keuangan negara selanjutnya diatur dengan 5 untuk m\n",
            "ksa tanggung jawab tentang keuangan negara diadakan suatu badan pemeriksa keua\n",
            "hakim ditetapkan dengan bab x warga negara pasal 26 1 yang menjadi warga negar\n",
            "egara pasal 26 1 yang menjadi warga negara ialah bangsa indonesia asli dan ban\n",
            " yang disahkan dengan sebagai warga negara 2 yang mengenai kewarganegaraan dit\n",
            "pkan dengan pasal 27 1 segala warga negara bersamaan kedudukannya dalam hukum \n",
            "dengan tidak ada kecualinya 2 warga negara berhak atas pekerjaan dan penghidup\n",
            "pkan dengan bab xi agama pasal 29 1 negara berdasar atas ketuhanan yang maha e\n",
            "asar atas ketuhanan yang maha esa 2 negara menjamin kemerdekaan penduduk untuk\n"
          ],
          "name": "stdout"
        }
      ]
    },
    {
      "cell_type": "markdown",
      "metadata": {
        "id": "_J_RMDz7ZXJi"
      },
      "source": [
        "## Collocations: Kata-kata yang sering muncul bersamaan"
      ]
    },
    {
      "cell_type": "code",
      "metadata": {
        "colab": {
          "base_uri": "https://localhost:8080/"
        },
        "id": "MTgZa6EqZYUp",
        "outputId": "9941e879-a990-4a39-ebf7-da648fccf1d2"
      },
      "source": [
        "# Mencari dua kata yang sering muncul bersama\n",
        "uud45_nltk.collocations()"
      ],
      "execution_count": null,
      "outputs": [
        {
          "output_type": "stream",
          "text": [
            "dewan perwakilan; perwakilan rakyat; majelis permusyawaratan;\n",
            "permusyawaratan rakyat; berdasar atas; ditetapkan dengan; oleh karena;\n",
            "republik indonesia; telah jelas; wakil presiden; warga negara;\n",
            "keadilan sosial; persetujuan dewan; maha esa; pertimbangan agung; akan\n",
            "tetapi; hanya memuat; berhubung dengan; dari pada; bertanggung jawab\n"
          ],
          "name": "stdout"
        }
      ]
    },
    {
      "cell_type": "markdown",
      "metadata": {
        "id": "XMdSlUKeZbsr"
      },
      "source": [
        "## Lexical Dispersion plot: Sebaran kata dalam teks/dokumen"
      ]
    },
    {
      "cell_type": "code",
      "metadata": {
        "colab": {
          "base_uri": "https://localhost:8080/",
          "height": 295
        },
        "id": "J7oixro9ZbGS",
        "outputId": "5edb3e04-ab18-45b5-dbc8-03fc75edb0d6"
      },
      "source": [
        "# Mencari tahu sebaran kata dalam teks.\n",
        "# Tiap garis menggambarkan kata\n",
        "# Tiap baris menggambarkan keseluruhan kata (dari awal sampai akhir)\n",
        "uud45_nltk.dispersion_plot([\"dasar\", \"negara\", \"presiden\", \"rakyat\", \"pasal\"])"
      ],
      "execution_count": null,
      "outputs": [
        {
          "output_type": "display_data",
          "data": {
            "image/png": "[encoded data removed]",
            "text/plain": [
              "<Figure size 432x288 with 1 Axes>"
            ]
          },
          "metadata": {
            "needs_background": "light"
          }
        }
      ]
    },
    {
      "cell_type": "markdown",
      "metadata": {
        "id": "AYYctuO0Zhll"
      },
      "source": [
        "## Frekuensi Kata"
      ]
    },
    {
      "cell_type": "code",
      "metadata": {
        "colab": {
          "base_uri": "https://localhost:8080/",
          "height": 314
        },
        "id": "DbpoMawtZjDR",
        "outputId": "46575670-6d10-41eb-b86e-464ecdb02cf8"
      },
      "source": [
        "# UUD45 sebelum amandemen\n",
        "uud45_freq = nltk.FreqDist(uud45_tokens)\n",
        "# Tampilkan 10 kata teratas yang sering digunakan.\n",
        "uud45_freq.plot(10)"
      ],
      "execution_count": null,
      "outputs": [
        {
          "output_type": "display_data",
          "data": {
            "image/png": "[encoded data removed]",
            "text/plain": [
              "<Figure size 432x288 with 1 Axes>"
            ]
          },
          "metadata": {
            "needs_background": "light"
          }
        }
      ]
    },
    {
      "cell_type": "markdown",
      "metadata": {
        "id": "zIVErw4323sJ"
      },
      "source": [
        "# 2 - Analisis Sentimen dengan Scikit-Learn"
      ]
    },
    {
      "cell_type": "markdown",
      "metadata": {
        "id": "1TwYviw23HC5"
      },
      "source": [
        "## Data Preparation\n",
        "Persiapkan dahulu data yang akan kamu gunakan, periksa apakah terdapat null values atau tidak."
      ]
    },
    {
      "cell_type": "code",
      "metadata": {
        "colab": {
          "base_uri": "https://localhost:8080/"
        },
        "id": "zbbytrHD1Gq-",
        "outputId": "7959c500-128e-4c28-e74d-a816360d8562"
      },
      "source": [
        "review_file = \"/content/Data-NLP-Bahasa-Indonesia/review_hotel.csv\"\n",
        "\n",
        "review_df = pd.read_csv(review_file)\n",
        "review_df.info()"
      ],
      "execution_count": null,
      "outputs": [
        {
          "output_type": "stream",
          "text": [
            "<class 'pandas.core.frame.DataFrame'>\n",
            "RangeIndex: 14856 entries, 0 to 14855\n",
            "Data columns (total 3 columns):\n",
            " #   Column       Non-Null Count  Dtype \n",
            "---  ------       --------------  ----- \n",
            " 0   review_id    14856 non-null  object\n",
            " 1   review_text  14856 non-null  object\n",
            " 2   category     14856 non-null  int64 \n",
            "dtypes: int64(1), object(2)\n",
            "memory usage: 348.3+ KB\n"
          ],
          "name": "stdout"
        }
      ]
    },
    {
      "cell_type": "markdown",
      "metadata": {
        "id": "TC5SgAtfCvd8"
      },
      "source": [
        "Lalu, mulai dengan praproses teks untuk menyederhanakan teks supaya bisa lebih mudah untuk dipakai dalam analisis atau prediksi"
      ]
    },
    {
      "cell_type": "code",
      "metadata": {
        "id": "Plnq9uxb1MPf"
      },
      "source": [
        "def text_preprocessing(text):\n",
        "    # Lowercasing\n",
        "    text = text.lower()\n",
        "\n",
        "    # Punctuation Removal\n",
        "    table = text.maketrans(\"\", \"\", string.punctuation)\n",
        "    text = text.translate(table)\n",
        "\n",
        "    return text"
      ],
      "execution_count": null,
      "outputs": []
    },
    {
      "cell_type": "code",
      "metadata": {
        "id": "PHh2-bsO2Pqn"
      },
      "source": [
        "review_df[\"preprocessed_text\"] = review_df[\"review_text\"].map(text_preprocessing)"
      ],
      "execution_count": null,
      "outputs": []
    },
    {
      "cell_type": "code",
      "metadata": {
        "colab": {
          "base_uri": "https://localhost:8080/",
          "height": 276
        },
        "id": "rwN8t7Qz2QEI",
        "outputId": "9baecb14-46bb-4d83-f62c-00978b1dc341"
      },
      "source": [
        "review_df.head(5)"
      ],
      "execution_count": null,
      "outputs": [
        {
          "output_type": "execute_result",
          "data": {
            "text/html": [
              "<div>\n",
              "<style scoped>\n",
              "    .dataframe tbody tr th:only-of-type {\n",
              "        vertical-align: middle;\n",
              "    }\n",
              "\n",
              "    .dataframe tbody tr th {\n",
              "        vertical-align: top;\n",
              "    }\n",
              "\n",
              "    .dataframe thead th {\n",
              "        text-align: right;\n",
              "    }\n",
              "</style>\n",
              "<table border=\"1\" class=\"dataframe\">\n",
              "  <thead>\n",
              "    <tr style=\"text-align: right;\">\n",
              "      <th></th>\n",
              "      <th>review_id</th>\n",
              "      <th>review_text</th>\n",
              "      <th>category</th>\n",
              "      <th>preprocessed_text</th>\n",
              "    </tr>\n",
              "  </thead>\n",
              "  <tbody>\n",
              "    <tr>\n",
              "      <th>0</th>\n",
              "      <td>0fc651bfdd38a3b4ba19ef9d0d1e92e3</td>\n",
              "      <td>Penginapannya rapi, bersih, suasana tenang, pe...</td>\n",
              "      <td>1</td>\n",
              "      <td>penginapannya rapi bersih suasana tenang pelay...</td>\n",
              "    </tr>\n",
              "    <tr>\n",
              "      <th>1</th>\n",
              "      <td>7d8cb2e465c5602e51c1ba8710e8ff16</td>\n",
              "      <td>wifi tidak sampai kamar, tidak tersedia heater...</td>\n",
              "      <td>0</td>\n",
              "      <td>wifi tidak sampai kamar tidak tersedia heater ...</td>\n",
              "    </tr>\n",
              "    <tr>\n",
              "      <th>2</th>\n",
              "      <td>1f4447c73e5e1aac462d05b0ecbd5a55</td>\n",
              "      <td>Lantai kamar mandi kotor, bau, dan seperti sdh...</td>\n",
              "      <td>0</td>\n",
              "      <td>lantai kamar mandi kotor bau dan seperti sdh j...</td>\n",
              "    </tr>\n",
              "    <tr>\n",
              "      <th>3</th>\n",
              "      <td>b9aefbfb0debbfff43f8b268c82b43c0</td>\n",
              "      <td>Wc jorok.. Kasur tidak dibersihkan,, handuk ti...</td>\n",
              "      <td>0</td>\n",
              "      <td>wc jorok kasur tidak dibersihkan handuk tidak ...</td>\n",
              "    </tr>\n",
              "    <tr>\n",
              "      <th>4</th>\n",
              "      <td>e2afef18bd695fae43d4d53b8c547bd4</td>\n",
              "      <td>bocor lagi</td>\n",
              "      <td>0</td>\n",
              "      <td>bocor lagi</td>\n",
              "    </tr>\n",
              "  </tbody>\n",
              "</table>\n",
              "</div>"
            ],
            "text/plain": [
              "                          review_id  ...                                  preprocessed_text\n",
              "0  0fc651bfdd38a3b4ba19ef9d0d1e92e3  ...  penginapannya rapi bersih suasana tenang pelay...\n",
              "1  7d8cb2e465c5602e51c1ba8710e8ff16  ...  wifi tidak sampai kamar tidak tersedia heater ...\n",
              "2  1f4447c73e5e1aac462d05b0ecbd5a55  ...  lantai kamar mandi kotor bau dan seperti sdh j...\n",
              "3  b9aefbfb0debbfff43f8b268c82b43c0  ...  wc jorok kasur tidak dibersihkan handuk tidak ...\n",
              "4  e2afef18bd695fae43d4d53b8c547bd4  ...                                         bocor lagi\n",
              "\n",
              "[5 rows x 4 columns]"
            ]
          },
          "metadata": {},
          "execution_count": 20
        }
      ]
    },
    {
      "cell_type": "code",
      "metadata": {
        "colab": {
          "base_uri": "https://localhost:8080/"
        },
        "id": "z3SL8y5v7Uhw",
        "outputId": "9007740d-87c1-43a1-80d0-8c2decd23082"
      },
      "source": [
        "# Cek Kategori Data\n",
        "review_df[\"category\"].value_counts()"
      ],
      "execution_count": null,
      "outputs": [
        {
          "output_type": "execute_result",
          "data": {
            "text/plain": [
              "0    12839\n",
              "1     2017\n",
              "Name: category, dtype: int64"
            ]
          },
          "metadata": {},
          "execution_count": 21
        }
      ]
    },
    {
      "cell_type": "markdown",
      "metadata": {
        "id": "S4mNdDL-3KsI"
      },
      "source": [
        "## Representasi Teks\n",
        "Teks yang sudah bersih tadinya akan diubah ke bentuk yang bisa dicerna oleh komputer"
      ]
    },
    {
      "cell_type": "code",
      "metadata": {
        "colab": {
          "base_uri": "https://localhost:8080/"
        },
        "id": "0JsMtnZr1Rg9",
        "outputId": "44df6a66-aaac-4dc5-ee07-1b4d17c98eec"
      },
      "source": [
        "review_text = review_df[\"preprocessed_text\"].values\n",
        "vect = CountVectorizer()\n",
        "\n",
        "# Gunakan kode ini jika ingin melakukan stopwords removal\n",
        "# vect = CountVectorizer(stop_words=stops)\n",
        "\n",
        "# Membuat BoW\n",
        "vect.fit(review_text)\n",
        "bow = vect.transform(review_text)\n",
        "\n",
        "bow"
      ],
      "execution_count": null,
      "outputs": [
        {
          "output_type": "execute_result",
          "data": {
            "text/plain": [
              "<14856x16898 sparse matrix of type '<class 'numpy.int64'>'\n",
              "\twith 214617 stored elements in Compressed Sparse Row format>"
            ]
          },
          "metadata": {},
          "execution_count": 22
        }
      ]
    },
    {
      "cell_type": "code",
      "metadata": {
        "colab": {
          "base_uri": "https://localhost:8080/"
        },
        "id": "ABWrLwnu3lYu",
        "outputId": "59fafa15-f651-48bb-e85a-ee7ff4a53392"
      },
      "source": [
        "bow.toarray()"
      ],
      "execution_count": null,
      "outputs": [
        {
          "output_type": "execute_result",
          "data": {
            "text/plain": [
              "array([[0, 0, 0, ..., 0, 0, 0],\n",
              "       [0, 0, 0, ..., 0, 0, 0],\n",
              "       [0, 0, 0, ..., 0, 0, 0],\n",
              "       ...,\n",
              "       [0, 0, 0, ..., 0, 0, 0],\n",
              "       [0, 0, 0, ..., 0, 0, 0],\n",
              "       [0, 0, 0, ..., 0, 0, 0]])"
            ]
          },
          "metadata": {},
          "execution_count": 48
        }
      ]
    },
    {
      "cell_type": "markdown",
      "metadata": {
        "id": "w1PlUbV53OJa"
      },
      "source": [
        "## Menentukan Input dan Output Data"
      ]
    },
    {
      "cell_type": "code",
      "metadata": {
        "id": "Ihs90mlO2nMk"
      },
      "source": [
        "# Data utuh\n",
        "X_full, y_full = bow, review_df[\"category\"].values\n",
        "\n",
        "# Data yang terpisah: train dan test\n",
        "X_train, X_test, y_train, y_test = train_test_split(X_full, y_full)"
      ],
      "execution_count": null,
      "outputs": []
    },
    {
      "cell_type": "markdown",
      "metadata": {
        "id": "g0LkNVU23RcV"
      },
      "source": [
        "## Pemodelan Machine Learning"
      ]
    },
    {
      "cell_type": "code",
      "metadata": {
        "colab": {
          "base_uri": "https://localhost:8080/"
        },
        "id": "jgxZDx7f1V_l",
        "outputId": "7339e8a9-9978-4086-9158-74f6d013d540"
      },
      "source": [
        "# Fit data train ke dalam model\n",
        "logres = LogisticRegression()\n",
        "logres.fit(X_train, y_train)"
      ],
      "execution_count": null,
      "outputs": [
        {
          "output_type": "execute_result",
          "data": {
            "text/plain": [
              "LogisticRegression(C=1.0, class_weight=None, dual=False, fit_intercept=True,\n",
              "                   intercept_scaling=1, l1_ratio=None, max_iter=100,\n",
              "                   multi_class='auto', n_jobs=None, penalty='l2',\n",
              "                   random_state=None, solver='lbfgs', tol=0.0001, verbose=0,\n",
              "                   warm_start=False)"
            ]
          },
          "metadata": {},
          "execution_count": 24
        }
      ]
    },
    {
      "cell_type": "code",
      "metadata": {
        "colab": {
          "base_uri": "https://localhost:8080/"
        },
        "id": "Fst2xDTS5Vlt",
        "outputId": "117dac7e-d484-48b8-8a71-05e75daa4cae"
      },
      "source": [
        "# Cek skor akurasi\n",
        "logres.score(X_test, y_test)"
      ],
      "execution_count": null,
      "outputs": [
        {
          "output_type": "execute_result",
          "data": {
            "text/plain": [
              "0.9364566505115778"
            ]
          },
          "metadata": {},
          "execution_count": 25
        }
      ]
    },
    {
      "cell_type": "markdown",
      "metadata": {
        "id": "h8nKCyKJ5tLl"
      },
      "source": [
        "Jika akurasinya bagus, maka model ini akan kita pakai dan akan kita fit dengan data yang penuh."
      ]
    },
    {
      "cell_type": "code",
      "metadata": {
        "colab": {
          "base_uri": "https://localhost:8080/"
        },
        "id": "tjqd8cWG568I",
        "outputId": "e84a1652-9bbd-4677-923f-0334865a57f5"
      },
      "source": [
        "logres.fit(X_full, y_full)"
      ],
      "execution_count": null,
      "outputs": [
        {
          "output_type": "execute_result",
          "data": {
            "text/plain": [
              "LogisticRegression(C=1.0, class_weight=None, dual=False, fit_intercept=True,\n",
              "                   intercept_scaling=1, l1_ratio=None, max_iter=100,\n",
              "                   multi_class='auto', n_jobs=None, penalty='l2',\n",
              "                   random_state=None, solver='lbfgs', tol=0.0001, verbose=0,\n",
              "                   warm_start=False)"
            ]
          },
          "metadata": {},
          "execution_count": 26
        }
      ]
    },
    {
      "cell_type": "markdown",
      "metadata": {
        "id": "yb6TTyNv3VrS"
      },
      "source": [
        "## Prediksi"
      ]
    },
    {
      "cell_type": "code",
      "metadata": {
        "colab": {
          "base_uri": "https://localhost:8080/"
        },
        "id": "S4OysmIY1Yd8",
        "outputId": "22ed2381-7ca8-47b0-8efa-aa4205f17c8e"
      },
      "source": [
        "# Prediksi review pelanggan\n",
        "contoh_review = [\"tempatnya kurang nyaman\"]\n",
        "contoh_bow = vect.transform(contoh_review)\n",
        "\n",
        "# Akan muncul 0 jika sentimen negatif\n",
        "#      muncul 1 jika sentimen positif\n",
        "\n",
        "# Jika hasilnya kurang tepat, teman-teman bisa coba\n",
        "# menggunakan stopwords dalam prosesnya.\n",
        "logres.predict(contoh_bow)"
      ],
      "execution_count": null,
      "outputs": [
        {
          "output_type": "execute_result",
          "data": {
            "text/plain": [
              "array([0])"
            ]
          },
          "metadata": {},
          "execution_count": 27
        }
      ]
    },
    {
      "cell_type": "markdown",
      "metadata": {
        "id": "WSXf4zXe4Tjc"
      },
      "source": [
        "## Membuat Interface\n",
        "Kita bisa membuat interface untuk aplikasi NLP dengan menggunakan Gradio ML, sebuah library untuk membuat UI yang bisa disesuaikan dengan aplikasi yang kamu buat. Gradio ML ini bisa menjalankan code machine learning kamu supaya orang lain juga bisa mencobanya.\n",
        "\n",
        "Cek disini untuk lebih jelasnya: https://gradio.app/"
      ]
    },
    {
      "cell_type": "code",
      "metadata": {
        "id": "SNmckP5J6u8i"
      },
      "source": [
        "# Kita perlu memberikan keterangan pada label 0 dan 1\n",
        "sentiment_map = {0: \"Negative\", 1: \"Positive\"}"
      ],
      "execution_count": null,
      "outputs": []
    },
    {
      "cell_type": "code",
      "metadata": {
        "colab": {
          "base_uri": "https://localhost:8080/",
          "height": 36
        },
        "id": "mwK8P8DY4Vza",
        "outputId": "c1fcdad0-ce35-4e29-9ad9-db1ffcacd339"
      },
      "source": [
        "# Buat fungsi utama yang akan dijalankan\n",
        "def predict_sentiment(review):\n",
        "\n",
        "    review_cleaned = text_preprocessing(review)\n",
        "    review_representation = vect.transform([review_cleaned])\n",
        "\n",
        "    prediction = int( logres.predict(review_representation) )\n",
        "    sentiment = sentiment_map.get(prediction)\n",
        "\n",
        "    return sentiment\n",
        "\n",
        "predict_sentiment(\"aku tidak suka\")"
      ],
      "execution_count": null,
      "outputs": [
        {
          "output_type": "execute_result",
          "data": {
            "application/vnd.google.colaboratory.intrinsic+json": {
              "type": "string"
            },
            "text/plain": [
              "'Negative'"
            ]
          },
          "metadata": {},
          "execution_count": 50
        }
      ]
    },
    {
      "cell_type": "code",
      "metadata": {
        "colab": {
          "base_uri": "https://localhost:8080/",
          "height": 669
        },
        "id": "KdbXMkPJ7Efb",
        "outputId": "75baad4a-752a-462d-bfd7-66acafa4a84e"
      },
      "source": [
        "# Pembuatan Interface bisa dilakukan dengan memasukkan\n",
        "# tiga keyword argumens pada class gr.Interface\n",
        "# yaitu fn, inputs, dan outputs\n",
        "\n",
        "iface = gr.Interface(\n",
        "    fn=predict_sentiment,\n",
        "    inputs=gr.inputs.Textbox(lines=2, placeholder=\"Your reviews about this place\"),\n",
        "    outputs=\"text\")\n",
        "iface.launch()"
      ],
      "execution_count": null,
      "outputs": [
        {
          "output_type": "stream",
          "text": [
            "Colab notebook detected. To show errors in colab notebook, set `debug=True` in `launch()`\n",
            "This share link will expire in 24 hours. If you need a permanent link, visit: https://gradio.app/introducing-hosted (NEW!)\n",
            "Running on External URL: https://46734.gradio.app\n",
            "Interface loading below...\n"
          ],
          "name": "stdout"
        },
        {
          "output_type": "display_data",
          "data": {
            "text/html": [
              "\n",
              "        <iframe\n",
              "            width=\"900\"\n",
              "            height=\"500\"\n",
              "            src=\"https://46734.gradio.app\"\n",
              "            frameborder=\"0\"\n",
              "            allowfullscreen\n",
              "        ></iframe>\n",
              "        "
            ],
            "text/plain": [
              "<IPython.lib.display.IFrame at 0x7fa1be8ffb50>"
            ]
          },
          "metadata": {}
        },
        {
          "output_type": "execute_result",
          "data": {
            "text/plain": [
              "(<Flask 'gradio.networking'>,\n",
              " 'http://127.0.0.1:7860/',\n",
              " 'https://46734.gradio.app')"
            ]
          },
          "metadata": {},
          "execution_count": 30
        }
      ]
    },
    {
      "cell_type": "markdown",
      "metadata": {
        "id": "g0wdL6Xi-w4z"
      },
      "source": [
        "# 3 - Analisis Sentimen dengan Deep Learning\n",
        "Metode deep learning merupakan versi rumit dari model machine learning biasa. Kata \"Deep\" disini bukan berarti"
      ]
    },
    {
      "cell_type": "code",
      "metadata": {
        "id": "LwG-KT7U-z9q"
      },
      "source": [
        "# Buat variabel untuk label\n",
        "category = review_df[\"category\"]"
      ],
      "execution_count": null,
      "outputs": []
    },
    {
      "cell_type": "markdown",
      "metadata": {
        "id": "L2UhCOTOAbDX"
      },
      "source": [
        "## Tentukan Parameter"
      ]
    },
    {
      "cell_type": "code",
      "metadata": {
        "id": "5aqGaR4yAeXG"
      },
      "source": [
        "max_features = 10000      # Jumlah kosakata\n",
        "embedding_dim = 64        # Jumlah dimensi dalam word embedding\n",
        "sequence_length = 100     # Maksimal panjang kalimat"
      ],
      "execution_count": null,
      "outputs": []
    },
    {
      "cell_type": "markdown",
      "metadata": {
        "id": "xAqx-a_1AIpI"
      },
      "source": [
        "## Ubah teks ke data timeseries/berurutan\n",
        "Neural network memerlukan data yang berbentuk tensor, tensor adalah wadah untuk menyimpan data. Jika kamu kenal yang namanya matriks, maka itu adalah tensor 2 dimensi. Bisa dikatakan kalau tensor adalah bentuk umum dari matriks yang dapat terdiri dari berbagai dimensi (0, 1, 2, 3, dst.).\n",
        "\n",
        "Disini teks akan diubah ke tensor 3D (batch, length, features), tensor 3D terbentuk dari kumpulan tensor 2D, begitu juga seterusnya."
      ]
    },
    {
      "cell_type": "code",
      "metadata": {
        "colab": {
          "base_uri": "https://localhost:8080/"
        },
        "id": "2aF8h5ar_TLp",
        "outputId": "4a370642-d94a-472e-e3a1-d66c8c855c2d"
      },
      "source": [
        "token = Tokenizer(num_words=max_features)\n",
        "token.fit_on_texts(review_text)\n",
        "\n",
        "def text_to_sequence(texts):\n",
        "    # Ubah ke data berurutan\n",
        "    review_sequences = token.texts_to_sequences(texts)\n",
        "\n",
        "    # Samakan panjang kalimatnya\n",
        "    review_sequences = pad_sequences(review_sequences, maxlen=sequence_length, padding=\"post\")\n",
        "\n",
        "    return review_sequences\n",
        "\n",
        "review_sequences = text_to_sequence(review_text)\n",
        "\n",
        "review_sequences # Masih (batch, length), dimensi yang terakhir nanti akan dibuat dalam proses modeling"
      ],
      "execution_count": null,
      "outputs": [
        {
          "output_type": "execute_result",
          "data": {
            "text/plain": [
              "array([[1158,  345,   13, ...,    0,    0,    0],\n",
              "       [  41,    2,  112, ...,    0,    0,    0],\n",
              "       [  72,    1,    8, ...,    0,    0,    0],\n",
              "       ...,\n",
              "       [  36,   97,   60, ...,    0,    0,    0],\n",
              "       [ 449,   15,    6, ...,    0,    0,    0],\n",
              "       [ 441,   15,   15, ...,    0,    0,    0]], dtype=int32)"
            ]
          },
          "metadata": {},
          "execution_count": 33
        }
      ]
    },
    {
      "cell_type": "markdown",
      "metadata": {
        "id": "72Zows7hFV2G"
      },
      "source": [
        "Tips:\n",
        "Pembatasan jumlah kosakata biasa dilakukan untuk menghilangkan kata-kata yang jarang dipakai."
      ]
    },
    {
      "cell_type": "markdown",
      "metadata": {
        "id": "1ulqEdJFLRqX"
      },
      "source": [
        "## Membuat Model"
      ]
    },
    {
      "cell_type": "code",
      "metadata": {
        "id": "DXKUT5dGFefd"
      },
      "source": [
        "model = keras.Sequential()\n",
        "\n",
        "# Tentukan ukuran input data\n",
        "model.add( keras.Input(shape=(sequence_length,), dtype=\"int64\") )\n",
        "\n",
        "# Buat layer embedding untuk mengubah representasi kosakata menjadi vektor n-dimensi\n",
        "model.add( keras.layers.Embedding(max_features, embedding_dim))\n",
        "\n",
        "# Buat layer LSTM untuk mencari representasi yang berguna dalam data\n",
        "# dengan mempertimbangkan urutan kata\n",
        "model.add( keras.layers.LSTM(32) )\n",
        "\n",
        "# Buat layer terakhir yang akan menentukan output dari model\n",
        "model.add( keras.layers.Dense(1, activation=\"sigmoid\") )\n",
        "\n",
        "# Tentukan loss, optimizer dan metrik yang akan digunakan\n",
        "model.compile(loss=\"binary_crossentropy\",\n",
        "              optimizer=\"adam\",\n",
        "              metrics=[\"acc\"])"
      ],
      "execution_count": null,
      "outputs": []
    },
    {
      "cell_type": "code",
      "metadata": {
        "colab": {
          "base_uri": "https://localhost:8080/"
        },
        "id": "yCLC585ESy2d",
        "outputId": "202e03a2-6273-41c1-ac6b-918b2e4dfade"
      },
      "source": [
        "# Melihat arsitektur model\n",
        "model.summary()"
      ],
      "execution_count": null,
      "outputs": [
        {
          "output_type": "stream",
          "text": [
            "Model: \"sequential\"\n",
            "_________________________________________________________________\n",
            "Layer (type)                 Output Shape              Param #   \n",
            "=================================================================\n",
            "embedding (Embedding)        (None, 100, 64)           640000    \n",
            "_________________________________________________________________\n",
            "lstm (LSTM)                  (None, 32)                12416     \n",
            "_________________________________________________________________\n",
            "dense (Dense)                (None, 1)                 33        \n",
            "=================================================================\n",
            "Total params: 652,449\n",
            "Trainable params: 652,449\n",
            "Non-trainable params: 0\n",
            "_________________________________________________________________\n"
          ],
          "name": "stdout"
        }
      ]
    },
    {
      "cell_type": "code",
      "metadata": {
        "colab": {
          "base_uri": "https://localhost:8080/",
          "height": 369
        },
        "id": "sF1gJQ2sSKmA",
        "outputId": "eecbbdc0-d11f-42a3-a292-fbf6f30dfb77"
      },
      "source": [
        "# Melihat Diagram Model\n",
        "keras.utils.vis_utils.plot_model(model, \"model.png\")"
      ],
      "execution_count": null,
      "outputs": [
        {
          "output_type": "execute_result",
          "data": {
            "image/png": "[encoded data removed]",
            "text/plain": [
              "<IPython.core.display.Image object>"
            ]
          },
          "metadata": {},
          "execution_count": 36
        }
      ]
    },
    {
      "cell_type": "markdown",
      "metadata": {
        "id": "3aEm2xpaTQs6"
      },
      "source": [
        "## Melatih Model"
      ]
    },
    {
      "cell_type": "code",
      "metadata": {
        "colab": {
          "base_uri": "https://localhost:8080/"
        },
        "id": "JUPAK004O2Cu",
        "outputId": "1d1e2db2-70bd-494a-e738-0150c899aa59"
      },
      "source": [
        "model.fit(x=review_sequences,\n",
        "          y=category,\n",
        "          batch_size=32,\n",
        "          epochs=1,\n",
        "          validation_split=0.2)"
      ],
      "execution_count": null,
      "outputs": [
        {
          "output_type": "stream",
          "text": [
            "372/372 [==============================] - 24s 58ms/step - loss: 0.4098 - acc: 0.8613 - val_loss: 0.3748 - val_acc: 0.8758\n"
          ],
          "name": "stdout"
        },
        {
          "output_type": "execute_result",
          "data": {
            "text/plain": [
              "<keras.callbacks.History at 0x7fa1bb37a490>"
            ]
          },
          "metadata": {},
          "execution_count": 37
        }
      ]
    },
    {
      "cell_type": "markdown",
      "metadata": {
        "id": "SO-xZlQ8TTXl"
      },
      "source": [
        "## Prediksi"
      ]
    },
    {
      "cell_type": "code",
      "metadata": {
        "colab": {
          "base_uri": "https://localhost:8080/"
        },
        "id": "DgLQH_SCTUKd",
        "outputId": "bb53c436-1539-4e2a-f87e-6fd5da843b14"
      },
      "source": [
        "contoh_review = [\"kasur belum diganti, bau sekali\"]\n",
        "\n",
        "contoh_urutan = text_to_sequence(contoh_review)\n",
        "\n",
        "prediksi = model.predict(contoh_urutan) # Probabilitas\n",
        "\n",
        "prediksi.squeeze()  # diatas 0.5 berarti label 1 atau sentimen negatif, begitu juga sebaliknya"
      ],
      "execution_count": null,
      "outputs": [
        {
          "output_type": "execute_result",
          "data": {
            "text/plain": [
              "array(0.12677217, dtype=float32)"
            ]
          },
          "metadata": {},
          "execution_count": 38
        }
      ]
    },
    {
      "cell_type": "markdown",
      "metadata": {
        "id": "ZsxsZZsyWP-A"
      },
      "source": [
        "# 4 - spaCy: Library NLP lanjutan untuk berbagai task NLP\n",
        "spaCY menyediakan berbagai layanan text processing seperti tagging, parsing, NER, text classification dll. dengan pre-trained model yang sudah dalam tahap state of art (level tinggi).\n",
        "\n",
        "Lebih jelasnya bisa di klik [disini](https://spacy.io/usage/linguistic-features)"
      ]
    },
    {
      "cell_type": "markdown",
      "metadata": {
        "id": "SOzwECyTYOOp"
      },
      "source": [
        "## POS Tagging\n",
        "Proses menandai kata dalam teks berdasarkan peran/kelas sintaktik sebuah kata dalam corpus. Biasanya, proses penandaan ini harus disesuaikan dengan definisi dan konteks dalam kalimat.\n",
        "\n"
      ]
    },
    {
      "cell_type": "code",
      "metadata": {
        "colab": {
          "base_uri": "https://localhost:8080/",
          "height": 353
        },
        "id": "Ce3BqcMkWb3V",
        "outputId": "c6383469-eb32-496a-b7a6-9e9d43d70095"
      },
      "source": [
        "nlp = spacy.load(\"en_core_web_sm\")\n",
        "doc_dep = nlp(\"Databangalore Bootcamp is good for learning data science in Indonesia\")\n",
        "\n",
        "displacy.render(doc_dep, style=\"dep\", jupyter=True)"
      ],
      "execution_count": null,
      "outputs": [
        {
          "output_type": "display_data",
          "data": {
            "text/html": [
              "<span class=\"tex2jax_ignore\"><svg xmlns=\"http://www.w3.org/2000/svg\" xmlns:xlink=\"http://www.w3.org/1999/xlink\" xml:lang=\"en\" id=\"a678a43131234b199c07551445b3fcc6-0\" class=\"displacy\" width=\"1800\" height=\"312.0\" direction=\"ltr\" style=\"max-width: none; height: 312.0px; color: #000000; background: #ffffff; font-family: Arial; direction: ltr\">\n",
              "<text class=\"displacy-token\" fill=\"currentColor\" text-anchor=\"middle\" y=\"222.0\">\n",
              "    <tspan class=\"displacy-word\" fill=\"currentColor\" x=\"50\">Databangalore</tspan>\n",
              "    <tspan class=\"displacy-tag\" dy=\"2em\" fill=\"currentColor\" x=\"50\">PROPN</tspan>\n",
              "</text>\n",
              "\n",
              "<text class=\"displacy-token\" fill=\"currentColor\" text-anchor=\"middle\" y=\"222.0\">\n",
              "    <tspan class=\"displacy-word\" fill=\"currentColor\" x=\"225\">Bootcamp</tspan>\n",
              "    <tspan class=\"displacy-tag\" dy=\"2em\" fill=\"currentColor\" x=\"225\">PROPN</tspan>\n",
              "</text>\n",
              "\n",
              "<text class=\"displacy-token\" fill=\"currentColor\" text-anchor=\"middle\" y=\"222.0\">\n",
              "    <tspan class=\"displacy-word\" fill=\"currentColor\" x=\"400\">is</tspan>\n",
              "    <tspan class=\"displacy-tag\" dy=\"2em\" fill=\"currentColor\" x=\"400\">AUX</tspan>\n",
              "</text>\n",
              "\n",
              "<text class=\"displacy-token\" fill=\"currentColor\" text-anchor=\"middle\" y=\"222.0\">\n",
              "    <tspan class=\"displacy-word\" fill=\"currentColor\" x=\"575\">good</tspan>\n",
              "    <tspan class=\"displacy-tag\" dy=\"2em\" fill=\"currentColor\" x=\"575\">ADJ</tspan>\n",
              "</text>\n",
              "\n",
              "<text class=\"displacy-token\" fill=\"currentColor\" text-anchor=\"middle\" y=\"222.0\">\n",
              "    <tspan class=\"displacy-word\" fill=\"currentColor\" x=\"750\">for</tspan>\n",
              "    <tspan class=\"displacy-tag\" dy=\"2em\" fill=\"currentColor\" x=\"750\">ADP</tspan>\n",
              "</text>\n",
              "\n",
              "<text class=\"displacy-token\" fill=\"currentColor\" text-anchor=\"middle\" y=\"222.0\">\n",
              "    <tspan class=\"displacy-word\" fill=\"currentColor\" x=\"925\">learning</tspan>\n",
              "    <tspan class=\"displacy-tag\" dy=\"2em\" fill=\"currentColor\" x=\"925\">VERB</tspan>\n",
              "</text>\n",
              "\n",
              "<text class=\"displacy-token\" fill=\"currentColor\" text-anchor=\"middle\" y=\"222.0\">\n",
              "    <tspan class=\"displacy-word\" fill=\"currentColor\" x=\"1100\">data</tspan>\n",
              "    <tspan class=\"displacy-tag\" dy=\"2em\" fill=\"currentColor\" x=\"1100\">NOUN</tspan>\n",
              "</text>\n",
              "\n",
              "<text class=\"displacy-token\" fill=\"currentColor\" text-anchor=\"middle\" y=\"222.0\">\n",
              "    <tspan class=\"displacy-word\" fill=\"currentColor\" x=\"1275\">science</tspan>\n",
              "    <tspan class=\"displacy-tag\" dy=\"2em\" fill=\"currentColor\" x=\"1275\">NOUN</tspan>\n",
              "</text>\n",
              "\n",
              "<text class=\"displacy-token\" fill=\"currentColor\" text-anchor=\"middle\" y=\"222.0\">\n",
              "    <tspan class=\"displacy-word\" fill=\"currentColor\" x=\"1450\">in</tspan>\n",
              "    <tspan class=\"displacy-tag\" dy=\"2em\" fill=\"currentColor\" x=\"1450\">ADP</tspan>\n",
              "</text>\n",
              "\n",
              "<text class=\"displacy-token\" fill=\"currentColor\" text-anchor=\"middle\" y=\"222.0\">\n",
              "    <tspan class=\"displacy-word\" fill=\"currentColor\" x=\"1625\">Indonesia</tspan>\n",
              "    <tspan class=\"displacy-tag\" dy=\"2em\" fill=\"currentColor\" x=\"1625\">PROPN</tspan>\n",
              "</text>\n",
              "\n",
              "<g class=\"displacy-arrow\">\n",
              "    <path class=\"displacy-arc\" id=\"arrow-a678a43131234b199c07551445b3fcc6-0-0\" stroke-width=\"2px\" d=\"M70,177.0 C70,89.5 220.0,89.5 220.0,177.0\" fill=\"none\" stroke=\"currentColor\"/>\n",
              "    <text dy=\"1.25em\" style=\"font-size: 0.8em; letter-spacing: 1px\">\n",
              "        <textPath xlink:href=\"#arrow-a678a43131234b199c07551445b3fcc6-0-0\" class=\"displacy-label\" startOffset=\"50%\" side=\"left\" fill=\"currentColor\" text-anchor=\"middle\">compound</textPath>\n",
              "    </text>\n",
              "    <path class=\"displacy-arrowhead\" d=\"M70,179.0 L62,167.0 78,167.0\" fill=\"currentColor\"/>\n",
              "</g>\n",
              "\n",
              "<g class=\"displacy-arrow\">\n",
              "    <path class=\"displacy-arc\" id=\"arrow-a678a43131234b199c07551445b3fcc6-0-1\" stroke-width=\"2px\" d=\"M245,177.0 C245,89.5 395.0,89.5 395.0,177.0\" fill=\"none\" stroke=\"currentColor\"/>\n",
              "    <text dy=\"1.25em\" style=\"font-size: 0.8em; letter-spacing: 1px\">\n",
              "        <textPath xlink:href=\"#arrow-a678a43131234b199c07551445b3fcc6-0-1\" class=\"displacy-label\" startOffset=\"50%\" side=\"left\" fill=\"currentColor\" text-anchor=\"middle\">nsubj</textPath>\n",
              "    </text>\n",
              "    <path class=\"displacy-arrowhead\" d=\"M245,179.0 L237,167.0 253,167.0\" fill=\"currentColor\"/>\n",
              "</g>\n",
              "\n",
              "<g class=\"displacy-arrow\">\n",
              "    <path class=\"displacy-arc\" id=\"arrow-a678a43131234b199c07551445b3fcc6-0-2\" stroke-width=\"2px\" d=\"M420,177.0 C420,89.5 570.0,89.5 570.0,177.0\" fill=\"none\" stroke=\"currentColor\"/>\n",
              "    <text dy=\"1.25em\" style=\"font-size: 0.8em; letter-spacing: 1px\">\n",
              "        <textPath xlink:href=\"#arrow-a678a43131234b199c07551445b3fcc6-0-2\" class=\"displacy-label\" startOffset=\"50%\" side=\"left\" fill=\"currentColor\" text-anchor=\"middle\">acomp</textPath>\n",
              "    </text>\n",
              "    <path class=\"displacy-arrowhead\" d=\"M570.0,179.0 L578.0,167.0 562.0,167.0\" fill=\"currentColor\"/>\n",
              "</g>\n",
              "\n",
              "<g class=\"displacy-arrow\">\n",
              "    <path class=\"displacy-arc\" id=\"arrow-a678a43131234b199c07551445b3fcc6-0-3\" stroke-width=\"2px\" d=\"M595,177.0 C595,89.5 745.0,89.5 745.0,177.0\" fill=\"none\" stroke=\"currentColor\"/>\n",
              "    <text dy=\"1.25em\" style=\"font-size: 0.8em; letter-spacing: 1px\">\n",
              "        <textPath xlink:href=\"#arrow-a678a43131234b199c07551445b3fcc6-0-3\" class=\"displacy-label\" startOffset=\"50%\" side=\"left\" fill=\"currentColor\" text-anchor=\"middle\">prep</textPath>\n",
              "    </text>\n",
              "    <path class=\"displacy-arrowhead\" d=\"M745.0,179.0 L753.0,167.0 737.0,167.0\" fill=\"currentColor\"/>\n",
              "</g>\n",
              "\n",
              "<g class=\"displacy-arrow\">\n",
              "    <path class=\"displacy-arc\" id=\"arrow-a678a43131234b199c07551445b3fcc6-0-4\" stroke-width=\"2px\" d=\"M770,177.0 C770,89.5 920.0,89.5 920.0,177.0\" fill=\"none\" stroke=\"currentColor\"/>\n",
              "    <text dy=\"1.25em\" style=\"font-size: 0.8em; letter-spacing: 1px\">\n",
              "        <textPath xlink:href=\"#arrow-a678a43131234b199c07551445b3fcc6-0-4\" class=\"displacy-label\" startOffset=\"50%\" side=\"left\" fill=\"currentColor\" text-anchor=\"middle\">pcomp</textPath>\n",
              "    </text>\n",
              "    <path class=\"displacy-arrowhead\" d=\"M920.0,179.0 L928.0,167.0 912.0,167.0\" fill=\"currentColor\"/>\n",
              "</g>\n",
              "\n",
              "<g class=\"displacy-arrow\">\n",
              "    <path class=\"displacy-arc\" id=\"arrow-a678a43131234b199c07551445b3fcc6-0-5\" stroke-width=\"2px\" d=\"M1120,177.0 C1120,89.5 1270.0,89.5 1270.0,177.0\" fill=\"none\" stroke=\"currentColor\"/>\n",
              "    <text dy=\"1.25em\" style=\"font-size: 0.8em; letter-spacing: 1px\">\n",
              "        <textPath xlink:href=\"#arrow-a678a43131234b199c07551445b3fcc6-0-5\" class=\"displacy-label\" startOffset=\"50%\" side=\"left\" fill=\"currentColor\" text-anchor=\"middle\">compound</textPath>\n",
              "    </text>\n",
              "    <path class=\"displacy-arrowhead\" d=\"M1120,179.0 L1112,167.0 1128,167.0\" fill=\"currentColor\"/>\n",
              "</g>\n",
              "\n",
              "<g class=\"displacy-arrow\">\n",
              "    <path class=\"displacy-arc\" id=\"arrow-a678a43131234b199c07551445b3fcc6-0-6\" stroke-width=\"2px\" d=\"M945,177.0 C945,2.0 1275.0,2.0 1275.0,177.0\" fill=\"none\" stroke=\"currentColor\"/>\n",
              "    <text dy=\"1.25em\" style=\"font-size: 0.8em; letter-spacing: 1px\">\n",
              "        <textPath xlink:href=\"#arrow-a678a43131234b199c07551445b3fcc6-0-6\" class=\"displacy-label\" startOffset=\"50%\" side=\"left\" fill=\"currentColor\" text-anchor=\"middle\">dobj</textPath>\n",
              "    </text>\n",
              "    <path class=\"displacy-arrowhead\" d=\"M1275.0,179.0 L1283.0,167.0 1267.0,167.0\" fill=\"currentColor\"/>\n",
              "</g>\n",
              "\n",
              "<g class=\"displacy-arrow\">\n",
              "    <path class=\"displacy-arc\" id=\"arrow-a678a43131234b199c07551445b3fcc6-0-7\" stroke-width=\"2px\" d=\"M1295,177.0 C1295,89.5 1445.0,89.5 1445.0,177.0\" fill=\"none\" stroke=\"currentColor\"/>\n",
              "    <text dy=\"1.25em\" style=\"font-size: 0.8em; letter-spacing: 1px\">\n",
              "        <textPath xlink:href=\"#arrow-a678a43131234b199c07551445b3fcc6-0-7\" class=\"displacy-label\" startOffset=\"50%\" side=\"left\" fill=\"currentColor\" text-anchor=\"middle\">prep</textPath>\n",
              "    </text>\n",
              "    <path class=\"displacy-arrowhead\" d=\"M1445.0,179.0 L1453.0,167.0 1437.0,167.0\" fill=\"currentColor\"/>\n",
              "</g>\n",
              "\n",
              "<g class=\"displacy-arrow\">\n",
              "    <path class=\"displacy-arc\" id=\"arrow-a678a43131234b199c07551445b3fcc6-0-8\" stroke-width=\"2px\" d=\"M1470,177.0 C1470,89.5 1620.0,89.5 1620.0,177.0\" fill=\"none\" stroke=\"currentColor\"/>\n",
              "    <text dy=\"1.25em\" style=\"font-size: 0.8em; letter-spacing: 1px\">\n",
              "        <textPath xlink:href=\"#arrow-a678a43131234b199c07551445b3fcc6-0-8\" class=\"displacy-label\" startOffset=\"50%\" side=\"left\" fill=\"currentColor\" text-anchor=\"middle\">pobj</textPath>\n",
              "    </text>\n",
              "    <path class=\"displacy-arrowhead\" d=\"M1620.0,179.0 L1628.0,167.0 1612.0,167.0\" fill=\"currentColor\"/>\n",
              "</g>\n",
              "</svg></span>"
            ],
            "text/plain": [
              "<IPython.core.display.HTML object>"
            ]
          },
          "metadata": {}
        }
      ]
    },
    {
      "cell_type": "markdown",
      "metadata": {
        "id": "JUTicXjshjq3"
      },
      "source": [
        "Kita lihat dalam bentuk tabel"
      ]
    },
    {
      "cell_type": "code",
      "metadata": {
        "colab": {
          "base_uri": "https://localhost:8080/",
          "height": 363
        },
        "id": "BbJ0xfaRcyDo",
        "outputId": "8c8120a5-ba2a-4d97-aa5e-4812746e521c"
      },
      "source": [
        "fields = [\"text\", \"lemma\", \"pos\", \"tag\", \"dep\", \"shape\", \"alpha\", \"stop\"]\n",
        "\n",
        "with open(\"dep.csv\", \"w\") as dep_csv:\n",
        "    # Masukkan field/kolom dari csv\n",
        "    dep_csv.write(\",\".join(fields) + \"\\n\")\n",
        "\n",
        "    # Print hasil analisis ke dalam file csv\n",
        "    for token in doc_dep:\n",
        "        print(token.text, token.lemma_, token.pos_, token.tag_, token.dep_,\n",
        "              token.shape_, token.is_alpha, token.is_stop,\n",
        "              file=dep_csv, sep=\",\", end=\"\\n\")\n",
        "\n",
        "# Buka file csv yang sudah dibuat\n",
        "dep_df = pd.read_csv(\"dep.csv\")\n",
        "dep_df"
      ],
      "execution_count": null,
      "outputs": [
        {
          "output_type": "execute_result",
          "data": {
            "text/html": [
              "<div>\n",
              "<style scoped>\n",
              "    .dataframe tbody tr th:only-of-type {\n",
              "        vertical-align: middle;\n",
              "    }\n",
              "\n",
              "    .dataframe tbody tr th {\n",
              "        vertical-align: top;\n",
              "    }\n",
              "\n",
              "    .dataframe thead th {\n",
              "        text-align: right;\n",
              "    }\n",
              "</style>\n",
              "<table border=\"1\" class=\"dataframe\">\n",
              "  <thead>\n",
              "    <tr style=\"text-align: right;\">\n",
              "      <th></th>\n",
              "      <th>text</th>\n",
              "      <th>lemma</th>\n",
              "      <th>pos</th>\n",
              "      <th>tag</th>\n",
              "      <th>dep</th>\n",
              "      <th>shape</th>\n",
              "      <th>alpha</th>\n",
              "      <th>stop</th>\n",
              "    </tr>\n",
              "  </thead>\n",
              "  <tbody>\n",
              "    <tr>\n",
              "      <th>0</th>\n",
              "      <td>Databangalore</td>\n",
              "      <td>Databangalore</td>\n",
              "      <td>PROPN</td>\n",
              "      <td>NNP</td>\n",
              "      <td>compound</td>\n",
              "      <td>Xxxxx</td>\n",
              "      <td>True</td>\n",
              "      <td>False</td>\n",
              "    </tr>\n",
              "    <tr>\n",
              "      <th>1</th>\n",
              "      <td>Bootcamp</td>\n",
              "      <td>Bootcamp</td>\n",
              "      <td>PROPN</td>\n",
              "      <td>NNP</td>\n",
              "      <td>nsubj</td>\n",
              "      <td>Xxxxx</td>\n",
              "      <td>True</td>\n",
              "      <td>False</td>\n",
              "    </tr>\n",
              "    <tr>\n",
              "      <th>2</th>\n",
              "      <td>is</td>\n",
              "      <td>be</td>\n",
              "      <td>AUX</td>\n",
              "      <td>VBZ</td>\n",
              "      <td>ROOT</td>\n",
              "      <td>xx</td>\n",
              "      <td>True</td>\n",
              "      <td>True</td>\n",
              "    </tr>\n",
              "    <tr>\n",
              "      <th>3</th>\n",
              "      <td>good</td>\n",
              "      <td>good</td>\n",
              "      <td>ADJ</td>\n",
              "      <td>JJ</td>\n",
              "      <td>acomp</td>\n",
              "      <td>xxxx</td>\n",
              "      <td>True</td>\n",
              "      <td>False</td>\n",
              "    </tr>\n",
              "    <tr>\n",
              "      <th>4</th>\n",
              "      <td>for</td>\n",
              "      <td>for</td>\n",
              "      <td>ADP</td>\n",
              "      <td>IN</td>\n",
              "      <td>prep</td>\n",
              "      <td>xxx</td>\n",
              "      <td>True</td>\n",
              "      <td>True</td>\n",
              "    </tr>\n",
              "    <tr>\n",
              "      <th>5</th>\n",
              "      <td>learning</td>\n",
              "      <td>learn</td>\n",
              "      <td>VERB</td>\n",
              "      <td>VBG</td>\n",
              "      <td>pcomp</td>\n",
              "      <td>xxxx</td>\n",
              "      <td>True</td>\n",
              "      <td>False</td>\n",
              "    </tr>\n",
              "    <tr>\n",
              "      <th>6</th>\n",
              "      <td>data</td>\n",
              "      <td>data</td>\n",
              "      <td>NOUN</td>\n",
              "      <td>NN</td>\n",
              "      <td>compound</td>\n",
              "      <td>xxxx</td>\n",
              "      <td>True</td>\n",
              "      <td>False</td>\n",
              "    </tr>\n",
              "    <tr>\n",
              "      <th>7</th>\n",
              "      <td>science</td>\n",
              "      <td>science</td>\n",
              "      <td>NOUN</td>\n",
              "      <td>NN</td>\n",
              "      <td>dobj</td>\n",
              "      <td>xxxx</td>\n",
              "      <td>True</td>\n",
              "      <td>False</td>\n",
              "    </tr>\n",
              "    <tr>\n",
              "      <th>8</th>\n",
              "      <td>in</td>\n",
              "      <td>in</td>\n",
              "      <td>ADP</td>\n",
              "      <td>IN</td>\n",
              "      <td>prep</td>\n",
              "      <td>xx</td>\n",
              "      <td>True</td>\n",
              "      <td>True</td>\n",
              "    </tr>\n",
              "    <tr>\n",
              "      <th>9</th>\n",
              "      <td>Indonesia</td>\n",
              "      <td>Indonesia</td>\n",
              "      <td>PROPN</td>\n",
              "      <td>NNP</td>\n",
              "      <td>pobj</td>\n",
              "      <td>Xxxxx</td>\n",
              "      <td>True</td>\n",
              "      <td>False</td>\n",
              "    </tr>\n",
              "  </tbody>\n",
              "</table>\n",
              "</div>"
            ],
            "text/plain": [
              "            text          lemma    pos  tag       dep  shape  alpha   stop\n",
              "0  Databangalore  Databangalore  PROPN  NNP  compound  Xxxxx   True  False\n",
              "1       Bootcamp       Bootcamp  PROPN  NNP     nsubj  Xxxxx   True  False\n",
              "2             is             be    AUX  VBZ      ROOT     xx   True   True\n",
              "3           good           good    ADJ   JJ     acomp   xxxx   True  False\n",
              "4            for            for    ADP   IN      prep    xxx   True   True\n",
              "5       learning          learn   VERB  VBG     pcomp   xxxx   True  False\n",
              "6           data           data   NOUN   NN  compound   xxxx   True  False\n",
              "7        science        science   NOUN   NN      dobj   xxxx   True  False\n",
              "8             in             in    ADP   IN      prep     xx   True   True\n",
              "9      Indonesia      Indonesia  PROPN  NNP      pobj  Xxxxx   True  False"
            ]
          },
          "metadata": {},
          "execution_count": 40
        }
      ]
    },
    {
      "cell_type": "markdown",
      "metadata": {
        "id": "kCkIsHath2qE"
      },
      "source": [
        "## Lemmatization\n",
        "Mengubah kata ke bentuk dasar"
      ]
    },
    {
      "cell_type": "code",
      "metadata": {
        "colab": {
          "base_uri": "https://localhost:8080/"
        },
        "id": "2E-NWeGrh6vz",
        "outputId": "22b6f1fd-7fb1-4d51-e551-551087636d3b"
      },
      "source": [
        "nlp = spacy.load(\"en_core_web_sm\")\n",
        "\n",
        "# Untuk mengecek tipe lemmatizer yang dipakai\n",
        "lemmatizer = nlp.get_pipe(\"lemmatizer\")\n",
        "print(lemmatizer.mode) # rule-based lemmatizer\n",
        "\n",
        "doc = nlp(\"I was reading the paper.\")\n",
        "print([token.lemma_ for token in doc])"
      ],
      "execution_count": null,
      "outputs": [
        {
          "output_type": "stream",
          "text": [
            "rule\n",
            "['I', 'be', 'read', 'the', 'paper', '.']\n"
          ],
          "name": "stdout"
        }
      ]
    },
    {
      "cell_type": "markdown",
      "metadata": {
        "id": "DndtYUf9ZmTO"
      },
      "source": [
        "## Named-Entity-Recognition\n",
        "NER merupakan task untuk mencari dan mengkategorikan entitas yang bernama dalam sebuah teks ke dalam berbagai kategori seperti nama orang, organisasi, nama lokasi, persentasi, tanggal dll."
      ]
    },
    {
      "cell_type": "code",
      "metadata": {
        "colab": {
          "base_uri": "https://localhost:8080/",
          "height": 90
        },
        "id": "4xCS324MbIaR",
        "outputId": "a46b0698-fa41-4cd5-9eb0-c5905551a407"
      },
      "source": [
        "nlp = spacy.load(\"en_core_web_sm\")\n",
        "doc_ent = nlp(\"President of Indonesia, Ir. Joko Widodo, will announce an important information in Istana Merdeka pada tahun jam 17:00\")\n",
        "\n",
        "displacy.render(doc, style=\"ent\", jupyter=True)"
      ],
      "execution_count": null,
      "outputs": [
        {
          "output_type": "stream",
          "text": [
            "UserWarning: [W006] No entities to visualize found in Doc object. If this is surprising to you, make sure the Doc was processed using a model that supports named entity recognition, and check the `doc.ents` property manually if necessary. [__init__.py:191]\n"
          ],
          "name": "stderr"
        },
        {
          "output_type": "display_data",
          "data": {
            "text/html": [
              "<span class=\"tex2jax_ignore\"><div class=\"entities\" style=\"line-height: 2.5; direction: ltr\">I was reading the paper.</div></span>"
            ],
            "text/plain": [
              "<IPython.core.display.HTML object>"
            ]
          },
          "metadata": {}
        }
      ]
    },
    {
      "cell_type": "markdown",
      "metadata": {
        "id": "dhXM2ZHehfjo"
      },
      "source": [
        "Kita lihat dalam bentuk tabel"
      ]
    },
    {
      "cell_type": "code",
      "metadata": {
        "colab": {
          "base_uri": "https://localhost:8080/",
          "height": 175
        },
        "id": "uyfPoHfkdVgH",
        "outputId": "520e7b49-a8fd-436c-c07b-87174f95091b"
      },
      "source": [
        "fields = [\"text\", \"start\", \"end\", \"label\"]\n",
        "\n",
        "with open(\"ent.csv\", \"w\") as ent_csv:\n",
        "    # Masukkan field/kolom dari csv\n",
        "    ent_csv.write(\",\".join(fields) + \"\\n\")\n",
        "\n",
        "    # Print hasil analisis ke dalam file csv\n",
        "    for ent in doc_ent.ents:\n",
        "        print(ent.text, ent.start_char, ent.end_char, ent.label_,\n",
        "              file=ent_csv, sep=\",\", end=\"\\n\")\n",
        "\n",
        "# Buka file csv yang sudah dibuat\n",
        "ent_df = pd.read_csv(\"ent.csv\")\n",
        "ent_df"
      ],
      "execution_count": null,
      "outputs": [
        {
          "output_type": "execute_result",
          "data": {
            "text/html": [
              "<div>\n",
              "<style scoped>\n",
              "    .dataframe tbody tr th:only-of-type {\n",
              "        vertical-align: middle;\n",
              "    }\n",
              "\n",
              "    .dataframe tbody tr th {\n",
              "        vertical-align: top;\n",
              "    }\n",
              "\n",
              "    .dataframe thead th {\n",
              "        text-align: right;\n",
              "    }\n",
              "</style>\n",
              "<table border=\"1\" class=\"dataframe\">\n",
              "  <thead>\n",
              "    <tr style=\"text-align: right;\">\n",
              "      <th></th>\n",
              "      <th>text</th>\n",
              "      <th>start</th>\n",
              "      <th>end</th>\n",
              "      <th>label</th>\n",
              "    </tr>\n",
              "  </thead>\n",
              "  <tbody>\n",
              "    <tr>\n",
              "      <th>0</th>\n",
              "      <td>Indonesia</td>\n",
              "      <td>13</td>\n",
              "      <td>22</td>\n",
              "      <td>GPE</td>\n",
              "    </tr>\n",
              "    <tr>\n",
              "      <th>1</th>\n",
              "      <td>Joko Widodo</td>\n",
              "      <td>28</td>\n",
              "      <td>39</td>\n",
              "      <td>PERSON</td>\n",
              "    </tr>\n",
              "    <tr>\n",
              "      <th>2</th>\n",
              "      <td>Istana Merdeka</td>\n",
              "      <td>83</td>\n",
              "      <td>97</td>\n",
              "      <td>GPE</td>\n",
              "    </tr>\n",
              "    <tr>\n",
              "      <th>3</th>\n",
              "      <td>17:00</td>\n",
              "      <td>113</td>\n",
              "      <td>118</td>\n",
              "      <td>TIME</td>\n",
              "    </tr>\n",
              "  </tbody>\n",
              "</table>\n",
              "</div>"
            ],
            "text/plain": [
              "             text  start  end   label\n",
              "0       Indonesia     13   22     GPE\n",
              "1     Joko Widodo     28   39  PERSON\n",
              "2  Istana Merdeka     83   97     GPE\n",
              "3           17:00    113  118    TIME"
            ]
          },
          "metadata": {},
          "execution_count": 43
        }
      ]
    },
    {
      "cell_type": "markdown",
      "metadata": {
        "id": "aAnEJXGJiEw3"
      },
      "source": [
        "## Word vectors Similarity\n",
        "spaCy sudah memiliki representasi vektor untuk setiap kata yang ada dalam korpusnya. Vektor tersebut bisa kita pakai untuk mencari kata dengan arti yang mirip."
      ]
    },
    {
      "cell_type": "markdown",
      "metadata": {
        "id": "9aLRYJRBliyd"
      },
      "source": [
        "Mengetahui vektor dalam kata"
      ]
    },
    {
      "cell_type": "code",
      "metadata": {
        "colab": {
          "base_uri": "https://localhost:8080/"
        },
        "id": "dxC_MxwuiGas",
        "outputId": "5f77f576-225e-409e-ed86-38e5f000851f"
      },
      "source": [
        "nlp = spacy.load(\"en_core_web_md\")\n",
        "tokens = nlp(\"dog cat banana afskfsd\")\n",
        "\n",
        "for token in tokens:\n",
        "    print(token.text, token.has_vector, token.vector_norm, token.is_oov)"
      ],
      "execution_count": null,
      "outputs": [
        {
          "output_type": "stream",
          "text": [
            "dog True 7.0336733 False\n",
            "cat True 6.6808186 False\n",
            "banana True 6.700014 False\n",
            "afskfsd False 0.0 True\n"
          ],
          "name": "stdout"
        }
      ]
    },
    {
      "cell_type": "markdown",
      "metadata": {
        "id": "BtToC4rNmq33"
      },
      "source": [
        "Mencari tingkat kemiripan antar kata"
      ]
    },
    {
      "cell_type": "code",
      "metadata": {
        "colab": {
          "base_uri": "https://localhost:8080/"
        },
        "id": "aJyRewMLmsz_",
        "outputId": "dd64efc4-0682-4a50-9da2-ae1e480fc778"
      },
      "source": [
        "print(\"{} <-> {} : {}\".format(\n",
        "    tokens[0], tokens[1], tokens[0].similarity(tokens[1])))"
      ],
      "execution_count": null,
      "outputs": [
        {
          "output_type": "stream",
          "text": [
            "dog <-> cat : 0.8016854524612427\n"
          ],
          "name": "stdout"
        }
      ]
    },
    {
      "cell_type": "markdown",
      "metadata": {
        "id": "p2Jdv-G1lljt"
      },
      "source": [
        "Mencari tingkat kemiripan antar kalimat"
      ]
    },
    {
      "cell_type": "code",
      "metadata": {
        "colab": {
          "base_uri": "https://localhost:8080/"
        },
        "id": "8g0i_EJDlpfI",
        "outputId": "46e3ca60-92d7-49f7-c12a-4f0f556b1fa1"
      },
      "source": [
        "doc1 = nlp(\"Data science is an interdisciplinary field that uses scientific methods,\"\n",
        "           \"processes, algorithms and systems to extract knowledge and insights from\"\n",
        "           \"structured and unstructured data, and apply knowledge and actionable\"\n",
        "           \"insights from data across a broad range of application domains. Data science\"\n",
        "           \"is related to data mining, machine learning and big data.\")\n",
        "\n",
        "doc2 = nlp(\"Data science is the field of study that combines domain expertise,\"\n",
        "            \"programming skills, and knowledge of mathematics and statistics to \"\n",
        "            \"extract meaningful insights from data.\")\n",
        "\n",
        "print(\"Similarity Rate: {}\".format(doc1.similarity(doc2)))"
      ],
      "execution_count": null,
      "outputs": [
        {
          "output_type": "stream",
          "text": [
            "Similarity Rate: 0.9679645334572656\n"
          ],
          "name": "stdout"
        }
      ]
    }
  ]
}